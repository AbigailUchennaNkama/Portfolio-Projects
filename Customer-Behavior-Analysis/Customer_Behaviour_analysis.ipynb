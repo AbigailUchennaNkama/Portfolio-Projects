{
 "cells": [
  {
   "cell_type": "markdown",
   "id": "bb807fe8",
   "metadata": {},
   "source": [
    "# CUSTOMER BEHAVIOR ANALYSIS"
   ]
  },
  {
   "cell_type": "markdown",
   "id": "9419bea8",
   "metadata": {},
   "source": [
    "Customer behavior analysis is a vital process that can provide businesses with valuable insights into their customers' behaviors and preferences. In this project, we will be analyzing the CDNOW dataset to determine customer buying patterns based on Recency, Frequency, and Monetary Value (RFM).\n",
    "\n",
    "**-** Using Python, we will perform RFM analysis to determine each customer's Recency, Frequency, and Monetary Value based on their transaction history. This analysis will help us understand how recently and how often customers make purchases, as well as the average amount they spend.\n",
    "\n",
    "**-** Next, we will use the K-Means algorithm to segment customers into groups based on their RFM scores. This segmentation will help us identify distinct customer groups and tailor marketing strategies and promotions to each group's specific needs and preferences.\n",
    "\n",
    "**-** We will also predict the probability of customer spending and the likelihood of their purchase using XGBRegressor and XGBClassifier. By predicting customer behavior, businesses can better understand their customers' needs and preferences and adjust their marketing strategies accordingly.\n",
    "\n",
    "**-** Finally, we will conduct cohort analysis to determine customer lifetime value (CLV) and measure the effectiveness of our marketing strategies. By analyzing customer behavior over time, we can gain insights into how our customer base changes and adapt our strategies to meet their evolving needs.\n",
    "\n",
    "Overall, this project will provide valuable insights into customer behavior, allowing businesses to improve customer engagement, retention, and revenue.\n"
   ]
  },
  {
   "cell_type": "code",
   "execution_count": 1,
   "id": "34019d9d",
   "metadata": {},
   "outputs": [],
   "source": [
    "# import relevant packages\n",
    "import numpy as np\n",
    "import pandas as pd\n",
    "import matplotlib.pyplot as plt\n",
    "import seaborn as sns\n",
    "import plotly.express as px\n",
    "import plotly.graph_objs as go\n",
    "import warnings\n",
    "warnings.filterwarnings(\"ignore\") \n",
    "%matplotlib inline\n",
    "from sklearn import preprocessing\n",
    "import joblib\n",
    "import plydata.cat_tools as cat\n",
    "import plotnine as pn\n",
    "from xgboost import XGBClassifier, XGBRegressor\n",
    "from sklearn.model_selection import GridSearchCV\n",
    "from sklearn.preprocessing import StandardScaler\n",
    "from sklearn.cluster import KMeans\n",
    "from sklearn.decomposition import PCA\n"
   ]
  },
  {
   "cell_type": "code",
   "execution_count": 2,
   "id": "752ab4e2",
   "metadata": {},
   "outputs": [],
   "source": [
    "df = pd.read_csv(\"cdnow.csv\")"
   ]
  },
  {
   "cell_type": "markdown",
   "id": "5f07f8c5",
   "metadata": {},
   "source": [
    "## Customer Segmentation "
   ]
  },
  {
   "cell_type": "markdown",
   "id": "e9a4477b",
   "metadata": {},
   "source": [
    "We segment the customers into groups of certain similarities to get a broad view of customers spread. Then we can begin to answer some business questions"
   ]
  },
  {
   "cell_type": "code",
   "execution_count": 3,
   "id": "15ec98f8",
   "metadata": {},
   "outputs": [
    {
     "name": "stdout",
     "output_type": "stream",
     "text": [
      "<class 'pandas.core.frame.DataFrame'>\n",
      "RangeIndex: 69659 entries, 0 to 69658\n",
      "Data columns (total 5 columns):\n",
      " #   Column       Non-Null Count  Dtype         \n",
      "---  ------       --------------  -----         \n",
      " 0   Unnamed: 0   69659 non-null  int64         \n",
      " 1   customer_id  69659 non-null  int64         \n",
      " 2   date         69659 non-null  datetime64[ns]\n",
      " 3   quantity     69659 non-null  int64         \n",
      " 4   price        69659 non-null  float64       \n",
      "dtypes: datetime64[ns](1), float64(1), int64(3)\n",
      "memory usage: 2.7 MB\n"
     ]
    }
   ],
   "source": [
    "df = df.assign(date = lambda x: pd.to_datetime(x[\"date\"])).dropna()\n",
    "df.info()"
   ]
  },
  {
   "cell_type": "code",
   "execution_count": 4,
   "id": "92791e39",
   "metadata": {},
   "outputs": [],
   "source": [
    "df.drop(\"Unnamed: 0\",axis=1, inplace = True)"
   ]
  },
  {
   "cell_type": "markdown",
   "id": "5bcfac5c",
   "metadata": {},
   "source": [
    "### RFM Analysis"
   ]
  },
  {
   "cell_type": "markdown",
   "id": "cb161e02",
   "metadata": {},
   "source": [
    "RFM analysis is a marketing technique used to analyze customer behavior based on three factors: \n",
    "Recency, Frequency, and Monetary value of purchases. \n",
    "It helps businesses identify their most valuable customers and design targeted marketing \n",
    "strategies."
   ]
  },
  {
   "cell_type": "code",
   "execution_count": 5,
   "id": "59eed7e7",
   "metadata": {},
   "outputs": [],
   "source": [
    "#make recency(OrderDate) from behind data\n",
    "\n",
    "max_date = df[\"date\"].max()"
   ]
  },
  {
   "cell_type": "code",
   "execution_count": 6,
   "id": "9b70c975",
   "metadata": {},
   "outputs": [],
   "source": [
    "recency_features_df = df[[\"customer_id\", \"date\"]] \\\n",
    "        .groupby(\"customer_id\") \\\n",
    "        .apply(lambda x: (x[\"date\"].max()-max_date) / pd.to_timedelta(1, \"day\")) \\\n",
    "        .to_frame().set_axis([\"recency\"], axis=1)\n"
   ]
  },
  {
   "cell_type": "code",
   "execution_count": 7,
   "id": "13729f9d",
   "metadata": {},
   "outputs": [],
   "source": [
    "#Make price (MonetaryValue) features from lower data\n",
    "\n",
    "price_feature_df = df[[\"customer_id\",\"date\",\"price\"]] \\\n",
    "        .groupby(\"customer_id\") \\\n",
    "        .aggregate( {\"price\": \"sum\"}) \\\n",
    "        .set_axis([\"money_value\"],axis=1)"
   ]
  },
  {
   "cell_type": "code",
   "execution_count": 8,
   "id": "258b6025",
   "metadata": {},
   "outputs": [],
   "source": [
    "# Make Frequency (count) features from lower data\n",
    "\n",
    "frequency_features_df = df[[\"customer_id\",\"date\"]] \\\n",
    "        .groupby(\"customer_id\") \\\n",
    "        .count() \\\n",
    "        .set_axis([\"frequency\"], axis=1)"
   ]
  },
  {
   "cell_type": "code",
   "execution_count": 9,
   "id": "47a4d789",
   "metadata": {},
   "outputs": [],
   "source": [
    "# Combine features\n",
    "\n",
    "rfm_df = pd.concat([recency_features_df,frequency_features_df,price_feature_df],axis=1) "
   ]
  },
  {
   "cell_type": "code",
   "execution_count": 10,
   "id": "8e0d3115",
   "metadata": {},
   "outputs": [
    {
     "data": {
      "text/html": [
       "<div>\n",
       "<style scoped>\n",
       "    .dataframe tbody tr th:only-of-type {\n",
       "        vertical-align: middle;\n",
       "    }\n",
       "\n",
       "    .dataframe tbody tr th {\n",
       "        vertical-align: top;\n",
       "    }\n",
       "\n",
       "    .dataframe thead th {\n",
       "        text-align: right;\n",
       "    }\n",
       "</style>\n",
       "<table border=\"1\" class=\"dataframe\">\n",
       "  <thead>\n",
       "    <tr style=\"text-align: right;\">\n",
       "      <th></th>\n",
       "      <th>recency</th>\n",
       "      <th>frequency</th>\n",
       "      <th>money_value</th>\n",
       "    </tr>\n",
       "    <tr>\n",
       "      <th>customer_id</th>\n",
       "      <th></th>\n",
       "      <th></th>\n",
       "      <th></th>\n",
       "    </tr>\n",
       "  </thead>\n",
       "  <tbody>\n",
       "    <tr>\n",
       "      <th>1</th>\n",
       "      <td>-545.0</td>\n",
       "      <td>1</td>\n",
       "      <td>11.77</td>\n",
       "    </tr>\n",
       "    <tr>\n",
       "      <th>2</th>\n",
       "      <td>-534.0</td>\n",
       "      <td>2</td>\n",
       "      <td>89.00</td>\n",
       "    </tr>\n",
       "    <tr>\n",
       "      <th>3</th>\n",
       "      <td>-33.0</td>\n",
       "      <td>6</td>\n",
       "      <td>156.46</td>\n",
       "    </tr>\n",
       "  </tbody>\n",
       "</table>\n",
       "</div>"
      ],
      "text/plain": [
       "             recency  frequency  money_value\n",
       "customer_id                                 \n",
       "1             -545.0          1        11.77\n",
       "2             -534.0          2        89.00\n",
       "3              -33.0          6       156.46"
      ]
     },
     "execution_count": 10,
     "metadata": {},
     "output_type": "execute_result"
    }
   ],
   "source": [
    "rfm_df.head(3)"
   ]
  },
  {
   "cell_type": "markdown",
   "id": "75af984c",
   "metadata": {},
   "source": [
    "### K-Means Clustering"
   ]
  },
  {
   "cell_type": "code",
   "execution_count": 11,
   "id": "833f7715",
   "metadata": {},
   "outputs": [],
   "source": [
    "# scale the dataframe\n",
    "scaler = StandardScaler()\n",
    "scaled_df = scaler.fit_transform(rfm_df)"
   ]
  },
  {
   "cell_type": "markdown",
   "id": "30e4333c",
   "metadata": {},
   "source": [
    "First, we run a range of different K-values to find the optimal K"
   ]
  },
  {
   "cell_type": "code",
   "execution_count": 12,
   "id": "37327065",
   "metadata": {},
   "outputs": [
    {
     "data": {
      "text/plain": [
       "[70709.99999999994,\n",
       " 41170.076154314804,\n",
       " 27158.24888288765,\n",
       " 18061.018831061745,\n",
       " 13971.250214546948,\n",
       " 11641.263198850851,\n",
       " 9971.319300013189,\n",
       " 8647.475217968538,\n",
       " 7784.720600877558,\n",
       " 7130.534375570369]"
      ]
     },
     "execution_count": 12,
     "metadata": {},
     "output_type": "execute_result"
    }
   ],
   "source": [
    "inertia = []\n",
    "val_range = range(1,11)\n",
    "for i in val_range:\n",
    "    kmean = KMeans(n_clusters=i)\n",
    "    kmean.fit(pd.DataFrame(scaled_df))\n",
    "    inertia.append(kmean.inertia_)\n",
    "\n",
    "inertia"
   ]
  },
  {
   "cell_type": "code",
   "execution_count": 13,
   "id": "64ce70b1",
   "metadata": {},
   "outputs": [
    {
     "data": {
      "image/png": "[encoded data removed]",
      "text/plain": [
       "<Figure size 640x480 with 1 Axes>"
      ]
     },
     "metadata": {},
     "output_type": "display_data"
    }
   ],
   "source": [
    "plt.plot(val_range,inertia,'bo-')\n",
    "plt.xlabel('K-Values') \n",
    "plt.ylabel('Inertia') \n",
    "plt.title('The Elbow Method') \n",
    "plt.show()"
   ]
  },
  {
   "cell_type": "markdown",
   "id": "b6949f56",
   "metadata": {},
   "source": [
    " Initializes a KMeans object with optimum K-value (K=5) "
   ]
  },
  {
   "cell_type": "code",
   "execution_count": 14,
   "id": "ca8d1687",
   "metadata": {},
   "outputs": [
    {
     "data": {
      "text/plain": [
       "18061.028084283418"
      ]
     },
     "execution_count": 14,
     "metadata": {},
     "output_type": "execute_result"
    }
   ],
   "source": [
    "kmeans = KMeans(n_clusters=4, random_state=42)           \n",
    "kmeans.fit_predict(scaled_df)         \n",
    "labels = kmeans.labels_\n",
    "kmeans.inertia_"
   ]
  },
  {
   "cell_type": "markdown",
   "id": "23a374e0",
   "metadata": {},
   "source": [
    "Let's plot view the clusters using PCA.\n",
    "We use PCA to reduce the number of dimensions,i.e, the number of columns down to two. "
   ]
  },
  {
   "cell_type": "code",
   "execution_count": 15,
   "id": "3e160c86",
   "metadata": {},
   "outputs": [
    {
     "data": {
      "text/html": [
       "<div>\n",
       "<style scoped>\n",
       "    .dataframe tbody tr th:only-of-type {\n",
       "        vertical-align: middle;\n",
       "    }\n",
       "\n",
       "    .dataframe tbody tr th {\n",
       "        vertical-align: top;\n",
       "    }\n",
       "\n",
       "    .dataframe thead th {\n",
       "        text-align: right;\n",
       "    }\n",
       "</style>\n",
       "<table border=\"1\" class=\"dataframe\">\n",
       "  <thead>\n",
       "    <tr style=\"text-align: right;\">\n",
       "      <th></th>\n",
       "      <th>PCA1</th>\n",
       "      <th>PCA2</th>\n",
       "    </tr>\n",
       "  </thead>\n",
       "  <tbody>\n",
       "    <tr>\n",
       "      <th>0</th>\n",
       "      <td>-0.973699</td>\n",
       "      <td>0.574309</td>\n",
       "    </tr>\n",
       "    <tr>\n",
       "      <th>1</th>\n",
       "      <td>-0.616463</td>\n",
       "      <td>0.715440</td>\n",
       "    </tr>\n",
       "    <tr>\n",
       "      <th>2</th>\n",
       "      <td>1.427873</td>\n",
       "      <td>-1.347354</td>\n",
       "    </tr>\n",
       "    <tr>\n",
       "      <th>3</th>\n",
       "      <td>0.573200</td>\n",
       "      <td>-0.755073</td>\n",
       "    </tr>\n",
       "    <tr>\n",
       "      <th>4</th>\n",
       "      <td>2.284039</td>\n",
       "      <td>0.016922</td>\n",
       "    </tr>\n",
       "    <tr>\n",
       "      <th>...</th>\n",
       "      <td>...</td>\n",
       "      <td>...</td>\n",
       "    </tr>\n",
       "    <tr>\n",
       "      <th>23565</th>\n",
       "      <td>-0.690681</td>\n",
       "      <td>0.224453</td>\n",
       "    </tr>\n",
       "    <tr>\n",
       "      <th>23566</th>\n",
       "      <td>-0.728486</td>\n",
       "      <td>0.196347</td>\n",
       "    </tr>\n",
       "    <tr>\n",
       "      <th>23567</th>\n",
       "      <td>-0.133107</td>\n",
       "      <td>0.349569</td>\n",
       "    </tr>\n",
       "    <tr>\n",
       "      <th>23568</th>\n",
       "      <td>-0.716488</td>\n",
       "      <td>0.205267</td>\n",
       "    </tr>\n",
       "    <tr>\n",
       "      <th>23569</th>\n",
       "      <td>-0.408368</td>\n",
       "      <td>0.377384</td>\n",
       "    </tr>\n",
       "  </tbody>\n",
       "</table>\n",
       "<p>23570 rows × 2 columns</p>\n",
       "</div>"
      ],
      "text/plain": [
       "           PCA1      PCA2\n",
       "0     -0.973699  0.574309\n",
       "1     -0.616463  0.715440\n",
       "2      1.427873 -1.347354\n",
       "3      0.573200 -0.755073\n",
       "4      2.284039  0.016922\n",
       "...         ...       ...\n",
       "23565 -0.690681  0.224453\n",
       "23566 -0.728486  0.196347\n",
       "23567 -0.133107  0.349569\n",
       "23568 -0.716488  0.205267\n",
       "23569 -0.408368  0.377384\n",
       "\n",
       "[23570 rows x 2 columns]"
      ]
     },
     "execution_count": 15,
     "metadata": {},
     "output_type": "execute_result"
    }
   ],
   "source": [
    "pca = PCA(n_components=2)\n",
    "principal_components = pca.fit_transform(scaled_df)\n",
    "pca_df = pd.DataFrame(data=principal_components ,columns=[\"PCA1\",\"PCA2\"])\n",
    "pca_df"
   ]
  },
  {
   "cell_type": "code",
   "execution_count": 16,
   "id": "ef040ac6",
   "metadata": {},
   "outputs": [
    {
     "data": {
      "text/html": [
       "<div>\n",
       "<style scoped>\n",
       "    .dataframe tbody tr th:only-of-type {\n",
       "        vertical-align: middle;\n",
       "    }\n",
       "\n",
       "    .dataframe tbody tr th {\n",
       "        vertical-align: top;\n",
       "    }\n",
       "\n",
       "    .dataframe thead th {\n",
       "        text-align: right;\n",
       "    }\n",
       "</style>\n",
       "<table border=\"1\" class=\"dataframe\">\n",
       "  <thead>\n",
       "    <tr style=\"text-align: right;\">\n",
       "      <th></th>\n",
       "      <th>PCA1</th>\n",
       "      <th>PCA2</th>\n",
       "      <th>cluster</th>\n",
       "    </tr>\n",
       "  </thead>\n",
       "  <tbody>\n",
       "    <tr>\n",
       "      <th>0</th>\n",
       "      <td>-0.973699</td>\n",
       "      <td>0.574309</td>\n",
       "      <td>0</td>\n",
       "    </tr>\n",
       "    <tr>\n",
       "      <th>1</th>\n",
       "      <td>-0.616463</td>\n",
       "      <td>0.715440</td>\n",
       "      <td>0</td>\n",
       "    </tr>\n",
       "    <tr>\n",
       "      <th>2</th>\n",
       "      <td>1.427873</td>\n",
       "      <td>-1.347354</td>\n",
       "      <td>1</td>\n",
       "    </tr>\n",
       "    <tr>\n",
       "      <th>3</th>\n",
       "      <td>0.573200</td>\n",
       "      <td>-0.755073</td>\n",
       "      <td>1</td>\n",
       "    </tr>\n",
       "    <tr>\n",
       "      <th>4</th>\n",
       "      <td>2.284039</td>\n",
       "      <td>0.016922</td>\n",
       "      <td>1</td>\n",
       "    </tr>\n",
       "    <tr>\n",
       "      <th>...</th>\n",
       "      <td>...</td>\n",
       "      <td>...</td>\n",
       "      <td>...</td>\n",
       "    </tr>\n",
       "    <tr>\n",
       "      <th>23565</th>\n",
       "      <td>-0.690681</td>\n",
       "      <td>0.224453</td>\n",
       "      <td>0</td>\n",
       "    </tr>\n",
       "    <tr>\n",
       "      <th>23566</th>\n",
       "      <td>-0.728486</td>\n",
       "      <td>0.196347</td>\n",
       "      <td>0</td>\n",
       "    </tr>\n",
       "    <tr>\n",
       "      <th>23567</th>\n",
       "      <td>-0.133107</td>\n",
       "      <td>0.349569</td>\n",
       "      <td>0</td>\n",
       "    </tr>\n",
       "    <tr>\n",
       "      <th>23568</th>\n",
       "      <td>-0.716488</td>\n",
       "      <td>0.205267</td>\n",
       "      <td>0</td>\n",
       "    </tr>\n",
       "    <tr>\n",
       "      <th>23569</th>\n",
       "      <td>-0.408368</td>\n",
       "      <td>0.377384</td>\n",
       "      <td>0</td>\n",
       "    </tr>\n",
       "  </tbody>\n",
       "</table>\n",
       "<p>23570 rows × 3 columns</p>\n",
       "</div>"
      ],
      "text/plain": [
       "           PCA1      PCA2  cluster\n",
       "0     -0.973699  0.574309        0\n",
       "1     -0.616463  0.715440        0\n",
       "2      1.427873 -1.347354        1\n",
       "3      0.573200 -0.755073        1\n",
       "4      2.284039  0.016922        1\n",
       "...         ...       ...      ...\n",
       "23565 -0.690681  0.224453        0\n",
       "23566 -0.728486  0.196347        0\n",
       "23567 -0.133107  0.349569        0\n",
       "23568 -0.716488  0.205267        0\n",
       "23569 -0.408368  0.377384        0\n",
       "\n",
       "[23570 rows x 3 columns]"
      ]
     },
     "execution_count": 16,
     "metadata": {},
     "output_type": "execute_result"
    }
   ],
   "source": [
    "pca_df[\"cluster\"] = labels\n",
    "pca_df"
   ]
  },
  {
   "cell_type": "code",
   "execution_count": 17,
   "id": "7794d5e3",
   "metadata": {},
   "outputs": [
    {
     "data": {
      "image/png": "[encoded data removed]",
      "text/plain": [
       "<Figure size 800x400 with 1 Axes>"
      ]
     },
     "metadata": {},
     "output_type": "display_data"
    }
   ],
   "source": [
    "# plot the clusters\n",
    "plt.figure(figsize=(8,4))\n",
    "ax = sns.scatterplot(x=\"PCA1\", y=\"PCA2\", hue=\"cluster\", data=pca_df, \\\n",
    "                     palette=['red', 'green', 'blue', 'black'], s=50)\n",
    "plt.title(\"Clustering using K-Means Algorithm\")\n",
    "plt.show()"
   ]
  },
  {
   "cell_type": "code",
   "execution_count": 18,
   "id": "8e0fb7a8",
   "metadata": {},
   "outputs": [],
   "source": [
    "# add the the labels to rfm_df to see each customer and their corresponding label/group.\n",
    "clustered_df = rfm_df.copy()\n",
    "clustered_df[\"cluster\"] = labels"
   ]
  },
  {
   "cell_type": "code",
   "execution_count": 19,
   "id": "e0570c2f",
   "metadata": {
    "scrolled": true
   },
   "outputs": [
    {
     "data": {
      "text/html": [
       "<div>\n",
       "<style scoped>\n",
       "    .dataframe tbody tr th:only-of-type {\n",
       "        vertical-align: middle;\n",
       "    }\n",
       "\n",
       "    .dataframe tbody tr th {\n",
       "        vertical-align: top;\n",
       "    }\n",
       "\n",
       "    .dataframe thead th {\n",
       "        text-align: right;\n",
       "    }\n",
       "</style>\n",
       "<table border=\"1\" class=\"dataframe\">\n",
       "  <thead>\n",
       "    <tr style=\"text-align: right;\">\n",
       "      <th></th>\n",
       "      <th>recency</th>\n",
       "      <th>frequency</th>\n",
       "      <th>money_value</th>\n",
       "    </tr>\n",
       "    <tr>\n",
       "      <th>cluster</th>\n",
       "      <th></th>\n",
       "      <th></th>\n",
       "      <th></th>\n",
       "    </tr>\n",
       "  </thead>\n",
       "  <tbody>\n",
       "    <tr>\n",
       "      <th>0</th>\n",
       "      <td>-483.431710</td>\n",
       "      <td>1.378380</td>\n",
       "      <td>42.867019</td>\n",
       "    </tr>\n",
       "    <tr>\n",
       "      <th>1</th>\n",
       "      <td>-129.206787</td>\n",
       "      <td>4.875435</td>\n",
       "      <td>164.788387</td>\n",
       "    </tr>\n",
       "    <tr>\n",
       "      <th>2</th>\n",
       "      <td>-59.056851</td>\n",
       "      <td>18.438776</td>\n",
       "      <td>885.288207</td>\n",
       "    </tr>\n",
       "    <tr>\n",
       "      <th>3</th>\n",
       "      <td>-48.833333</td>\n",
       "      <td>114.000000</td>\n",
       "      <td>5731.975833</td>\n",
       "    </tr>\n",
       "  </tbody>\n",
       "</table>\n",
       "</div>"
      ],
      "text/plain": [
       "            recency   frequency  money_value\n",
       "cluster                                     \n",
       "0       -483.431710    1.378380    42.867019\n",
       "1       -129.206787    4.875435   164.788387\n",
       "2        -59.056851   18.438776   885.288207\n",
       "3        -48.833333  114.000000  5731.975833"
      ]
     },
     "execution_count": 19,
     "metadata": {},
     "output_type": "execute_result"
    }
   ],
   "source": [
    "# check the mean of each feature for each group\n",
    "clustered_df.groupby(\"cluster\").mean()"
   ]
  },
  {
   "cell_type": "code",
   "execution_count": 20,
   "id": "150aeffc",
   "metadata": {},
   "outputs": [],
   "source": [
    "def get_status(row):\n",
    "    if row[\"cluster\"] == 0:\n",
    "        return \"Losing\"\n",
    "    elif row[\"cluster\"] == 1:\n",
    "        return \"average\"\n",
    "    elif row[\"cluster\"] == 2:\n",
    "        return \"loyal\"\n",
    "    else:\n",
    "        return \"VIP\"\n",
    "      \n",
    "clustered_df[\"Cus_status\"] = clustered_df.apply(get_status,axis=1)"
   ]
  },
  {
   "cell_type": "code",
   "execution_count": 21,
   "id": "3772045f",
   "metadata": {},
   "outputs": [
    {
     "data": {
      "text/html": [
       "<div>\n",
       "<style scoped>\n",
       "    .dataframe tbody tr th:only-of-type {\n",
       "        vertical-align: middle;\n",
       "    }\n",
       "\n",
       "    .dataframe tbody tr th {\n",
       "        vertical-align: top;\n",
       "    }\n",
       "\n",
       "    .dataframe thead th {\n",
       "        text-align: right;\n",
       "    }\n",
       "</style>\n",
       "<table border=\"1\" class=\"dataframe\">\n",
       "  <thead>\n",
       "    <tr style=\"text-align: right;\">\n",
       "      <th></th>\n",
       "      <th>customer_id</th>\n",
       "      <th>recency</th>\n",
       "      <th>frequency</th>\n",
       "      <th>money_value</th>\n",
       "      <th>cluster</th>\n",
       "      <th>Cus_status</th>\n",
       "    </tr>\n",
       "  </thead>\n",
       "  <tbody>\n",
       "    <tr>\n",
       "      <th>0</th>\n",
       "      <td>1</td>\n",
       "      <td>-545.0</td>\n",
       "      <td>1</td>\n",
       "      <td>11.77</td>\n",
       "      <td>0</td>\n",
       "      <td>Losing</td>\n",
       "    </tr>\n",
       "    <tr>\n",
       "      <th>1</th>\n",
       "      <td>2</td>\n",
       "      <td>-534.0</td>\n",
       "      <td>2</td>\n",
       "      <td>89.00</td>\n",
       "      <td>0</td>\n",
       "      <td>Losing</td>\n",
       "    </tr>\n",
       "    <tr>\n",
       "      <th>2</th>\n",
       "      <td>3</td>\n",
       "      <td>-33.0</td>\n",
       "      <td>6</td>\n",
       "      <td>156.46</td>\n",
       "      <td>1</td>\n",
       "      <td>average</td>\n",
       "    </tr>\n",
       "  </tbody>\n",
       "</table>\n",
       "</div>"
      ],
      "text/plain": [
       "   customer_id  recency  frequency  money_value  cluster Cus_status\n",
       "0            1   -545.0          1        11.77        0     Losing\n",
       "1            2   -534.0          2        89.00        0     Losing\n",
       "2            3    -33.0          6       156.46        1    average"
      ]
     },
     "execution_count": 21,
     "metadata": {},
     "output_type": "execute_result"
    }
   ],
   "source": [
    "clustered_df = clustered_df.reset_index()\n",
    "clustered_df.head(3)"
   ]
  },
  {
   "cell_type": "code",
   "execution_count": 22,
   "id": "ace99b2b",
   "metadata": {},
   "outputs": [
    {
     "data": {
      "text/plain": [
       "Losing     15976\n",
       "average     6896\n",
       "loyal        686\n",
       "VIP           12\n",
       "Name: Cus_status, dtype: int64"
      ]
     },
     "execution_count": 22,
     "metadata": {},
     "output_type": "execute_result"
    }
   ],
   "source": [
    "clustered_df[\"Cus_status\"].value_counts()"
   ]
  },
  {
   "cell_type": "code",
   "execution_count": 23,
   "id": "f3d3e8b3",
   "metadata": {},
   "outputs": [
    {
     "data": {
      "image/png": "[encoded data removed]",
      "text/plain": [
       "<Figure size 640x480 with 1 Axes>"
      ]
     },
     "metadata": {},
     "output_type": "display_data"
    }
   ],
   "source": [
    "sns.countplot(x='Cus_status', data=clustered_df)\n",
    "plt.show()"
   ]
  },
  {
   "cell_type": "markdown",
   "id": "3f82878a",
   "metadata": {},
   "source": [
    "**Now we have identified different groups to which each customer belong and can therefore develop specific marketing strategies suitable for each group.**\n",
    "\n",
    "**However, We can further refine our dataset to obtain specific insights such as identifying the customer with the highest spend probability, predicting a customer's potential spending amount, recognizing missed opportunities, identifying customers who have made recent purchases but are unlikely to make more.\n",
    "These insights can support further investigations that generate meaningful information crucial for creating a successful and targeted marketing campaign.**"
   ]
  },
  {
   "cell_type": "markdown",
   "id": "ef7669eb",
   "metadata": {},
   "source": [
    "## Machine learning"
   ]
  },
  {
   "cell_type": "markdown",
   "id": "ef750a71",
   "metadata": {},
   "source": [
    "##### -What the customers spend in the next 90 days?(regression)\n",
    "##### -What is the probability of a customer to make a purchase in the next 90 days?(classification)"
   ]
  },
  {
   "cell_type": "code",
   "execution_count": 24,
   "id": "c5d87e6b",
   "metadata": {},
   "outputs": [
    {
     "name": "stdout",
     "output_type": "stream",
     "text": [
      "<class 'pandas.core.frame.DataFrame'>\n",
      "RangeIndex: 69659 entries, 0 to 69658\n",
      "Data columns (total 4 columns):\n",
      " #   Column       Non-Null Count  Dtype         \n",
      "---  ------       --------------  -----         \n",
      " 0   customer_id  69659 non-null  int64         \n",
      " 1   date         69659 non-null  datetime64[ns]\n",
      " 2   quantity     69659 non-null  int64         \n",
      " 3   price        69659 non-null  float64       \n",
      "dtypes: datetime64[ns](1), float64(1), int64(2)\n",
      "memory usage: 2.1 MB\n"
     ]
    }
   ],
   "source": [
    "df.info()"
   ]
  },
  {
   "cell_type": "code",
   "execution_count": 25,
   "id": "98bbf24b",
   "metadata": {},
   "outputs": [
    {
     "data": {
      "text/plain": [
       "array([23526,    65,  1160,  8897, 12146,  7786, 16729, 15871,   729,\n",
       "       11748, 10851, 20137,  6674, 18235,  1078, 14600,  2757, 18634,\n",
       "        6051, 17374])"
      ]
     },
     "execution_count": 25,
     "metadata": {},
     "output_type": "execute_result"
    }
   ],
   "source": [
    "# visualize: individual customer purchases\n",
    "\n",
    "ids = np.random.choice(df[\"customer_id\"],20)\n",
    "#selected_ids = ids[0:12]\n",
    "#selected_ids\n",
    "ids"
   ]
  },
  {
   "cell_type": "code",
   "execution_count": 26,
   "id": "fe8c0cf7",
   "metadata": {},
   "outputs": [],
   "source": [
    "cust_id_subset_df = df[df[\"customer_id\"].isin(ids)] \\\n",
    "                    .groupby ([\"customer_id\", \"date\"]) \\\n",
    "                    .sum() \\\n",
    "                    .reset_index()"
   ]
  },
  {
   "cell_type": "code",
   "execution_count": 27,
   "id": "139c11c1",
   "metadata": {},
   "outputs": [
    {
     "data": {
      "image/png": "[encoded data removed]",
      "text/plain": [
       "<Figure size 640x480 with 20 Axes>"
      ]
     },
     "metadata": {},
     "output_type": "display_data"
    },
    {
     "data": {
      "text/plain": [
       "<ggplot: (8726816129883)>"
      ]
     },
     "execution_count": 27,
     "metadata": {},
     "output_type": "execute_result"
    }
   ],
   "source": [
    "# create the plot\n",
    "(pn.ggplot(\n",
    "    data=cust_id_subset_df,\n",
    "    mapping=pn.aes(x=\"date\", y=\"price\", group=\"customer_id\")) \n",
    "    + pn.geom_line() \n",
    "    + pn.geom_point() \n",
    "    + pn.facet_wrap(\"customer_id\") \n",
    "    + pn.scale_x_date(date_breaks=\"2 year\", date_labels=\"%Y\")\n",
    ")"
   ]
  },
  {
   "cell_type": "code",
   "execution_count": 28,
   "id": "755cad8b",
   "metadata": {},
   "outputs": [],
   "source": [
    "n_days = 90\n",
    "max_order_date = df[\"date\"].max() \n",
    "cutoff = max_order_date - pd.to_timedelta(n_days, unit=\"d\")"
   ]
  },
  {
   "cell_type": "code",
   "execution_count": 29,
   "id": "b4a84470",
   "metadata": {},
   "outputs": [],
   "source": [
    "temporal_behind_df = df[df[\"date\"] <= cutoff]\n",
    "temporal_ahead_df = df[df[\"date\"] >= cutoff]"
   ]
  },
  {
   "cell_type": "code",
   "execution_count": 30,
   "id": "efb9cb30",
   "metadata": {},
   "outputs": [
    {
     "data": {
      "text/html": [
       "<div>\n",
       "<style scoped>\n",
       "    .dataframe tbody tr th:only-of-type {\n",
       "        vertical-align: middle;\n",
       "    }\n",
       "\n",
       "    .dataframe tbody tr th {\n",
       "        vertical-align: top;\n",
       "    }\n",
       "\n",
       "    .dataframe thead th {\n",
       "        text-align: right;\n",
       "    }\n",
       "</style>\n",
       "<table border=\"1\" class=\"dataframe\">\n",
       "  <thead>\n",
       "    <tr style=\"text-align: right;\">\n",
       "      <th></th>\n",
       "      <th>customer_id</th>\n",
       "      <th>date</th>\n",
       "      <th>quantity</th>\n",
       "      <th>price</th>\n",
       "    </tr>\n",
       "  </thead>\n",
       "  <tbody>\n",
       "    <tr>\n",
       "      <th>8</th>\n",
       "      <td>3</td>\n",
       "      <td>1998-05-28</td>\n",
       "      <td>1</td>\n",
       "      <td>16.99</td>\n",
       "    </tr>\n",
       "    <tr>\n",
       "      <th>38</th>\n",
       "      <td>9</td>\n",
       "      <td>1998-06-08</td>\n",
       "      <td>2</td>\n",
       "      <td>41.98</td>\n",
       "    </tr>\n",
       "    <tr>\n",
       "      <th>68</th>\n",
       "      <td>25</td>\n",
       "      <td>1998-04-17</td>\n",
       "      <td>1</td>\n",
       "      <td>12.99</td>\n",
       "    </tr>\n",
       "    <tr>\n",
       "      <th>69</th>\n",
       "      <td>25</td>\n",
       "      <td>1998-05-25</td>\n",
       "      <td>1</td>\n",
       "      <td>10.49</td>\n",
       "    </tr>\n",
       "    <tr>\n",
       "      <th>70</th>\n",
       "      <td>25</td>\n",
       "      <td>1998-06-03</td>\n",
       "      <td>3</td>\n",
       "      <td>24.97</td>\n",
       "    </tr>\n",
       "  </tbody>\n",
       "</table>\n",
       "</div>"
      ],
      "text/plain": [
       "    customer_id       date  quantity  price\n",
       "8             3 1998-05-28         1  16.99\n",
       "38            9 1998-06-08         2  41.98\n",
       "68           25 1998-04-17         1  12.99\n",
       "69           25 1998-05-25         1  10.49\n",
       "70           25 1998-06-03         3  24.97"
      ]
     },
     "execution_count": 30,
     "metadata": {},
     "output_type": "execute_result"
    }
   ],
   "source": [
    "temporal_ahead_df.head()"
   ]
  },
  {
   "cell_type": "code",
   "execution_count": 31,
   "id": "e6b481a8",
   "metadata": {},
   "outputs": [],
   "source": [
    "# make target from higher data\n",
    "targets_df = temporal_ahead_df.drop(\"quantity\", axis=1).groupby(\"customer_id\").sum() \\\n",
    "    .rename({\"price\":\"spend_90_total\"}, axis=1) \\\n",
    "    .assign(spend_90_flag = 1)"
   ]
  },
  {
   "cell_type": "code",
   "execution_count": 32,
   "id": "946e9988",
   "metadata": {},
   "outputs": [
    {
     "data": {
      "text/html": [
       "<div>\n",
       "<style scoped>\n",
       "    .dataframe tbody tr th:only-of-type {\n",
       "        vertical-align: middle;\n",
       "    }\n",
       "\n",
       "    .dataframe tbody tr th {\n",
       "        vertical-align: top;\n",
       "    }\n",
       "\n",
       "    .dataframe thead th {\n",
       "        text-align: right;\n",
       "    }\n",
       "</style>\n",
       "<table border=\"1\" class=\"dataframe\">\n",
       "  <thead>\n",
       "    <tr style=\"text-align: right;\">\n",
       "      <th></th>\n",
       "      <th>spend_90_total</th>\n",
       "      <th>spend_90_flag</th>\n",
       "    </tr>\n",
       "    <tr>\n",
       "      <th>customer_id</th>\n",
       "      <th></th>\n",
       "      <th></th>\n",
       "    </tr>\n",
       "  </thead>\n",
       "  <tbody>\n",
       "    <tr>\n",
       "      <th>3</th>\n",
       "      <td>16.99</td>\n",
       "      <td>1</td>\n",
       "    </tr>\n",
       "    <tr>\n",
       "      <th>9</th>\n",
       "      <td>41.98</td>\n",
       "      <td>1</td>\n",
       "    </tr>\n",
       "    <tr>\n",
       "      <th>25</th>\n",
       "      <td>73.43</td>\n",
       "      <td>1</td>\n",
       "    </tr>\n",
       "    <tr>\n",
       "      <th>29</th>\n",
       "      <td>48.45</td>\n",
       "      <td>1</td>\n",
       "    </tr>\n",
       "    <tr>\n",
       "      <th>31</th>\n",
       "      <td>117.99</td>\n",
       "      <td>1</td>\n",
       "    </tr>\n",
       "  </tbody>\n",
       "</table>\n",
       "</div>"
      ],
      "text/plain": [
       "             spend_90_total  spend_90_flag\n",
       "customer_id                               \n",
       "3                     16.99              1\n",
       "9                     41.98              1\n",
       "25                    73.43              1\n",
       "29                    48.45              1\n",
       "31                   117.99              1"
      ]
     },
     "execution_count": 32,
     "metadata": {},
     "output_type": "execute_result"
    }
   ],
   "source": [
    "targets_df.head()"
   ]
  },
  {
   "cell_type": "code",
   "execution_count": 33,
   "id": "ae4d0ecc",
   "metadata": {},
   "outputs": [],
   "source": [
    "#make recency(OrderDate) from behind data\n",
    "\n",
    "max_date = temporal_behind_df[\"date\"].max()"
   ]
  },
  {
   "cell_type": "code",
   "execution_count": 34,
   "id": "7813a586",
   "metadata": {},
   "outputs": [],
   "source": [
    "recency_features_df = temporal_behind_df[[\"customer_id\", \"date\"]] \\\n",
    "        .groupby(\"customer_id\") \\\n",
    "        .apply(lambda x: (x[\"date\"].max()-max_date) / pd.to_timedelta(1, \"day\")) \\\n",
    "        .to_frame().set_axis([\"recency\"], axis=1)\n"
   ]
  },
  {
   "cell_type": "code",
   "execution_count": 35,
   "id": "160501b8",
   "metadata": {},
   "outputs": [],
   "source": [
    "#recency_features_df.head()"
   ]
  },
  {
   "cell_type": "code",
   "execution_count": 36,
   "id": "5f63e5c7",
   "metadata": {},
   "outputs": [],
   "source": [
    "# Make Frequency (count) features from lower data\n",
    "\n",
    "frequency_features_df = temporal_behind_df[[\"customer_id\",\"date\"]] \\\n",
    "        .groupby(\"customer_id\") \\\n",
    "        .count() \\\n",
    "        .set_axis([\"frequency\"], axis=1)"
   ]
  },
  {
   "cell_type": "code",
   "execution_count": 37,
   "id": "30263e9a",
   "metadata": {},
   "outputs": [],
   "source": [
    "#Make price (MonetaryValue) features from lower data\n",
    "\n",
    "price_feature_df = temporal_behind_df[[\"customer_id\",\"date\",\"price\"]] \\\n",
    "        .groupby(\"customer_id\") \\\n",
    "        .aggregate( {\"price\": [\"sum\",\"mean\"]}) \\\n",
    "        .set_axis([\"Sales_sum\",\"Sales_mean\"],axis=1)"
   ]
  },
  {
   "cell_type": "code",
   "execution_count": 38,
   "id": "9b3bbad1",
   "metadata": {},
   "outputs": [],
   "source": [
    "# Combine features\n",
    "\n",
    "Features_df = pd.concat([recency_features_df,frequency_features_df,price_feature_df],axis=1) \\\n",
    "              .merge(targets_df,\n",
    "               left_index=True,\n",
    "               right_index = True,\n",
    "               how = \"left\") \\\n",
    "            .fillna(0)"
   ]
  },
  {
   "cell_type": "code",
   "execution_count": 39,
   "id": "b50dbabf",
   "metadata": {},
   "outputs": [
    {
     "data": {
      "text/html": [
       "<div>\n",
       "<style scoped>\n",
       "    .dataframe tbody tr th:only-of-type {\n",
       "        vertical-align: middle;\n",
       "    }\n",
       "\n",
       "    .dataframe tbody tr th {\n",
       "        vertical-align: top;\n",
       "    }\n",
       "\n",
       "    .dataframe thead th {\n",
       "        text-align: right;\n",
       "    }\n",
       "</style>\n",
       "<table border=\"1\" class=\"dataframe\">\n",
       "  <thead>\n",
       "    <tr style=\"text-align: right;\">\n",
       "      <th></th>\n",
       "      <th>recency</th>\n",
       "      <th>frequency</th>\n",
       "      <th>Sales_sum</th>\n",
       "      <th>Sales_mean</th>\n",
       "      <th>spend_90_total</th>\n",
       "      <th>spend_90_flag</th>\n",
       "    </tr>\n",
       "    <tr>\n",
       "      <th>customer_id</th>\n",
       "      <th></th>\n",
       "      <th></th>\n",
       "      <th></th>\n",
       "      <th></th>\n",
       "      <th></th>\n",
       "      <th></th>\n",
       "    </tr>\n",
       "  </thead>\n",
       "  <tbody>\n",
       "    <tr>\n",
       "      <th>1</th>\n",
       "      <td>-455.0</td>\n",
       "      <td>1</td>\n",
       "      <td>11.77</td>\n",
       "      <td>11.770000</td>\n",
       "      <td>0.00</td>\n",
       "      <td>0.0</td>\n",
       "    </tr>\n",
       "    <tr>\n",
       "      <th>2</th>\n",
       "      <td>-444.0</td>\n",
       "      <td>2</td>\n",
       "      <td>89.00</td>\n",
       "      <td>44.500000</td>\n",
       "      <td>0.00</td>\n",
       "      <td>0.0</td>\n",
       "    </tr>\n",
       "    <tr>\n",
       "      <th>3</th>\n",
       "      <td>-127.0</td>\n",
       "      <td>5</td>\n",
       "      <td>139.47</td>\n",
       "      <td>27.894000</td>\n",
       "      <td>16.99</td>\n",
       "      <td>1.0</td>\n",
       "    </tr>\n",
       "    <tr>\n",
       "      <th>4</th>\n",
       "      <td>-110.0</td>\n",
       "      <td>4</td>\n",
       "      <td>100.50</td>\n",
       "      <td>25.125000</td>\n",
       "      <td>0.00</td>\n",
       "      <td>0.0</td>\n",
       "    </tr>\n",
       "    <tr>\n",
       "      <th>5</th>\n",
       "      <td>-88.0</td>\n",
       "      <td>11</td>\n",
       "      <td>385.61</td>\n",
       "      <td>35.055455</td>\n",
       "      <td>0.00</td>\n",
       "      <td>0.0</td>\n",
       "    </tr>\n",
       "  </tbody>\n",
       "</table>\n",
       "</div>"
      ],
      "text/plain": [
       "             recency  frequency  Sales_sum  Sales_mean  spend_90_total  \\\n",
       "customer_id                                                              \n",
       "1             -455.0          1      11.77   11.770000            0.00   \n",
       "2             -444.0          2      89.00   44.500000            0.00   \n",
       "3             -127.0          5     139.47   27.894000           16.99   \n",
       "4             -110.0          4     100.50   25.125000            0.00   \n",
       "5              -88.0         11     385.61   35.055455            0.00   \n",
       "\n",
       "             spend_90_flag  \n",
       "customer_id                 \n",
       "1                      0.0  \n",
       "2                      0.0  \n",
       "3                      1.0  \n",
       "4                      0.0  \n",
       "5                      0.0  "
      ]
     },
     "execution_count": 39,
     "metadata": {},
     "output_type": "execute_result"
    }
   ],
   "source": [
    "\n",
    "Features_df.head()"
   ]
  },
  {
   "cell_type": "code",
   "execution_count": 40,
   "id": "2d0ba3e1",
   "metadata": {},
   "outputs": [],
   "source": [
    "X = Features_df[[\"recency\",\"frequency\",\"Sales_sum\",\"Sales_mean\"]]"
   ]
  },
  {
   "cell_type": "code",
   "execution_count": 41,
   "id": "7fcd216d",
   "metadata": {},
   "outputs": [],
   "source": [
    "#nwxt 90-days\n",
    "y_spend = Features_df[\"spend_90_total\"]"
   ]
  },
  {
   "cell_type": "code",
   "execution_count": 42,
   "id": "5c09ff8d",
   "metadata": {},
   "outputs": [
    {
     "data": {
      "text/html": [
       "<style>#sk-container-id-1 {color: black;background-color: white;}#sk-container-id-1 pre{padding: 0;}#sk-container-id-1 div.sk-toggleable {background-color: white;}#sk-container-id-1 label.sk-toggleable__label {cursor: pointer;display: block;width: 100%;margin-bottom: 0;padding: 0.3em;box-sizing: border-box;text-align: center;}#sk-container-id-1 label.sk-toggleable__label-arrow:before {content: \"▸\";float: left;margin-right: 0.25em;color: #696969;}#sk-container-id-1 label.sk-toggleable__label-arrow:hover:before {color: black;}#sk-container-id-1 div.sk-estimator:hover label.sk-toggleable__label-arrow:before {color: black;}#sk-container-id-1 div.sk-toggleable__content {max-height: 0;max-width: 0;overflow: hidden;text-align: left;background-color: #f0f8ff;}#sk-container-id-1 div.sk-toggleable__content pre {margin: 0.2em;color: black;border-radius: 0.25em;background-color: #f0f8ff;}#sk-container-id-1 input.sk-toggleable__control:checked~div.sk-toggleable__content {max-height: 200px;max-width: 100%;overflow: auto;}#sk-container-id-1 input.sk-toggleable__control:checked~label.sk-toggleable__label-arrow:before {content: \"▾\";}#sk-container-id-1 div.sk-estimator input.sk-toggleable__control:checked~label.sk-toggleable__label {background-color: #d4ebff;}#sk-container-id-1 div.sk-label input.sk-toggleable__control:checked~label.sk-toggleable__label {background-color: #d4ebff;}#sk-container-id-1 input.sk-hidden--visually {border: 0;clip: rect(1px 1px 1px 1px);clip: rect(1px, 1px, 1px, 1px);height: 1px;margin: -1px;overflow: hidden;padding: 0;position: absolute;width: 1px;}#sk-container-id-1 div.sk-estimator {font-family: monospace;background-color: #f0f8ff;border: 1px dotted black;border-radius: 0.25em;box-sizing: border-box;margin-bottom: 0.5em;}#sk-container-id-1 div.sk-estimator:hover {background-color: #d4ebff;}#sk-container-id-1 div.sk-parallel-item::after {content: \"\";width: 100%;border-bottom: 1px solid gray;flex-grow: 1;}#sk-container-id-1 div.sk-label:hover label.sk-toggleable__label {background-color: #d4ebff;}#sk-container-id-1 div.sk-serial::before {content: \"\";position: absolute;border-left: 1px solid gray;box-sizing: border-box;top: 0;bottom: 0;left: 50%;z-index: 0;}#sk-container-id-1 div.sk-serial {display: flex;flex-direction: column;align-items: center;background-color: white;padding-right: 0.2em;padding-left: 0.2em;position: relative;}#sk-container-id-1 div.sk-item {position: relative;z-index: 1;}#sk-container-id-1 div.sk-parallel {display: flex;align-items: stretch;justify-content: center;background-color: white;position: relative;}#sk-container-id-1 div.sk-item::before, #sk-container-id-1 div.sk-parallel-item::before {content: \"\";position: absolute;border-left: 1px solid gray;box-sizing: border-box;top: 0;bottom: 0;left: 50%;z-index: -1;}#sk-container-id-1 div.sk-parallel-item {display: flex;flex-direction: column;z-index: 1;position: relative;background-color: white;}#sk-container-id-1 div.sk-parallel-item:first-child::after {align-self: flex-end;width: 50%;}#sk-container-id-1 div.sk-parallel-item:last-child::after {align-self: flex-start;width: 50%;}#sk-container-id-1 div.sk-parallel-item:only-child::after {width: 0;}#sk-container-id-1 div.sk-dashed-wrapped {border: 1px dashed gray;margin: 0 0.4em 0.5em 0.4em;box-sizing: border-box;padding-bottom: 0.4em;background-color: white;}#sk-container-id-1 div.sk-label label {font-family: monospace;font-weight: bold;display: inline-block;line-height: 1.2em;}#sk-container-id-1 div.sk-label-container {text-align: center;}#sk-container-id-1 div.sk-container {/* jupyter's `normalize.less` sets `[hidden] { display: none; }` but bootstrap.min.css set `[hidden] { display: none !important; }` so we also need the `!important` here to be able to override the default hidden behavior on the sphinx rendered scikit-learn.org. See: https://github.com/scikit-learn/scikit-learn/issues/21755 */display: inline-block !important;position: relative;}#sk-container-id-1 div.sk-text-repr-fallback {display: none;}</style><div id=\"sk-container-id-1\" class=\"sk-top-container\"><div class=\"sk-text-repr-fallback\"><pre>GridSearchCV(cv=5,\n",
       "             estimator=XGBRegressor(base_score=None, booster=None,\n",
       "                                    callbacks=None, colsample_bylevel=None,\n",
       "                                    colsample_bynode=None,\n",
       "                                    colsample_bytree=None,\n",
       "                                    early_stopping_rounds=None,\n",
       "                                    enable_categorical=False, eval_metric=None,\n",
       "                                    gamma=None, gpu_id=None, grow_policy=None,\n",
       "                                    importance_type=None,\n",
       "                                    interaction_constraints=None,\n",
       "                                    learning_rate=None, max_bin=None,\n",
       "                                    max_cat_to_onehot=None, max_delta_step=None,\n",
       "                                    max_depth=None, max_leaves=None,\n",
       "                                    min_child_weight=None, missing=nan,\n",
       "                                    monotone_constraints=None, n_estimators=100,\n",
       "                                    n_jobs=None, num_parallel_tree=None,\n",
       "                                    predictor=None, random_state=123,\n",
       "                                    reg_alpha=None, reg_lambda=None, ...),\n",
       "             n_jobs=-1, param_grid={&#x27;learning_rate&#x27;: [0.01, 0.1, 0.3, 0.5]},\n",
       "             scoring=&#x27;neg_mean_absolute_error&#x27;)</pre><b>In a Jupyter environment, please rerun this cell to show the HTML representation or trust the notebook. <br />On GitHub, the HTML representation is unable to render, please try loading this page with nbviewer.org.</b></div><div class=\"sk-container\" hidden><div class=\"sk-item sk-dashed-wrapped\"><div class=\"sk-label-container\"><div class=\"sk-label sk-toggleable\"><input class=\"sk-toggleable__control sk-hidden--visually\" id=\"sk-estimator-id-1\" type=\"checkbox\" ><label for=\"sk-estimator-id-1\" class=\"sk-toggleable__label sk-toggleable__label-arrow\">GridSearchCV</label><div class=\"sk-toggleable__content\"><pre>GridSearchCV(cv=5,\n",
       "             estimator=XGBRegressor(base_score=None, booster=None,\n",
       "                                    callbacks=None, colsample_bylevel=None,\n",
       "                                    colsample_bynode=None,\n",
       "                                    colsample_bytree=None,\n",
       "                                    early_stopping_rounds=None,\n",
       "                                    enable_categorical=False, eval_metric=None,\n",
       "                                    gamma=None, gpu_id=None, grow_policy=None,\n",
       "                                    importance_type=None,\n",
       "                                    interaction_constraints=None,\n",
       "                                    learning_rate=None, max_bin=None,\n",
       "                                    max_cat_to_onehot=None, max_delta_step=None,\n",
       "                                    max_depth=None, max_leaves=None,\n",
       "                                    min_child_weight=None, missing=nan,\n",
       "                                    monotone_constraints=None, n_estimators=100,\n",
       "                                    n_jobs=None, num_parallel_tree=None,\n",
       "                                    predictor=None, random_state=123,\n",
       "                                    reg_alpha=None, reg_lambda=None, ...),\n",
       "             n_jobs=-1, param_grid={&#x27;learning_rate&#x27;: [0.01, 0.1, 0.3, 0.5]},\n",
       "             scoring=&#x27;neg_mean_absolute_error&#x27;)</pre></div></div></div><div class=\"sk-parallel\"><div class=\"sk-parallel-item\"><div class=\"sk-item\"><div class=\"sk-label-container\"><div class=\"sk-label sk-toggleable\"><input class=\"sk-toggleable__control sk-hidden--visually\" id=\"sk-estimator-id-2\" type=\"checkbox\" ><label for=\"sk-estimator-id-2\" class=\"sk-toggleable__label sk-toggleable__label-arrow\">estimator: XGBRegressor</label><div class=\"sk-toggleable__content\"><pre>XGBRegressor(base_score=None, booster=None, callbacks=None,\n",
       "             colsample_bylevel=None, colsample_bynode=None,\n",
       "             colsample_bytree=None, early_stopping_rounds=None,\n",
       "             enable_categorical=False, eval_metric=None, gamma=None,\n",
       "             gpu_id=None, grow_policy=None, importance_type=None,\n",
       "             interaction_constraints=None, learning_rate=None, max_bin=None,\n",
       "             max_cat_to_onehot=None, max_delta_step=None, max_depth=None,\n",
       "             max_leaves=None, min_child_weight=None, missing=nan,\n",
       "             monotone_constraints=None, n_estimators=100, n_jobs=None,\n",
       "             num_parallel_tree=None, predictor=None, random_state=123,\n",
       "             reg_alpha=None, reg_lambda=None, ...)</pre></div></div></div><div class=\"sk-serial\"><div class=\"sk-item\"><div class=\"sk-estimator sk-toggleable\"><input class=\"sk-toggleable__control sk-hidden--visually\" id=\"sk-estimator-id-3\" type=\"checkbox\" ><label for=\"sk-estimator-id-3\" class=\"sk-toggleable__label sk-toggleable__label-arrow\">XGBRegressor</label><div class=\"sk-toggleable__content\"><pre>XGBRegressor(base_score=None, booster=None, callbacks=None,\n",
       "             colsample_bylevel=None, colsample_bynode=None,\n",
       "             colsample_bytree=None, early_stopping_rounds=None,\n",
       "             enable_categorical=False, eval_metric=None, gamma=None,\n",
       "             gpu_id=None, grow_policy=None, importance_type=None,\n",
       "             interaction_constraints=None, learning_rate=None, max_bin=None,\n",
       "             max_cat_to_onehot=None, max_delta_step=None, max_depth=None,\n",
       "             max_leaves=None, min_child_weight=None, missing=nan,\n",
       "             monotone_constraints=None, n_estimators=100, n_jobs=None,\n",
       "             num_parallel_tree=None, predictor=None, random_state=123,\n",
       "             reg_alpha=None, reg_lambda=None, ...)</pre></div></div></div></div></div></div></div></div></div></div>"
      ],
      "text/plain": [
       "GridSearchCV(cv=5,\n",
       "             estimator=XGBRegressor(base_score=None, booster=None,\n",
       "                                    callbacks=None, colsample_bylevel=None,\n",
       "                                    colsample_bynode=None,\n",
       "                                    colsample_bytree=None,\n",
       "                                    early_stopping_rounds=None,\n",
       "                                    enable_categorical=False, eval_metric=None,\n",
       "                                    gamma=None, gpu_id=None, grow_policy=None,\n",
       "                                    importance_type=None,\n",
       "                                    interaction_constraints=None,\n",
       "                                    learning_rate=None, max_bin=None,\n",
       "                                    max_cat_to_onehot=None, max_delta_step=None,\n",
       "                                    max_depth=None, max_leaves=None,\n",
       "                                    min_child_weight=None, missing=nan,\n",
       "                                    monotone_constraints=None, n_estimators=100,\n",
       "                                    n_jobs=None, num_parallel_tree=None,\n",
       "                                    predictor=None, random_state=123,\n",
       "                                    reg_alpha=None, reg_lambda=None, ...),\n",
       "             n_jobs=-1, param_grid={'learning_rate': [0.01, 0.1, 0.3, 0.5]},\n",
       "             scoring='neg_mean_absolute_error')"
      ]
     },
     "execution_count": 42,
     "metadata": {},
     "output_type": "execute_result"
    }
   ],
   "source": [
    "xgb_reg_spec2 = XGBRegressor(\n",
    "    objective=\"reg:squarederror\",\n",
    "    random_state=123\n",
    ")\n",
    "\n",
    "param_grid = {\n",
    "    \"learning_rate\": [0.01, 0.1, 0.3, 0.5]\n",
    "}\n",
    "\n",
    "xgb_reg_model2 = GridSearchCV(\n",
    "    estimator=xgb_reg_spec2,\n",
    "    param_grid=param_grid,\n",
    "    scoring=\"neg_mean_absolute_error\",\n",
    "    cv=5,\n",
    "    n_jobs=-1\n",
    ")\n",
    "\n",
    "xgb_reg_model2.fit(X,y_spend)\n",
    "\n",
    "\n"
   ]
  },
  {
   "cell_type": "code",
   "execution_count": 43,
   "id": "430087e9",
   "metadata": {},
   "outputs": [
    {
     "name": "stdout",
     "output_type": "stream",
     "text": [
      "Best parameters: {'learning_rate': 0.01}\n",
      "Best score: -9.782938524056352\n"
     ]
    }
   ],
   "source": [
    "# Print the best parameters and best score\n",
    "print(f\"Best parameters: {xgb_reg_model2.best_params_}\")\n",
    "print(f\"Best score: {xgb_reg_model2.best_score_}\")\n"
   ]
  },
  {
   "cell_type": "code",
   "execution_count": 44,
   "id": "ce0451f6",
   "metadata": {},
   "outputs": [],
   "source": [
    "y_pred = xgb_reg_model2.predict(X)"
   ]
  },
  {
   "cell_type": "code",
   "execution_count": 45,
   "id": "d142063f",
   "metadata": {},
   "outputs": [
    {
     "data": {
      "text/plain": [
       "array([ 0.7684548,  1.6811874,  9.103387 ,  7.5565157, 15.197543 ,\n",
       "        0.8081817, 17.22487  , 19.520144 ,  2.426112 ,  0.8504526],\n",
       "      dtype=float32)"
      ]
     },
     "execution_count": 45,
     "metadata": {},
     "output_type": "execute_result"
    }
   ],
   "source": [
    "y_pred[:10]"
   ]
  },
  {
   "cell_type": "code",
   "execution_count": 46,
   "id": "75e6e6ac",
   "metadata": {},
   "outputs": [],
   "source": [
    "# Next 90-days spend probability\n",
    "\n",
    "y_prob = Features_df[\"spend_90_flag\"]"
   ]
  },
  {
   "cell_type": "code",
   "execution_count": 47,
   "id": "a1080490",
   "metadata": {},
   "outputs": [
    {
     "name": "stdout",
     "output_type": "stream",
     "text": [
      "ROC AUC score: 0.8765\n"
     ]
    }
   ],
   "source": [
    "# Define the XGBClassifier with some initial hyperparameters\n",
    "from sklearn.metrics import roc_auc_score\n",
    "xgb_clf = XGBClassifier(\n",
    "    objective=\"binary:logistic\",\n",
    "    learning_rate=0.1,\n",
    "    max_depth=5,\n",
    "    subsample=0.75,\n",
    "    colsample_bytree=0.75,\n",
    "    gamma=0.1,\n",
    "    reg_alpha=0.1,\n",
    "    reg_lambda=0.1,\n",
    "    random_state=123\n",
    ")\n",
    "\n",
    "# Fit the model on the training data\n",
    "xgb_clf.fit(X, y_prob)\n",
    "\n",
    "# Evaluate the model on the test data\n",
    "y_pred = xgb_clf.predict_proba(X)[:, 1]\n",
    "auc_score = roc_auc_score(y_prob, y_pred)\n",
    "print(\"ROC AUC score: {:.4f}\".format(auc_score))"
   ]
  },
  {
   "cell_type": "code",
   "execution_count": 48,
   "id": "55fe8a3b",
   "metadata": {},
   "outputs": [],
   "source": [
    "y_pred_prob = xgb_clf.predict_proba(X)\n"
   ]
  },
  {
   "cell_type": "code",
   "execution_count": 49,
   "id": "335d1520",
   "metadata": {},
   "outputs": [
    {
     "name": "stdout",
     "output_type": "stream",
     "text": [
      "ROC AUC score: 0.8765\n"
     ]
    }
   ],
   "source": [
    "print(\"ROC AUC score: {:.4f}\".format(auc_score))"
   ]
  },
  {
   "cell_type": "markdown",
   "id": "49c5a334",
   "metadata": {},
   "source": [
    "## Feature Importance"
   ]
  },
  {
   "cell_type": "code",
   "execution_count": 50,
   "id": "b4e8dd8e",
   "metadata": {},
   "outputs": [],
   "source": [
    "# Importance | Spend Amount Model\n",
    "\n",
    "imp_spend_amount_dict = xgb_reg_model2 \\\n",
    "    .best_estimator_ \\\n",
    "    .get_booster() \\\n",
    "    .get_score(importance_type=\"gain\")"
   ]
  },
  {
   "cell_type": "code",
   "execution_count": 51,
   "id": "5a466c1a",
   "metadata": {},
   "outputs": [],
   "source": [
    "\n",
    "# Create a pandas DataFrame from a dictionary of important spending amounts\n",
    "imp_spend_amount_df = pd.DataFrame({\n",
    "    \"features\": list(imp_spend_amount_dict.keys()),\n",
    "    \"value\": list(imp_spend_amount_dict.values())\n",
    "})\n",
    "\n",
    "# Reorder the \"features\" column based on the corresponding \"value\" column\n",
    "imp_spend_amount_df = imp_spend_amount_df.assign(\n",
    "    features=lambda df: cat.cat_reorder(df[\"features\"], df[\"value\"])\n",
    ")"
   ]
  },
  {
   "cell_type": "code",
   "execution_count": 52,
   "id": "2fa48411",
   "metadata": {},
   "outputs": [
    {
     "data": {
      "image/png": "[encoded data removed]",
      "text/plain": [
       "<Figure size 640x480 with 1 Axes>"
      ]
     },
     "metadata": {},
     "output_type": "display_data"
    },
    {
     "data": {
      "text/plain": [
       "<ggplot: (8726742700861)>"
      ]
     },
     "execution_count": 52,
     "metadata": {},
     "output_type": "execute_result"
    }
   ],
   "source": [
    "(pn.ggplot(\n",
    "    data = imp_spend_amount_df,\n",
    "    mapping = pn.aes(\"features\",\"value\")) \\\n",
    "    + pn.geom_col() \\\n",
    "    + pn.coord_flip()\n",
    ")\n"
   ]
  },
  {
   "cell_type": "code",
   "execution_count": 53,
   "id": "34811f10",
   "metadata": {},
   "outputs": [],
   "source": [
    "importance_scores = xgb_clf.feature_importances_\n",
    "feature_names = X.columns # Assuming X is a pandas DataFrame\n",
    "sorted_idx = importance_scores.argsort()\n",
    "\n",
    "imp_spend_prob_df = pd.DataFrame({\n",
    "    \"features\": feature_names[sorted_idx],\n",
    "    \"value\": importance_scores[sorted_idx]\n",
    "})\n",
    "\n",
    "# Reorder the \"features\" column based on the corresponding \"value\" column\n",
    "imp_spend_prob_df = imp_spend_prob_df.assign(\n",
    "    features=lambda df: cat.cat_reorder(df[\"features\"], df[\"value\"])\n",
    ")\n"
   ]
  },
  {
   "cell_type": "code",
   "execution_count": 54,
   "id": "b5d3e3ca",
   "metadata": {},
   "outputs": [
    {
     "data": {
      "text/plain": [
       "features    value        \n",
       "Sales_mean  43371.421875     0.25\n",
       "recency     125266.851562    0.25\n",
       "frequency   175807.296875    0.25\n",
       "Sales_sum   707378.750000    0.25\n",
       "dtype: float64"
      ]
     },
     "execution_count": 54,
     "metadata": {},
     "output_type": "execute_result"
    }
   ],
   "source": [
    "imp_spend_amount_df.value_counts(normalize=True)"
   ]
  },
  {
   "cell_type": "code",
   "execution_count": 55,
   "id": "af90466a",
   "metadata": {},
   "outputs": [
    {
     "data": {
      "image/png": "[encoded data removed]",
      "text/plain": [
       "<Figure size 640x480 with 1 Axes>"
      ]
     },
     "metadata": {},
     "output_type": "display_data"
    },
    {
     "data": {
      "text/plain": [
       "<ggplot: (8726742722765)>"
      ]
     },
     "execution_count": 55,
     "metadata": {},
     "output_type": "execute_result"
    }
   ],
   "source": [
    "(pn.ggplot(\n",
    "    data = imp_spend_prob_df,\n",
    "    mapping = pn.aes(\"features\",\"value\")) \\\n",
    "    + pn.geom_col() \\\n",
    "    + pn.coord_flip()\n",
    ")"
   ]
  },
  {
   "cell_type": "code",
   "execution_count": 56,
   "id": "16b18777",
   "metadata": {},
   "outputs": [],
   "source": [
    "# Save Predictions\n",
    "\n",
    "predictions_df = pd.concat(\n",
    "    [\n",
    "        Features_df.reset_index(),\n",
    "        pd.DataFrame(y_pred ).set_axis([\"spend_pred\"],axis=1), \\\n",
    "        pd.DataFrame(y_pred_prob)[[1]].set_axis([\"spend_prob\"],axis=1), \\\n",
    "        \n",
    "    ],\n",
    "    axis=1\n",
    ")\n"
   ]
  },
  {
   "cell_type": "code",
   "execution_count": 57,
   "id": "691df562",
   "metadata": {},
   "outputs": [
    {
     "ename": "NameError",
     "evalue": "name 'data' is not defined",
     "output_type": "error",
     "traceback": [
      "\u001b[0;31m---------------------------------------------------------------------------\u001b[0m",
      "\u001b[0;31mNameError\u001b[0m                                 Traceback (most recent call last)",
      "Cell \u001b[0;32mIn [57], line 1\u001b[0m\n\u001b[0;32m----> 1\u001b[0m age_df \u001b[38;5;241m=\u001b[39m \u001b[43mdata\u001b[49m\u001b[38;5;241m.\u001b[39mgroupby(\u001b[38;5;124m\"\u001b[39m\u001b[38;5;124mcustomer_id\u001b[39m\u001b[38;5;124m\"\u001b[39m)\u001b[38;5;241m.\u001b[39magg(\n\u001b[1;32m      2\u001b[0m       {\u001b[38;5;124m\"\u001b[39m\u001b[38;5;124mdate\u001b[39m\u001b[38;5;124m\"\u001b[39m: \u001b[38;5;28;01mlambda\u001b[39;00m x: (data[\u001b[38;5;124m\"\u001b[39m\u001b[38;5;124mdate\u001b[39m\u001b[38;5;124m\"\u001b[39m]\u001b[38;5;241m.\u001b[39mmax() \u001b[38;5;241m-\u001b[39m x\u001b[38;5;241m.\u001b[39mmin())\u001b[38;5;241m.\u001b[39mdays})\n",
      "\u001b[0;31mNameError\u001b[0m: name 'data' is not defined"
     ]
    }
   ],
   "source": [
    "age_df = data.groupby(\"customer_id\").agg(\n",
    "      {\"date\": lambda x: (data[\"date\"].max() - x.min()).days})"
   ]
  },
  {
   "cell_type": "code",
   "execution_count": null,
   "id": "005cb2fb",
   "metadata": {},
   "outputs": [],
   "source": [
    "# merge predictions_df and df2 (CLV dataframe)\n",
    "merged_df = pd.merge(predictions_df,df2, on='customer_id')\n",
    "\n",
    "# drop the specified columns\n",
    "merged_df = merged_df.drop(columns=['quantity', 'total_revenue', 'num_transactions', \\\n",
    "                                    'AOV', 'profit_margin']).rename({\"age\": \"customer_duration\"})\n",
    "\n",
    "# print the resulting dataframe\n",
    "merged_df.head()"
   ]
  },
  {
   "cell_type": "code",
   "execution_count": null,
   "id": "4a05026a",
   "metadata": {},
   "outputs": [],
   "source": [
    "#save \n",
    "\n",
    "#predictions_df.to_pickle(\"artifacts/predictions_df.pkl\")\n",
    "\n",
    "#pd.read_pickle(\"folderName/predictions_df.pkl\")"
   ]
  },
  {
   "cell_type": "code",
   "execution_count": null,
   "id": "2dff1a01",
   "metadata": {},
   "outputs": [],
   "source": [
    "#load model\n",
    "#model = joblib.load(\"folderName/xgb_clf_model\")\n",
    "#model.predict(X)"
   ]
  },
  {
   "cell_type": "markdown",
   "id": "5266ac8d",
   "metadata": {},
   "source": [
    "**#Question 1:** \n",
    "which customers have the highest spend probability in the next 90 days?\n",
    "- Target for new products similar to what they have pruchased in the past."
   ]
  },
  {
   "cell_type": "code",
   "execution_count": null,
   "id": "642ff17e",
   "metadata": {},
   "outputs": [],
   "source": [
    "Highest_prob_df =predictions_df.sort_values(\"spend_prob\", ascending = False )\n",
    "Highest_prob_df"
   ]
  },
  {
   "cell_type": "markdown",
   "id": "70f2bca0",
   "metadata": {},
   "source": [
    "**#Question 2: Which customers have recently purchased but are unlikely to buy?**\n",
    "- Incentivize actions to increase probability\n",
    "- Provide didcounts, encourage referring a friend, nuture by letting them know what's coming."
   ]
  },
  {
   "cell_type": "code",
   "execution_count": null,
   "id": "9fd4dab7",
   "metadata": {},
   "outputs": [],
   "source": [
    "merged_df[merged_df[\"recency\"] > -90] \\\n",
    "    [\n",
    "    merged_df[\"spend_prob\"] < 0.20\n",
    "    ] \\\n",
    "    [\n",
    "    merged_df[\"age\"] >= 520\n",
    "    ] \\\n",
    "    .sort_values(\"spend_prob\", ascending=False)"
   ]
  },
  {
   "cell_type": "markdown",
   "id": "e697e774",
   "metadata": {},
   "source": [
    "**#Question 3:** Missed opportunities: We could unlock Big spenders \n",
    "- Send bundle offers  encouraging volume purchases \n",
    "- Focus on missed opportunities"
   ]
  },
  {
   "cell_type": "code",
   "execution_count": null,
   "id": "9259171e",
   "metadata": {},
   "outputs": [],
   "source": [
    "merged_df[merged_df[\"spend_90_total\"]== 0.0].sort_values(\"spend_pred\", ascending= False)"
   ]
  },
  {
   "cell_type": "code",
   "execution_count": null,
   "id": "b46d6821",
   "metadata": {},
   "outputs": [],
   "source": [
    "# Investigate clusters\n",
    "\n",
    "cluster_0 = clustered_df[clustered_df[\"cluster\"]==0][\"customer_id\"].unique()\n",
    "cluster_1 = clustered_df[clustered_df[\"cluster\"]==1][\"customer_id\"].unique()\n",
    "cluster_2 = clustered_df[clustered_df[\"cluster\"]==2][\"customer_id\"].unique()\n",
    "cluster_3 = clustered_df[clustered_df[\"cluster\"]==3][\"customer_id\"].unique()\n",
    "\n",
    "\n",
    "\n",
    "cust_id_subset_df = merged_df[merged_df[\"recency\"] < -90] \\\n",
    "    [\n",
    "    merged_df[\"spend_prob\"] >= 0.30\n",
    "    ] \\\n",
    "    [\n",
    "    merged_df[\"customer_id\"].isin(cluster_0)\n",
    "    ] \\\n",
    "    .sort_values(\"spend_prob\", ascending=False)\n",
    "\n",
    "\n",
    "cust_id_subset_df"
   ]
  },
  {
   "cell_type": "markdown",
   "id": "756c26b3",
   "metadata": {},
   "source": [
    "# Cohort Analysis"
   ]
  },
  {
   "cell_type": "code",
   "execution_count": null,
   "id": "8875e91f",
   "metadata": {},
   "outputs": [],
   "source": []
  }
 ],
 "metadata": {
  "kernelspec": {
   "display_name": "Python 3 (ipykernel)",
   "language": "python",
   "name": "python3"
  },
  "language_info": {
   "codemirror_mode": {
    "name": "ipython",
    "version": 3
   },
   "file_extension": ".py",
   "mimetype": "text/x-python",
   "name": "python",
   "nbconvert_exporter": "python",
   "pygments_lexer": "ipython3",
   "version": "3.10.6"
  },
  "toc": {
   "base_numbering": 1,
   "nav_menu": {},
   "number_sections": true,
   "sideBar": true,
   "skip_h1_title": false,
   "title_cell": "Table of Contents",
   "title_sidebar": "Contents",
   "toc_cell": false,
   "toc_position": {},
   "toc_section_display": true,
   "toc_window_display": true
  }
 },
 "nbformat": 4,
 "nbformat_minor": 5
}
