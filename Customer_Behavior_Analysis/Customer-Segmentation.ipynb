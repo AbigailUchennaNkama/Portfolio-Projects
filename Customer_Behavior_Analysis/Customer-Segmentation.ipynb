{
 "cells": [
  {
   "cell_type": "code",
   "execution_count": 47,
   "id": "9485b5ea",
   "metadata": {},
   "outputs": [],
   "source": [
    "# import relevant packages\n",
    "import numpy as np\n",
    "import pandas as pd\n",
    "import matplotlib.pyplot as plt\n",
    "import seaborn as sns\n",
    "from sklearn.preprocessing import StandardScaler\n",
    "from sklearn.cluster import KMeans\n",
    "from sklearn.decomposition import PCA\n",
    "import warnings\n",
    "warnings.filterwarnings(\"ignore\") \n",
    "%matplotlib inline"
   ]
  },
  {
   "cell_type": "code",
   "execution_count": 2,
   "id": "d243816c",
   "metadata": {},
   "outputs": [],
   "source": [
    "data1 = pd.read_csv(\"Sales - Data Modelling Example.csv\")"
   ]
  },
  {
   "cell_type": "code",
   "execution_count": 14,
   "id": "12ba4454",
   "metadata": {},
   "outputs": [
    {
     "data": {
      "text/html": [
       "<div>\n",
       "<style scoped>\n",
       "    .dataframe tbody tr th:only-of-type {\n",
       "        vertical-align: middle;\n",
       "    }\n",
       "\n",
       "    .dataframe tbody tr th {\n",
       "        vertical-align: top;\n",
       "    }\n",
       "\n",
       "    .dataframe thead th {\n",
       "        text-align: right;\n",
       "    }\n",
       "</style>\n",
       "<table border=\"1\" class=\"dataframe\">\n",
       "  <thead>\n",
       "    <tr style=\"text-align: right;\">\n",
       "      <th></th>\n",
       "      <th>LineID</th>\n",
       "      <th>Order ID</th>\n",
       "      <th>Order Date</th>\n",
       "      <th>Ship Date</th>\n",
       "      <th>Ship Mode</th>\n",
       "      <th>Category</th>\n",
       "      <th>Sub-Category</th>\n",
       "      <th>Country</th>\n",
       "      <th>Region</th>\n",
       "      <th>State</th>\n",
       "      <th>Postal Code</th>\n",
       "      <th>Product Name</th>\n",
       "      <th>Customer Name</th>\n",
       "      <th>Sales</th>\n",
       "      <th>Quantity</th>\n",
       "      <th>Profit</th>\n",
       "      <th>Discount</th>\n",
       "    </tr>\n",
       "  </thead>\n",
       "  <tbody>\n",
       "    <tr>\n",
       "      <th>0</th>\n",
       "      <td>1</td>\n",
       "      <td>CA-2017-152156</td>\n",
       "      <td>2017-08-11</td>\n",
       "      <td>11/11/2017 00:00</td>\n",
       "      <td>Second Class</td>\n",
       "      <td>Furniture</td>\n",
       "      <td>Bookcases</td>\n",
       "      <td>United States</td>\n",
       "      <td>South</td>\n",
       "      <td>Kentucky</td>\n",
       "      <td>42420.0</td>\n",
       "      <td>Bush Somerset Collection Bookcase</td>\n",
       "      <td>Claire Gute</td>\n",
       "      <td>261.9600</td>\n",
       "      <td>2</td>\n",
       "      <td>41.9136</td>\n",
       "      <td>0.00</td>\n",
       "    </tr>\n",
       "    <tr>\n",
       "      <th>1</th>\n",
       "      <td>2</td>\n",
       "      <td>CA-2017-152156</td>\n",
       "      <td>2017-08-11</td>\n",
       "      <td>11/11/2017 00:00</td>\n",
       "      <td>Second Class</td>\n",
       "      <td>Furniture</td>\n",
       "      <td>Chairs</td>\n",
       "      <td>United States</td>\n",
       "      <td>South</td>\n",
       "      <td>Kentucky</td>\n",
       "      <td>42420.0</td>\n",
       "      <td>Hon Deluxe Fabric Upholstered Stacking Chairs,...</td>\n",
       "      <td>Claire Gute</td>\n",
       "      <td>731.9400</td>\n",
       "      <td>3</td>\n",
       "      <td>219.5820</td>\n",
       "      <td>0.00</td>\n",
       "    </tr>\n",
       "    <tr>\n",
       "      <th>2</th>\n",
       "      <td>3</td>\n",
       "      <td>CA-2017-138688</td>\n",
       "      <td>2017-12-06</td>\n",
       "      <td>16/06/2017 00:00</td>\n",
       "      <td>Second Class</td>\n",
       "      <td>Office Supplies</td>\n",
       "      <td>Labels</td>\n",
       "      <td>United States</td>\n",
       "      <td>West</td>\n",
       "      <td>California</td>\n",
       "      <td>90036.0</td>\n",
       "      <td>Self-Adhesive Address Labels for Typewriters b...</td>\n",
       "      <td>Darrin Van Huff</td>\n",
       "      <td>14.6200</td>\n",
       "      <td>2</td>\n",
       "      <td>6.8714</td>\n",
       "      <td>0.00</td>\n",
       "    </tr>\n",
       "    <tr>\n",
       "      <th>3</th>\n",
       "      <td>4</td>\n",
       "      <td>US-2016-108966</td>\n",
       "      <td>2016-11-10</td>\n",
       "      <td>18/10/2016 00:00</td>\n",
       "      <td>Standard Class</td>\n",
       "      <td>Furniture</td>\n",
       "      <td>Tables</td>\n",
       "      <td>United States</td>\n",
       "      <td>South</td>\n",
       "      <td>Florida</td>\n",
       "      <td>33311.0</td>\n",
       "      <td>Bretford CR4500 Series Slim Rectangular Table</td>\n",
       "      <td>Sean O'Donnell</td>\n",
       "      <td>957.5775</td>\n",
       "      <td>5</td>\n",
       "      <td>-383.0310</td>\n",
       "      <td>0.45</td>\n",
       "    </tr>\n",
       "    <tr>\n",
       "      <th>4</th>\n",
       "      <td>5</td>\n",
       "      <td>US-2016-108966</td>\n",
       "      <td>2016-11-10</td>\n",
       "      <td>18/10/2016 00:00</td>\n",
       "      <td>Standard Class</td>\n",
       "      <td>Office Supplies</td>\n",
       "      <td>Storage</td>\n",
       "      <td>United States</td>\n",
       "      <td>South</td>\n",
       "      <td>Florida</td>\n",
       "      <td>33311.0</td>\n",
       "      <td>Eldon Fold 'N Roll Cart System</td>\n",
       "      <td>Sean O'Donnell</td>\n",
       "      <td>22.3680</td>\n",
       "      <td>2</td>\n",
       "      <td>2.5164</td>\n",
       "      <td>0.20</td>\n",
       "    </tr>\n",
       "  </tbody>\n",
       "</table>\n",
       "</div>"
      ],
      "text/plain": [
       "   LineID        Order ID Order Date         Ship Date       Ship Mode  \\\n",
       "0       1  CA-2017-152156 2017-08-11  11/11/2017 00:00    Second Class   \n",
       "1       2  CA-2017-152156 2017-08-11  11/11/2017 00:00    Second Class   \n",
       "2       3  CA-2017-138688 2017-12-06  16/06/2017 00:00    Second Class   \n",
       "3       4  US-2016-108966 2016-11-10  18/10/2016 00:00  Standard Class   \n",
       "4       5  US-2016-108966 2016-11-10  18/10/2016 00:00  Standard Class   \n",
       "\n",
       "          Category Sub-Category        Country Region       State  \\\n",
       "0        Furniture    Bookcases  United States  South    Kentucky   \n",
       "1        Furniture       Chairs  United States  South    Kentucky   \n",
       "2  Office Supplies       Labels  United States   West  California   \n",
       "3        Furniture       Tables  United States  South     Florida   \n",
       "4  Office Supplies      Storage  United States  South     Florida   \n",
       "\n",
       "   Postal Code                                       Product Name  \\\n",
       "0      42420.0                  Bush Somerset Collection Bookcase   \n",
       "1      42420.0  Hon Deluxe Fabric Upholstered Stacking Chairs,...   \n",
       "2      90036.0  Self-Adhesive Address Labels for Typewriters b...   \n",
       "3      33311.0      Bretford CR4500 Series Slim Rectangular Table   \n",
       "4      33311.0                     Eldon Fold 'N Roll Cart System   \n",
       "\n",
       "     Customer Name     Sales  Quantity    Profit  Discount  \n",
       "0      Claire Gute  261.9600         2   41.9136      0.00  \n",
       "1      Claire Gute  731.9400         3  219.5820      0.00  \n",
       "2  Darrin Van Huff   14.6200         2    6.8714      0.00  \n",
       "3   Sean O'Donnell  957.5775         5 -383.0310      0.45  \n",
       "4   Sean O'Donnell   22.3680         2    2.5164      0.20  "
      ]
     },
     "execution_count": 14,
     "metadata": {},
     "output_type": "execute_result"
    }
   ],
   "source": [
    "data1.head()"
   ]
  },
  {
   "cell_type": "code",
   "execution_count": 4,
   "id": "0d53484f",
   "metadata": {},
   "outputs": [
    {
     "name": "stdout",
     "output_type": "stream",
     "text": [
      "<class 'pandas.core.frame.DataFrame'>\n",
      "RangeIndex: 793 entries, 0 to 792\n",
      "Data columns (total 15 columns):\n",
      " #   Column             Non-Null Count  Dtype \n",
      "---  ------             --------------  ----- \n",
      " 0   Customer_Name      793 non-null    object\n",
      " 1   max_order_date     793 non-null    object\n",
      " 2   last_order_date    793 non-null    object\n",
      " 3   MonetaryValue      793 non-null    int64 \n",
      " 4   Frequency          793 non-null    int64 \n",
      " 5   Recency            793 non-null    int64 \n",
      " 6   rfm_Recency        793 non-null    int64 \n",
      " 7   rfm_Frequency      793 non-null    int64 \n",
      " 8   rfm_MonetaryValue  793 non-null    int64 \n",
      " 9   rfm_code           793 non-null    int64 \n",
      " 10  rfm_string_code    793 non-null    int64 \n",
      " 11  Profit             793 non-null    int64 \n",
      " 12  Quantity           793 non-null    int64 \n",
      " 13  Total_Sales        793 non-null    int64 \n",
      " 14  Discount           793 non-null    int64 \n",
      "dtypes: int64(12), object(3)\n",
      "memory usage: 93.1+ KB\n"
     ]
    }
   ],
   "source": [
    "data = pd.read_csv(\"Superstore_Sales.csv\")\n",
    "data.info()"
   ]
  },
  {
   "cell_type": "markdown",
   "id": "e3c2a5f8",
   "metadata": {},
   "source": [
    "## Customer Livetime Value"
   ]
  },
  {
   "cell_type": "code",
   "execution_count": 18,
   "id": "538748a7",
   "metadata": {},
   "outputs": [],
   "source": [
    "import pandas as pd\n",
    "from datetime import datetime\n",
    "\n",
    "# assuming your dataframe is named \"df\"\n",
    "data1['Order_Date'] = pd.to_datetime(data1['Order Date'], format='%Y-%m-%d')\n",
    "data1['Customer_Start_Date'] = data1.groupby('Customer Name')['Order_Date'].transform('min')\n",
    "data1['Days_In_Company'] = (data1['Order_Date'] - data1['Customer_Start_Date']).dt.days\n"
   ]
  },
  {
   "cell_type": "code",
   "execution_count": 21,
   "id": "5df38808",
   "metadata": {},
   "outputs": [],
   "source": [
    "data[\"Days_In_Company\"]= data1[\"Days_In_Company\"]"
   ]
  },
  {
   "cell_type": "code",
   "execution_count": 23,
   "id": "efeb3521",
   "metadata": {},
   "outputs": [
    {
     "data": {
      "text/html": [
       "<div>\n",
       "<style scoped>\n",
       "    .dataframe tbody tr th:only-of-type {\n",
       "        vertical-align: middle;\n",
       "    }\n",
       "\n",
       "    .dataframe tbody tr th {\n",
       "        vertical-align: top;\n",
       "    }\n",
       "\n",
       "    .dataframe thead th {\n",
       "        text-align: right;\n",
       "    }\n",
       "</style>\n",
       "<table border=\"1\" class=\"dataframe\">\n",
       "  <thead>\n",
       "    <tr style=\"text-align: right;\">\n",
       "      <th></th>\n",
       "      <th>Customer_Name</th>\n",
       "      <th>max_order_date</th>\n",
       "      <th>last_order_date</th>\n",
       "      <th>MonetaryValue</th>\n",
       "      <th>Frequency</th>\n",
       "      <th>Recency</th>\n",
       "      <th>rfm_Recency</th>\n",
       "      <th>rfm_Frequency</th>\n",
       "      <th>rfm_MonetaryValue</th>\n",
       "      <th>rfm_code</th>\n",
       "      <th>rfm_string_code</th>\n",
       "      <th>Profit</th>\n",
       "      <th>Quantity</th>\n",
       "      <th>Total_Sales</th>\n",
       "      <th>Discount</th>\n",
       "      <th>Days_In_Company</th>\n",
       "    </tr>\n",
       "  </thead>\n",
       "  <tbody>\n",
       "    <tr>\n",
       "      <th>0</th>\n",
       "      <td>Aaron Bergman</td>\n",
       "      <td>2018-12-30 00:00:00.0000000</td>\n",
       "      <td>2017-11-10 00:00:00.0000000</td>\n",
       "      <td>143818</td>\n",
       "      <td>6</td>\n",
       "      <td>415</td>\n",
       "      <td>1</td>\n",
       "      <td>1</td>\n",
       "      <td>1</td>\n",
       "      <td>3</td>\n",
       "      <td>111</td>\n",
       "      <td>1293465</td>\n",
       "      <td>13</td>\n",
       "      <td>143818</td>\n",
       "      <td>4</td>\n",
       "      <td>300</td>\n",
       "    </tr>\n",
       "    <tr>\n",
       "      <th>1</th>\n",
       "      <td>Aaron Hawkins</td>\n",
       "      <td>2018-12-30 00:00:00.0000000</td>\n",
       "      <td>2018-12-18 00:00:00.0000000</td>\n",
       "      <td>464630</td>\n",
       "      <td>11</td>\n",
       "      <td>12</td>\n",
       "      <td>5</td>\n",
       "      <td>3</td>\n",
       "      <td>2</td>\n",
       "      <td>10</td>\n",
       "      <td>532</td>\n",
       "      <td>1776741</td>\n",
       "      <td>54</td>\n",
       "      <td>464630</td>\n",
       "      <td>10</td>\n",
       "      <td>300</td>\n",
       "    </tr>\n",
       "  </tbody>\n",
       "</table>\n",
       "</div>"
      ],
      "text/plain": [
       "   Customer_Name               max_order_date              last_order_date  \\\n",
       "0  Aaron Bergman  2018-12-30 00:00:00.0000000  2017-11-10 00:00:00.0000000   \n",
       "1  Aaron Hawkins  2018-12-30 00:00:00.0000000  2018-12-18 00:00:00.0000000   \n",
       "\n",
       "   MonetaryValue  Frequency  Recency  rfm_Recency  rfm_Frequency  \\\n",
       "0         143818          6      415            1              1   \n",
       "1         464630         11       12            5              3   \n",
       "\n",
       "   rfm_MonetaryValue  rfm_code  rfm_string_code   Profit  Quantity  \\\n",
       "0                  1         3              111  1293465        13   \n",
       "1                  2        10              532  1776741        54   \n",
       "\n",
       "   Total_Sales  Discount  Days_In_Company  \n",
       "0       143818         4              300  \n",
       "1       464630        10              300  "
      ]
     },
     "execution_count": 23,
     "metadata": {},
     "output_type": "execute_result"
    }
   ],
   "source": [
    "data.head(2)"
   ]
  },
  {
   "cell_type": "code",
   "execution_count": 48,
   "id": "ed98edc8",
   "metadata": {},
   "outputs": [],
   "source": [
    "num_transactions = data1.groupby('Customer Name')['Order Date'].count()\n",
    "df2 = data[[\"Customer_Name\",\"Days_In_Company\",\"Quantity\",\"Total_Sales\"]]\n",
    "# Add a new column to the DataFrame with the number of transactions for each customer\n",
    "df2['num_transactions'] = data1['Customer Name'].map(num_transactions)"
   ]
  },
  {
   "cell_type": "code",
   "execution_count": 29,
   "id": "5fc95999",
   "metadata": {},
   "outputs": [],
   "source": [
    "df2 = df2[df2[\"Quantity\"]>0]"
   ]
  },
  {
   "cell_type": "code",
   "execution_count": 30,
   "id": "c886482b",
   "metadata": {},
   "outputs": [],
   "source": [
    "df2[\"AOV\"] = df2[\"Total_Sales\"] / df2[\"num_transactions\"]"
   ]
  },
  {
   "cell_type": "code",
   "execution_count": 31,
   "id": "6c1c5ea8",
   "metadata": {},
   "outputs": [
    {
     "data": {
      "text/html": [
       "<div>\n",
       "<style scoped>\n",
       "    .dataframe tbody tr th:only-of-type {\n",
       "        vertical-align: middle;\n",
       "    }\n",
       "\n",
       "    .dataframe tbody tr th {\n",
       "        vertical-align: top;\n",
       "    }\n",
       "\n",
       "    .dataframe thead th {\n",
       "        text-align: right;\n",
       "    }\n",
       "</style>\n",
       "<table border=\"1\" class=\"dataframe\">\n",
       "  <thead>\n",
       "    <tr style=\"text-align: right;\">\n",
       "      <th></th>\n",
       "      <th>Customer_Name</th>\n",
       "      <th>Days_In_Company</th>\n",
       "      <th>Quantity</th>\n",
       "      <th>Total_Sales</th>\n",
       "      <th>num_transactions</th>\n",
       "      <th>AOV</th>\n",
       "    </tr>\n",
       "  </thead>\n",
       "  <tbody>\n",
       "    <tr>\n",
       "      <th>0</th>\n",
       "      <td>Aaron Bergman</td>\n",
       "      <td>300</td>\n",
       "      <td>13</td>\n",
       "      <td>143818</td>\n",
       "      <td>5</td>\n",
       "      <td>28763.600000</td>\n",
       "    </tr>\n",
       "    <tr>\n",
       "      <th>1</th>\n",
       "      <td>Aaron Hawkins</td>\n",
       "      <td>300</td>\n",
       "      <td>54</td>\n",
       "      <td>464630</td>\n",
       "      <td>5</td>\n",
       "      <td>92926.000000</td>\n",
       "    </tr>\n",
       "    <tr>\n",
       "      <th>2</th>\n",
       "      <td>Aaron Smayling</td>\n",
       "      <td>74</td>\n",
       "      <td>48</td>\n",
       "      <td>2257567</td>\n",
       "      <td>9</td>\n",
       "      <td>250840.777778</td>\n",
       "    </tr>\n",
       "    <tr>\n",
       "      <th>3</th>\n",
       "      <td>Adam Bellavance</td>\n",
       "      <td>212</td>\n",
       "      <td>56</td>\n",
       "      <td>5110574</td>\n",
       "      <td>15</td>\n",
       "      <td>340704.933333</td>\n",
       "    </tr>\n",
       "    <tr>\n",
       "      <th>4</th>\n",
       "      <td>Adam Hart</td>\n",
       "      <td>212</td>\n",
       "      <td>75</td>\n",
       "      <td>2343506</td>\n",
       "      <td>15</td>\n",
       "      <td>156233.733333</td>\n",
       "    </tr>\n",
       "  </tbody>\n",
       "</table>\n",
       "</div>"
      ],
      "text/plain": [
       "     Customer_Name  Days_In_Company  Quantity  Total_Sales  num_transactions  \\\n",
       "0    Aaron Bergman              300        13       143818                 5   \n",
       "1    Aaron Hawkins              300        54       464630                 5   \n",
       "2   Aaron Smayling               74        48      2257567                 9   \n",
       "3  Adam Bellavance              212        56      5110574                15   \n",
       "4        Adam Hart              212        75      2343506                15   \n",
       "\n",
       "             AOV  \n",
       "0   28763.600000  \n",
       "1   92926.000000  \n",
       "2  250840.777778  \n",
       "3  340704.933333  \n",
       "4  156233.733333  "
      ]
     },
     "execution_count": 31,
     "metadata": {},
     "output_type": "execute_result"
    }
   ],
   "source": [
    "df2.head()"
   ]
  },
  {
   "cell_type": "code",
   "execution_count": 32,
   "id": "d337ef68",
   "metadata": {},
   "outputs": [
    {
     "data": {
      "text/plain": [
       "15.58890290037831"
      ]
     },
     "execution_count": 32,
     "metadata": {},
     "output_type": "execute_result"
    }
   ],
   "source": [
    "# calculate the purchase frequency across all data\n",
    "purchase_freq = sum(df2[\"num_transactions\"]) / len(df2)\n",
    "purchase_freq"
   ]
  },
  {
   "cell_type": "code",
   "execution_count": 33,
   "id": "1b0252ab",
   "metadata": {},
   "outputs": [
    {
     "data": {
      "text/plain": [
       "1.0"
      ]
     },
     "execution_count": 33,
     "metadata": {},
     "output_type": "execute_result"
    }
   ],
   "source": [
    "#calculate repeat rate\n",
    "repeat_rate = df2[df2[\"num_transactions\"]>1].shape[0]/df2.shape[0]\n",
    "repeat_rate"
   ]
  },
  {
   "cell_type": "code",
   "execution_count": 34,
   "id": "8c7300eb",
   "metadata": {},
   "outputs": [
    {
     "data": {
      "text/plain": [
       "0.0"
      ]
     },
     "execution_count": 34,
     "metadata": {},
     "output_type": "execute_result"
    }
   ],
   "source": [
    "#calculate the churn rate\n",
    "churn_rate = 1-repeat_rate\n",
    "churn_rate"
   ]
  },
  {
   "cell_type": "code",
   "execution_count": 36,
   "id": "ced07c0b",
   "metadata": {},
   "outputs": [],
   "source": [
    "df2[\"profit_margin\"] = df2[\"Total_Sales\"]*.10"
   ]
  },
  {
   "cell_type": "code",
   "execution_count": 37,
   "id": "d27a532c",
   "metadata": {},
   "outputs": [
    {
     "data": {
      "text/html": [
       "<div>\n",
       "<style scoped>\n",
       "    .dataframe tbody tr th:only-of-type {\n",
       "        vertical-align: middle;\n",
       "    }\n",
       "\n",
       "    .dataframe tbody tr th {\n",
       "        vertical-align: top;\n",
       "    }\n",
       "\n",
       "    .dataframe thead th {\n",
       "        text-align: right;\n",
       "    }\n",
       "</style>\n",
       "<table border=\"1\" class=\"dataframe\">\n",
       "  <thead>\n",
       "    <tr style=\"text-align: right;\">\n",
       "      <th></th>\n",
       "      <th>Customer_Name</th>\n",
       "      <th>Days_In_Company</th>\n",
       "      <th>Quantity</th>\n",
       "      <th>Total_Sales</th>\n",
       "      <th>num_transactions</th>\n",
       "      <th>AOV</th>\n",
       "      <th>profit_margin</th>\n",
       "      <th>CLV</th>\n",
       "    </tr>\n",
       "  </thead>\n",
       "  <tbody>\n",
       "    <tr>\n",
       "      <th>0</th>\n",
       "      <td>Aaron Bergman</td>\n",
       "      <td>300</td>\n",
       "      <td>13</td>\n",
       "      <td>143818</td>\n",
       "      <td>5</td>\n",
       "      <td>28763.600000</td>\n",
       "      <td>14381.8</td>\n",
       "      <td>inf</td>\n",
       "    </tr>\n",
       "    <tr>\n",
       "      <th>1</th>\n",
       "      <td>Aaron Hawkins</td>\n",
       "      <td>300</td>\n",
       "      <td>54</td>\n",
       "      <td>464630</td>\n",
       "      <td>5</td>\n",
       "      <td>92926.000000</td>\n",
       "      <td>46463.0</td>\n",
       "      <td>inf</td>\n",
       "    </tr>\n",
       "    <tr>\n",
       "      <th>2</th>\n",
       "      <td>Aaron Smayling</td>\n",
       "      <td>74</td>\n",
       "      <td>48</td>\n",
       "      <td>2257567</td>\n",
       "      <td>9</td>\n",
       "      <td>250840.777778</td>\n",
       "      <td>225756.7</td>\n",
       "      <td>inf</td>\n",
       "    </tr>\n",
       "    <tr>\n",
       "      <th>3</th>\n",
       "      <td>Adam Bellavance</td>\n",
       "      <td>212</td>\n",
       "      <td>56</td>\n",
       "      <td>5110574</td>\n",
       "      <td>15</td>\n",
       "      <td>340704.933333</td>\n",
       "      <td>511057.4</td>\n",
       "      <td>inf</td>\n",
       "    </tr>\n",
       "    <tr>\n",
       "      <th>4</th>\n",
       "      <td>Adam Hart</td>\n",
       "      <td>212</td>\n",
       "      <td>75</td>\n",
       "      <td>2343506</td>\n",
       "      <td>15</td>\n",
       "      <td>156233.733333</td>\n",
       "      <td>234350.6</td>\n",
       "      <td>inf</td>\n",
       "    </tr>\n",
       "    <tr>\n",
       "      <th>...</th>\n",
       "      <td>...</td>\n",
       "      <td>...</td>\n",
       "      <td>...</td>\n",
       "      <td>...</td>\n",
       "      <td>...</td>\n",
       "      <td>...</td>\n",
       "      <td>...</td>\n",
       "      <td>...</td>\n",
       "    </tr>\n",
       "    <tr>\n",
       "      <th>788</th>\n",
       "      <td>Xylona Preis</td>\n",
       "      <td>490</td>\n",
       "      <td>100</td>\n",
       "      <td>1005065</td>\n",
       "      <td>21</td>\n",
       "      <td>47860.238095</td>\n",
       "      <td>100506.5</td>\n",
       "      <td>inf</td>\n",
       "    </tr>\n",
       "    <tr>\n",
       "      <th>789</th>\n",
       "      <td>Yana Sorensen</td>\n",
       "      <td>490</td>\n",
       "      <td>58</td>\n",
       "      <td>3561381</td>\n",
       "      <td>21</td>\n",
       "      <td>169589.571429</td>\n",
       "      <td>356138.1</td>\n",
       "      <td>inf</td>\n",
       "    </tr>\n",
       "    <tr>\n",
       "      <th>790</th>\n",
       "      <td>Yoseph Carroll</td>\n",
       "      <td>490</td>\n",
       "      <td>31</td>\n",
       "      <td>1920626</td>\n",
       "      <td>21</td>\n",
       "      <td>91458.380952</td>\n",
       "      <td>192062.6</td>\n",
       "      <td>inf</td>\n",
       "    </tr>\n",
       "    <tr>\n",
       "      <th>791</th>\n",
       "      <td>Zuschuss Carroll</td>\n",
       "      <td>490</td>\n",
       "      <td>105</td>\n",
       "      <td>3383039</td>\n",
       "      <td>21</td>\n",
       "      <td>161097.095238</td>\n",
       "      <td>338303.9</td>\n",
       "      <td>inf</td>\n",
       "    </tr>\n",
       "    <tr>\n",
       "      <th>792</th>\n",
       "      <td>Zuschuss Donatelli</td>\n",
       "      <td>859</td>\n",
       "      <td>32</td>\n",
       "      <td>163780</td>\n",
       "      <td>20</td>\n",
       "      <td>8189.000000</td>\n",
       "      <td>16378.0</td>\n",
       "      <td>inf</td>\n",
       "    </tr>\n",
       "  </tbody>\n",
       "</table>\n",
       "<p>793 rows × 8 columns</p>\n",
       "</div>"
      ],
      "text/plain": [
       "          Customer_Name  Days_In_Company  Quantity  Total_Sales  \\\n",
       "0         Aaron Bergman              300        13       143818   \n",
       "1         Aaron Hawkins              300        54       464630   \n",
       "2        Aaron Smayling               74        48      2257567   \n",
       "3       Adam Bellavance              212        56      5110574   \n",
       "4             Adam Hart              212        75      2343506   \n",
       "..                  ...              ...       ...          ...   \n",
       "788        Xylona Preis              490       100      1005065   \n",
       "789       Yana Sorensen              490        58      3561381   \n",
       "790      Yoseph Carroll              490        31      1920626   \n",
       "791    Zuschuss Carroll              490       105      3383039   \n",
       "792  Zuschuss Donatelli              859        32       163780   \n",
       "\n",
       "     num_transactions            AOV  profit_margin  CLV  \n",
       "0                   5   28763.600000        14381.8  inf  \n",
       "1                   5   92926.000000        46463.0  inf  \n",
       "2                   9  250840.777778       225756.7  inf  \n",
       "3                  15  340704.933333       511057.4  inf  \n",
       "4                  15  156233.733333       234350.6  inf  \n",
       "..                ...            ...            ...  ...  \n",
       "788                21   47860.238095       100506.5  inf  \n",
       "789                21  169589.571429       356138.1  inf  \n",
       "790                21   91458.380952       192062.6  inf  \n",
       "791                21  161097.095238       338303.9  inf  \n",
       "792                20    8189.000000        16378.0  inf  \n",
       "\n",
       "[793 rows x 8 columns]"
      ]
     },
     "execution_count": 37,
     "metadata": {},
     "output_type": "execute_result"
    }
   ],
   "source": [
    "df2[\"CLV\"] = ((df2[\"AOV\"]*purchase_freq)/churn_rate)*.10\n",
    "df2"
   ]
  },
  {
   "cell_type": "code",
   "execution_count": 38,
   "id": "5c4547ca",
   "metadata": {},
   "outputs": [
    {
     "name": "stdout",
     "output_type": "stream",
     "text": [
      "median CLV is inf\n",
      "mean CLV is inf\n"
     ]
    }
   ],
   "source": [
    "print(\"median CLV is\", df2[\"CLV\"].median())\n",
    "print(\"mean CLV is\", df2[\"CLV\"].mean())"
   ]
  },
  {
   "cell_type": "markdown",
   "id": "8b997798",
   "metadata": {},
   "source": [
    "## Customer Segmentation "
   ]
  },
  {
   "cell_type": "markdown",
   "id": "573455bd",
   "metadata": {},
   "source": [
    "### RFM Analysis"
   ]
  },
  {
   "cell_type": "markdown",
   "id": "978cfa45",
   "metadata": {},
   "source": [
    "RFM analysis is a marketing technique used to analyze customer behavior based on three factors: Recency, Frequency, and Monetary value of purchases. It helps businesses identify their most valuable customers and design targeted marketing strategies."
   ]
  },
  {
   "cell_type": "markdown",
   "id": "c24bb7ac",
   "metadata": {},
   "source": [
    "We segment the customers into groups of certain similarities to get a broad view of customers spread. Then we can begin to answer some business questions"
   ]
  },
  {
   "cell_type": "code",
   "execution_count": 41,
   "id": "3a6892ec",
   "metadata": {},
   "outputs": [
    {
     "data": {
      "text/html": [
       "<div>\n",
       "<style scoped>\n",
       "    .dataframe tbody tr th:only-of-type {\n",
       "        vertical-align: middle;\n",
       "    }\n",
       "\n",
       "    .dataframe tbody tr th {\n",
       "        vertical-align: top;\n",
       "    }\n",
       "\n",
       "    .dataframe thead th {\n",
       "        text-align: right;\n",
       "    }\n",
       "</style>\n",
       "<table border=\"1\" class=\"dataframe\">\n",
       "  <thead>\n",
       "    <tr style=\"text-align: right;\">\n",
       "      <th></th>\n",
       "      <th>rfm_Recency</th>\n",
       "      <th>rfm_Frequency</th>\n",
       "      <th>rfm_MonetaryValue</th>\n",
       "    </tr>\n",
       "  </thead>\n",
       "  <tbody>\n",
       "    <tr>\n",
       "      <th>0</th>\n",
       "      <td>1</td>\n",
       "      <td>1</td>\n",
       "      <td>1</td>\n",
       "    </tr>\n",
       "    <tr>\n",
       "      <th>1</th>\n",
       "      <td>5</td>\n",
       "      <td>3</td>\n",
       "      <td>2</td>\n",
       "    </tr>\n",
       "    <tr>\n",
       "      <th>2</th>\n",
       "      <td>3</td>\n",
       "      <td>2</td>\n",
       "      <td>5</td>\n",
       "    </tr>\n",
       "    <tr>\n",
       "      <th>3</th>\n",
       "      <td>3</td>\n",
       "      <td>5</td>\n",
       "      <td>5</td>\n",
       "    </tr>\n",
       "    <tr>\n",
       "      <th>4</th>\n",
       "      <td>4</td>\n",
       "      <td>5</td>\n",
       "      <td>5</td>\n",
       "    </tr>\n",
       "  </tbody>\n",
       "</table>\n",
       "</div>"
      ],
      "text/plain": [
       "   rfm_Recency  rfm_Frequency  rfm_MonetaryValue\n",
       "0            1              1                  1\n",
       "1            5              3                  2\n",
       "2            3              2                  5\n",
       "3            3              5                  5\n",
       "4            4              5                  5"
      ]
     },
     "execution_count": 41,
     "metadata": {},
     "output_type": "execute_result"
    }
   ],
   "source": [
    "rfm_df = data[[ 'rfm_Recency', 'rfm_Frequency',\n",
    "       'rfm_MonetaryValue']]\n",
    "rfm_df.head()"
   ]
  },
  {
   "cell_type": "code",
   "execution_count": 42,
   "id": "ff42e27a",
   "metadata": {},
   "outputs": [],
   "source": [
    "# scale the dataframe\n",
    "scaler = StandardScaler()\n",
    "scaled_df = scaler.fit_transform(rfm_df)"
   ]
  },
  {
   "cell_type": "markdown",
   "id": "2cf5c1ce",
   "metadata": {},
   "source": [
    "First, we run a range of different K-values to find the optimal K"
   ]
  },
  {
   "cell_type": "code",
   "execution_count": 49,
   "id": "3efb9503",
   "metadata": {},
   "outputs": [
    {
     "data": {
      "text/plain": [
       "[2379.0,\n",
       " 1437.9549753478614,\n",
       " 1087.0645611541615,\n",
       " 851.7241890823211,\n",
       " 721.8205635334946,\n",
       " 621.9010602048684,\n",
       " 562.12518808507,\n",
       " 481.4157826014613,\n",
       " 452.042623804014,\n",
       " 421.40990722349704]"
      ]
     },
     "execution_count": 49,
     "metadata": {},
     "output_type": "execute_result"
    }
   ],
   "source": [
    "inertia = []\n",
    "val_range = range(1,11)\n",
    "for i in val_range:\n",
    "    kmean = KMeans(n_clusters=i)\n",
    "    kmean.fit(pd.DataFrame(scaled_df))\n",
    "    inertia.append(kmean.inertia_)\n",
    "\n",
    "inertia"
   ]
  },
  {
   "cell_type": "code",
   "execution_count": 50,
   "id": "f67866de",
   "metadata": {},
   "outputs": [
    {
     "data": {
      "image/png": "[encoded data removed]",
      "text/plain": [
       "<Figure size 640x480 with 1 Axes>"
      ]
     },
     "metadata": {},
     "output_type": "display_data"
    }
   ],
   "source": [
    "plt.plot(val_range,inertia,'bo-')\n",
    "plt.xlabel('K-Values') \n",
    "plt.ylabel('Inertia') \n",
    "plt.title('The Elbow Method') \n",
    "plt.show()"
   ]
  },
  {
   "cell_type": "code",
   "execution_count": 51,
   "id": "7a271330",
   "metadata": {},
   "outputs": [
    {
     "data": {
      "text/plain": [
       "851.7241890823211"
      ]
     },
     "execution_count": 51,
     "metadata": {},
     "output_type": "execute_result"
    }
   ],
   "source": [
    "kmeans = KMeans(n_clusters=4, random_state=42)           \n",
    "kmeans.fit_predict(scaled_df)         \n",
    "labels = kmeans.labels_\n",
    "kmeans.inertia_"
   ]
  },
  {
   "cell_type": "markdown",
   "id": "90133761",
   "metadata": {},
   "source": [
    "Let's plot view the clusters using PCA. We use PCA to reduce the number of dimensions,i.e, the number of columns down to two."
   ]
  },
  {
   "cell_type": "code",
   "execution_count": 52,
   "id": "de16982c",
   "metadata": {},
   "outputs": [
    {
     "data": {
      "text/html": [
       "<div>\n",
       "<style scoped>\n",
       "    .dataframe tbody tr th:only-of-type {\n",
       "        vertical-align: middle;\n",
       "    }\n",
       "\n",
       "    .dataframe tbody tr th {\n",
       "        vertical-align: top;\n",
       "    }\n",
       "\n",
       "    .dataframe thead th {\n",
       "        text-align: right;\n",
       "    }\n",
       "</style>\n",
       "<table border=\"1\" class=\"dataframe\">\n",
       "  <thead>\n",
       "    <tr style=\"text-align: right;\">\n",
       "      <th></th>\n",
       "      <th>PCA1</th>\n",
       "      <th>PCA2</th>\n",
       "    </tr>\n",
       "  </thead>\n",
       "  <tbody>\n",
       "    <tr>\n",
       "      <th>0</th>\n",
       "      <td>-2.405438</td>\n",
       "      <td>-0.416049</td>\n",
       "    </tr>\n",
       "    <tr>\n",
       "      <th>1</th>\n",
       "      <td>0.163268</td>\n",
       "      <td>1.559841</td>\n",
       "    </tr>\n",
       "    <tr>\n",
       "      <th>2</th>\n",
       "      <td>0.414473</td>\n",
       "      <td>-0.483993</td>\n",
       "    </tr>\n",
       "    <tr>\n",
       "      <th>3</th>\n",
       "      <td>1.817115</td>\n",
       "      <td>-0.839744</td>\n",
       "    </tr>\n",
       "    <tr>\n",
       "      <th>4</th>\n",
       "      <td>2.115835</td>\n",
       "      <td>-0.211059</td>\n",
       "    </tr>\n",
       "    <tr>\n",
       "      <th>...</th>\n",
       "      <td>...</td>\n",
       "      <td>...</td>\n",
       "    </tr>\n",
       "    <tr>\n",
       "      <th>788</th>\n",
       "      <td>1.238373</td>\n",
       "      <td>0.392306</td>\n",
       "    </tr>\n",
       "    <tr>\n",
       "      <th>789</th>\n",
       "      <td>1.479461</td>\n",
       "      <td>0.654793</td>\n",
       "    </tr>\n",
       "    <tr>\n",
       "      <th>790</th>\n",
       "      <td>0.573183</td>\n",
       "      <td>1.075060</td>\n",
       "    </tr>\n",
       "    <tr>\n",
       "      <th>791</th>\n",
       "      <td>1.817115</td>\n",
       "      <td>-0.839744</td>\n",
       "    </tr>\n",
       "    <tr>\n",
       "      <th>792</th>\n",
       "      <td>-1.639171</td>\n",
       "      <td>0.094052</td>\n",
       "    </tr>\n",
       "  </tbody>\n",
       "</table>\n",
       "<p>793 rows × 2 columns</p>\n",
       "</div>"
      ],
      "text/plain": [
       "         PCA1      PCA2\n",
       "0   -2.405438 -0.416049\n",
       "1    0.163268  1.559841\n",
       "2    0.414473 -0.483993\n",
       "3    1.817115 -0.839744\n",
       "4    2.115835 -0.211059\n",
       "..        ...       ...\n",
       "788  1.238373  0.392306\n",
       "789  1.479461  0.654793\n",
       "790  0.573183  1.075060\n",
       "791  1.817115 -0.839744\n",
       "792 -1.639171  0.094052\n",
       "\n",
       "[793 rows x 2 columns]"
      ]
     },
     "execution_count": 52,
     "metadata": {},
     "output_type": "execute_result"
    }
   ],
   "source": [
    "pca = PCA(n_components=2)\n",
    "principal_components = pca.fit_transform(scaled_df)\n",
    "pca_df = pd.DataFrame(data=principal_components ,columns=[\"PCA1\",\"PCA2\"])\n",
    "pca_df"
   ]
  },
  {
   "cell_type": "code",
   "execution_count": 53,
   "id": "17ecd23a",
   "metadata": {},
   "outputs": [
    {
     "data": {
      "text/html": [
       "<div>\n",
       "<style scoped>\n",
       "    .dataframe tbody tr th:only-of-type {\n",
       "        vertical-align: middle;\n",
       "    }\n",
       "\n",
       "    .dataframe tbody tr th {\n",
       "        vertical-align: top;\n",
       "    }\n",
       "\n",
       "    .dataframe thead th {\n",
       "        text-align: right;\n",
       "    }\n",
       "</style>\n",
       "<table border=\"1\" class=\"dataframe\">\n",
       "  <thead>\n",
       "    <tr style=\"text-align: right;\">\n",
       "      <th></th>\n",
       "      <th>PCA1</th>\n",
       "      <th>PCA2</th>\n",
       "      <th>cluster</th>\n",
       "    </tr>\n",
       "  </thead>\n",
       "  <tbody>\n",
       "    <tr>\n",
       "      <th>0</th>\n",
       "      <td>-2.405438</td>\n",
       "      <td>-0.416049</td>\n",
       "      <td>2</td>\n",
       "    </tr>\n",
       "    <tr>\n",
       "      <th>1</th>\n",
       "      <td>0.163268</td>\n",
       "      <td>1.559841</td>\n",
       "      <td>3</td>\n",
       "    </tr>\n",
       "    <tr>\n",
       "      <th>2</th>\n",
       "      <td>0.414473</td>\n",
       "      <td>-0.483993</td>\n",
       "      <td>1</td>\n",
       "    </tr>\n",
       "    <tr>\n",
       "      <th>3</th>\n",
       "      <td>1.817115</td>\n",
       "      <td>-0.839744</td>\n",
       "      <td>0</td>\n",
       "    </tr>\n",
       "    <tr>\n",
       "      <th>4</th>\n",
       "      <td>2.115835</td>\n",
       "      <td>-0.211059</td>\n",
       "      <td>0</td>\n",
       "    </tr>\n",
       "    <tr>\n",
       "      <th>...</th>\n",
       "      <td>...</td>\n",
       "      <td>...</td>\n",
       "      <td>...</td>\n",
       "    </tr>\n",
       "    <tr>\n",
       "      <th>788</th>\n",
       "      <td>1.238373</td>\n",
       "      <td>0.392306</td>\n",
       "      <td>0</td>\n",
       "    </tr>\n",
       "    <tr>\n",
       "      <th>789</th>\n",
       "      <td>1.479461</td>\n",
       "      <td>0.654793</td>\n",
       "      <td>0</td>\n",
       "    </tr>\n",
       "    <tr>\n",
       "      <th>790</th>\n",
       "      <td>0.573183</td>\n",
       "      <td>1.075060</td>\n",
       "      <td>3</td>\n",
       "    </tr>\n",
       "    <tr>\n",
       "      <th>791</th>\n",
       "      <td>1.817115</td>\n",
       "      <td>-0.839744</td>\n",
       "      <td>0</td>\n",
       "    </tr>\n",
       "    <tr>\n",
       "      <th>792</th>\n",
       "      <td>-1.639171</td>\n",
       "      <td>0.094052</td>\n",
       "      <td>2</td>\n",
       "    </tr>\n",
       "  </tbody>\n",
       "</table>\n",
       "<p>793 rows × 3 columns</p>\n",
       "</div>"
      ],
      "text/plain": [
       "         PCA1      PCA2  cluster\n",
       "0   -2.405438 -0.416049        2\n",
       "1    0.163268  1.559841        3\n",
       "2    0.414473 -0.483993        1\n",
       "3    1.817115 -0.839744        0\n",
       "4    2.115835 -0.211059        0\n",
       "..        ...       ...      ...\n",
       "788  1.238373  0.392306        0\n",
       "789  1.479461  0.654793        0\n",
       "790  0.573183  1.075060        3\n",
       "791  1.817115 -0.839744        0\n",
       "792 -1.639171  0.094052        2\n",
       "\n",
       "[793 rows x 3 columns]"
      ]
     },
     "execution_count": 53,
     "metadata": {},
     "output_type": "execute_result"
    }
   ],
   "source": [
    "pca_df[\"cluster\"] = labels\n",
    "pca_df"
   ]
  },
  {
   "cell_type": "code",
   "execution_count": 54,
   "id": "112cb6a5",
   "metadata": {},
   "outputs": [
    {
     "data": {
      "image/png": "[encoded data removed]",
      "text/plain": [
       "<Figure size 800x400 with 1 Axes>"
      ]
     },
     "metadata": {},
     "output_type": "display_data"
    }
   ],
   "source": [
    "# plot the clusters\n",
    "plt.figure(figsize=(8,4))\n",
    "ax = sns.scatterplot(x=\"PCA1\", y=\"PCA2\", hue=\"cluster\", data=pca_df, \\\n",
    "                     palette=['red', 'green', 'blue', 'black'], s=50)\n",
    "plt.title(\"Clustering using K-Means Algorithm\")\n",
    "plt.show()"
   ]
  },
  {
   "cell_type": "code",
   "execution_count": 55,
   "id": "e2a6387a",
   "metadata": {},
   "outputs": [],
   "source": [
    "# add the the labels to rfm_df to see each customer and their corresponding label/group.\n",
    "clustered_df = rfm_df.copy()\n",
    "clustered_df[\"cluster\"] = labels"
   ]
  },
  {
   "cell_type": "code",
   "execution_count": 56,
   "id": "93442251",
   "metadata": {},
   "outputs": [
    {
     "data": {
      "text/html": [
       "<div>\n",
       "<style scoped>\n",
       "    .dataframe tbody tr th:only-of-type {\n",
       "        vertical-align: middle;\n",
       "    }\n",
       "\n",
       "    .dataframe tbody tr th {\n",
       "        vertical-align: top;\n",
       "    }\n",
       "\n",
       "    .dataframe thead th {\n",
       "        text-align: right;\n",
       "    }\n",
       "</style>\n",
       "<table border=\"1\" class=\"dataframe\">\n",
       "  <thead>\n",
       "    <tr style=\"text-align: right;\">\n",
       "      <th></th>\n",
       "      <th>rfm_Recency</th>\n",
       "      <th>rfm_Frequency</th>\n",
       "      <th>rfm_MonetaryValue</th>\n",
       "    </tr>\n",
       "    <tr>\n",
       "      <th>cluster</th>\n",
       "      <th></th>\n",
       "      <th></th>\n",
       "      <th></th>\n",
       "    </tr>\n",
       "  </thead>\n",
       "  <tbody>\n",
       "    <tr>\n",
       "      <th>0</th>\n",
       "      <td>4.168269</td>\n",
       "      <td>4.389423</td>\n",
       "      <td>4.216346</td>\n",
       "    </tr>\n",
       "    <tr>\n",
       "      <th>1</th>\n",
       "      <td>1.853933</td>\n",
       "      <td>3.634831</td>\n",
       "      <td>3.949438</td>\n",
       "    </tr>\n",
       "    <tr>\n",
       "      <th>2</th>\n",
       "      <td>1.614213</td>\n",
       "      <td>1.573604</td>\n",
       "      <td>1.619289</td>\n",
       "    </tr>\n",
       "    <tr>\n",
       "      <th>3</th>\n",
       "      <td>4.100000</td>\n",
       "      <td>2.409524</td>\n",
       "      <td>2.271429</td>\n",
       "    </tr>\n",
       "  </tbody>\n",
       "</table>\n",
       "</div>"
      ],
      "text/plain": [
       "         rfm_Recency  rfm_Frequency  rfm_MonetaryValue\n",
       "cluster                                               \n",
       "0           4.168269       4.389423           4.216346\n",
       "1           1.853933       3.634831           3.949438\n",
       "2           1.614213       1.573604           1.619289\n",
       "3           4.100000       2.409524           2.271429"
      ]
     },
     "execution_count": 56,
     "metadata": {},
     "output_type": "execute_result"
    }
   ],
   "source": [
    "# check the mean of each feature for each group\n",
    "clustered_df.groupby(\"cluster\").mean()"
   ]
  },
  {
   "cell_type": "code",
   "execution_count": null,
   "id": "99e427f2",
   "metadata": {},
   "outputs": [],
   "source": [
    "def get_status(row):\n",
    "    if row[\"cluster\"] == 0:\n",
    "        return \"Loyal\"\n",
    "    elif row[\"cluster\"] == 1:\n",
    "        return \"hybernating\"\n",
    "    elif row[\"cluster\"] == 2:\n",
    "        return \"loyal\"\n",
    "    else:\n",
    "        return \"New\"\n",
    "      \n",
    "clustered_df[\"Cus_status\"] = clustered_df.apply(get_status,axis=1)"
   ]
  },
  {
   "cell_type": "code",
   "execution_count": null,
   "id": "7bd9f273",
   "metadata": {},
   "outputs": [],
   "source": [
    "clustered_df = clustered_df.reset_index()\n",
    "clustered_df.head(3)"
   ]
  },
  {
   "cell_type": "code",
   "execution_count": null,
   "id": "df3980ab",
   "metadata": {},
   "outputs": [],
   "source": [
    "clustered_df[\"Cus_status\"].value_counts()"
   ]
  },
  {
   "cell_type": "code",
   "execution_count": null,
   "id": "5dae6ece",
   "metadata": {},
   "outputs": [],
   "source": [
    "sns.countplot(x='Cus_status', data=clustered_df)\n",
    "plt.show()"
   ]
  },
  {
   "cell_type": "code",
   "execution_count": null,
   "id": "76e50bc4",
   "metadata": {},
   "outputs": [],
   "source": []
  },
  {
   "cell_type": "code",
   "execution_count": null,
   "id": "ce0df751",
   "metadata": {},
   "outputs": [],
   "source": []
  }
 ],
 "metadata": {
  "kernelspec": {
   "display_name": "Python 3 (ipykernel)",
   "language": "python",
   "name": "python3"
  },
  "language_info": {
   "codemirror_mode": {
    "name": "ipython",
    "version": 3
   },
   "file_extension": ".py",
   "mimetype": "text/x-python",
   "name": "python",
   "nbconvert_exporter": "python",
   "pygments_lexer": "ipython3",
   "version": "3.10.6"
  },
  "toc": {
   "base_numbering": 1,
   "nav_menu": {},
   "number_sections": true,
   "sideBar": true,
   "skip_h1_title": false,
   "title_cell": "Table of Contents",
   "title_sidebar": "Contents",
   "toc_cell": false,
   "toc_position": {},
   "toc_section_display": true,
   "toc_window_display": false
  }
 },
 "nbformat": 4,
 "nbformat_minor": 5
}
