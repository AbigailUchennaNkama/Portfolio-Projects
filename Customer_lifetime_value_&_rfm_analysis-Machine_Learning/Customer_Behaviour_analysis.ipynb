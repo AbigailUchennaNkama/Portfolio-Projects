{
 "cells": [
  {
   "cell_type": "markdown",
   "id": "bb807fe8",
   "metadata": {},
   "source": [
    "# CUSTOMER BEHAVIOR ANALYSIS"
   ]
  },
  {
   "cell_type": "markdown",
   "id": "9419bea8",
   "metadata": {},
   "source": [
    "Customer behavior analysis is a vital process that can provide businesses with valuable insights into their customers' behaviors and preferences. In this project, we will be analyzing the CDNOW dataset to determine customer buying patterns based on Recency, Frequency, and Monetary Value (RFM).\n",
    "\n",
    "**-** Using Python, we will perform RFM analysis to determine each customer's Recency, Frequency, and Monetary Value based on their transaction history. This analysis will help us understand how recently and how often customers make purchases, as well as the average amount they spend.\n",
    "\n",
    "**-** Next, we will use the K-Means algorithm to segment customers into groups based on their RFM scores. This segmentation will help us identify distinct customer groups and tailor marketing strategies and promotions to each group's specific needs and preferences.\n",
    "\n",
    "**-** We will also predict the probability of customer spending and the likelihood of their purchase using XGBRegressor and XGBClassifier. By predicting customer behavior, businesses can better understand their customers' needs and preferences and adjust their marketing strategies accordingly.\n",
    "\n",
    "**-** Finally, we will conduct cohort analysis to determine customer lifetime value (CLV) and measure the effectiveness of our marketing strategies. By analyzing customer behavior over time, we can gain insights into how our customer base changes and adapt our strategies to meet their evolving needs.\n",
    "\n",
    "Overall, this project will provide valuable insights into customer behavior, allowing businesses to improve customer engagement, retention, and revenue.\n"
   ]
  },
  {
   "cell_type": "code",
   "execution_count": 1,
   "id": "34019d9d",
   "metadata": {},
   "outputs": [],
   "source": [
    "# import relevant packages\n",
    "import numpy as np\n",
    "import pandas as pd\n",
    "import matplotlib.pyplot as plt\n",
    "import seaborn as sns\n",
    "import plotly.express as px\n",
    "import plotly.graph_objs as go\n",
    "import warnings\n",
    "warnings.filterwarnings(\"ignore\") \n",
    "%matplotlib inline\n",
    "from sklearn import preprocessing\n",
    "import joblib\n",
    "import plydata.cat_tools as cat\n",
    "import plotnine as pn\n",
    "from xgboost import XGBClassifier, XGBRegressor\n",
    "from sklearn.model_selection import GridSearchCV\n",
    "from sklearn.preprocessing import StandardScaler\n",
    "from sklearn.cluster import KMeans\n",
    "from sklearn.decomposition import PCA\n"
   ]
  },
  {
   "cell_type": "code",
   "execution_count": 2,
   "id": "752ab4e2",
   "metadata": {},
   "outputs": [],
   "source": [
    "df = pd.read_csv(\"cdnow.csv\")"
   ]
  },
  {
   "cell_type": "code",
   "execution_count": 3,
   "id": "fa32b4ba",
   "metadata": {},
   "outputs": [],
   "source": [
    "data = df.copy()\n"
   ]
  },
  {
   "cell_type": "markdown",
   "id": "ba3214f4",
   "metadata": {},
   "source": [
    "## Customer Livetime Value"
   ]
  },
  {
   "cell_type": "code",
   "execution_count": 4,
   "id": "f8502d5b",
   "metadata": {},
   "outputs": [],
   "source": [
    "#some small data wrangling task\n",
    "data[\"total_revenue\"] = data[\"quantity\"] * data[\"price\"]\n",
    "data.drop(\"Unnamed: 0\", axis=1, inplace=True)\n",
    "data[\"date\"] = pd.to_datetime(data[\"date\"])\n",
    "data = data[data[\"quantity\"]>0]"
   ]
  },
  {
   "cell_type": "code",
   "execution_count": 5,
   "id": "a86eae58",
   "metadata": {},
   "outputs": [
    {
     "data": {
      "text/html": [
       "<div>\n",
       "<style scoped>\n",
       "    .dataframe tbody tr th:only-of-type {\n",
       "        vertical-align: middle;\n",
       "    }\n",
       "\n",
       "    .dataframe tbody tr th {\n",
       "        vertical-align: top;\n",
       "    }\n",
       "\n",
       "    .dataframe thead th {\n",
       "        text-align: right;\n",
       "    }\n",
       "</style>\n",
       "<table border=\"1\" class=\"dataframe\">\n",
       "  <thead>\n",
       "    <tr style=\"text-align: right;\">\n",
       "      <th></th>\n",
       "      <th>customer_id</th>\n",
       "      <th>date</th>\n",
       "      <th>quantity</th>\n",
       "      <th>price</th>\n",
       "      <th>total_revenue</th>\n",
       "    </tr>\n",
       "  </thead>\n",
       "  <tbody>\n",
       "    <tr>\n",
       "      <th>0</th>\n",
       "      <td>1</td>\n",
       "      <td>1997-01-01</td>\n",
       "      <td>1</td>\n",
       "      <td>11.77</td>\n",
       "      <td>11.77</td>\n",
       "    </tr>\n",
       "    <tr>\n",
       "      <th>1</th>\n",
       "      <td>2</td>\n",
       "      <td>1997-01-12</td>\n",
       "      <td>1</td>\n",
       "      <td>12.00</td>\n",
       "      <td>12.00</td>\n",
       "    </tr>\n",
       "    <tr>\n",
       "      <th>2</th>\n",
       "      <td>2</td>\n",
       "      <td>1997-01-12</td>\n",
       "      <td>5</td>\n",
       "      <td>77.00</td>\n",
       "      <td>385.00</td>\n",
       "    </tr>\n",
       "  </tbody>\n",
       "</table>\n",
       "</div>"
      ],
      "text/plain": [
       "   customer_id       date  quantity  price  total_revenue\n",
       "0            1 1997-01-01         1  11.77          11.77\n",
       "1            2 1997-01-12         1  12.00          12.00\n",
       "2            2 1997-01-12         5  77.00         385.00"
      ]
     },
     "execution_count": 5,
     "metadata": {},
     "output_type": "execute_result"
    }
   ],
   "source": [
    "data.head(3)"
   ]
  },
  {
   "cell_type": "code",
   "execution_count": 6,
   "id": "8a010c10",
   "metadata": {},
   "outputs": [],
   "source": [
    "#create grouping around the customer ID and aggregate the metrics\n",
    "max_date = data[\"date\"].max()\n",
    "df2 = data.groupby(\"customer_id\").agg(\n",
    "      {\"date\": lambda x: (max_date - x.min()).days,\n",
    "      \"quantity\": lambda x: x.sum(),\n",
    "      \"total_revenue\": lambda x: x.sum()}\n",
    ")"
   ]
  },
  {
   "cell_type": "code",
   "execution_count": 7,
   "id": "a3b14316",
   "metadata": {},
   "outputs": [
    {
     "data": {
      "text/html": [
       "<div>\n",
       "<style scoped>\n",
       "    .dataframe tbody tr th:only-of-type {\n",
       "        vertical-align: middle;\n",
       "    }\n",
       "\n",
       "    .dataframe tbody tr th {\n",
       "        vertical-align: top;\n",
       "    }\n",
       "\n",
       "    .dataframe thead th {\n",
       "        text-align: right;\n",
       "    }\n",
       "</style>\n",
       "<table border=\"1\" class=\"dataframe\">\n",
       "  <thead>\n",
       "    <tr style=\"text-align: right;\">\n",
       "      <th></th>\n",
       "      <th>date</th>\n",
       "      <th>quantity</th>\n",
       "      <th>total_revenue</th>\n",
       "    </tr>\n",
       "    <tr>\n",
       "      <th>customer_id</th>\n",
       "      <th></th>\n",
       "      <th></th>\n",
       "      <th></th>\n",
       "    </tr>\n",
       "  </thead>\n",
       "  <tbody>\n",
       "    <tr>\n",
       "      <th>1</th>\n",
       "      <td>545</td>\n",
       "      <td>1</td>\n",
       "      <td>11.77</td>\n",
       "    </tr>\n",
       "    <tr>\n",
       "      <th>2</th>\n",
       "      <td>534</td>\n",
       "      <td>6</td>\n",
       "      <td>397.00</td>\n",
       "    </tr>\n",
       "    <tr>\n",
       "      <th>3</th>\n",
       "      <td>544</td>\n",
       "      <td>16</td>\n",
       "      <td>510.20</td>\n",
       "    </tr>\n",
       "    <tr>\n",
       "      <th>4</th>\n",
       "      <td>545</td>\n",
       "      <td>7</td>\n",
       "      <td>186.04</td>\n",
       "    </tr>\n",
       "    <tr>\n",
       "      <th>5</th>\n",
       "      <td>545</td>\n",
       "      <td>29</td>\n",
       "      <td>1091.74</td>\n",
       "    </tr>\n",
       "  </tbody>\n",
       "</table>\n",
       "</div>"
      ],
      "text/plain": [
       "             date  quantity  total_revenue\n",
       "customer_id                               \n",
       "1             545         1          11.77\n",
       "2             534         6         397.00\n",
       "3             544        16         510.20\n",
       "4             545         7         186.04\n",
       "5             545        29        1091.74"
      ]
     },
     "execution_count": 7,
     "metadata": {},
     "output_type": "execute_result"
    }
   ],
   "source": [
    "df2.head()"
   ]
  },
  {
   "cell_type": "code",
   "execution_count": 8,
   "id": "a4b07f42",
   "metadata": {},
   "outputs": [],
   "source": [
    "num_transactions = data.groupby('customer_id')['date'].count()\n",
    "\n",
    "# Add a new column to the DataFrame with the number of transactions for each customer\n",
    "df2['num_transactions'] = data['customer_id'].map(num_transactions)"
   ]
  },
  {
   "cell_type": "code",
   "execution_count": 9,
   "id": "0d1519a9",
   "metadata": {},
   "outputs": [
    {
     "data": {
      "text/html": [
       "<div>\n",
       "<style scoped>\n",
       "    .dataframe tbody tr th:only-of-type {\n",
       "        vertical-align: middle;\n",
       "    }\n",
       "\n",
       "    .dataframe tbody tr th {\n",
       "        vertical-align: top;\n",
       "    }\n",
       "\n",
       "    .dataframe thead th {\n",
       "        text-align: right;\n",
       "    }\n",
       "</style>\n",
       "<table border=\"1\" class=\"dataframe\">\n",
       "  <thead>\n",
       "    <tr style=\"text-align: right;\">\n",
       "      <th></th>\n",
       "      <th>date</th>\n",
       "      <th>quantity</th>\n",
       "      <th>total_revenue</th>\n",
       "      <th>num_transactions</th>\n",
       "    </tr>\n",
       "    <tr>\n",
       "      <th>customer_id</th>\n",
       "      <th></th>\n",
       "      <th></th>\n",
       "      <th></th>\n",
       "      <th></th>\n",
       "    </tr>\n",
       "  </thead>\n",
       "  <tbody>\n",
       "    <tr>\n",
       "      <th>1</th>\n",
       "      <td>545</td>\n",
       "      <td>1</td>\n",
       "      <td>11.77</td>\n",
       "      <td>2</td>\n",
       "    </tr>\n",
       "    <tr>\n",
       "      <th>2</th>\n",
       "      <td>534</td>\n",
       "      <td>6</td>\n",
       "      <td>397.00</td>\n",
       "      <td>2</td>\n",
       "    </tr>\n",
       "    <tr>\n",
       "      <th>3</th>\n",
       "      <td>544</td>\n",
       "      <td>16</td>\n",
       "      <td>510.20</td>\n",
       "      <td>6</td>\n",
       "    </tr>\n",
       "    <tr>\n",
       "      <th>4</th>\n",
       "      <td>545</td>\n",
       "      <td>7</td>\n",
       "      <td>186.04</td>\n",
       "      <td>6</td>\n",
       "    </tr>\n",
       "    <tr>\n",
       "      <th>5</th>\n",
       "      <td>545</td>\n",
       "      <td>29</td>\n",
       "      <td>1091.74</td>\n",
       "      <td>6</td>\n",
       "    </tr>\n",
       "    <tr>\n",
       "      <th>6</th>\n",
       "      <td>545</td>\n",
       "      <td>1</td>\n",
       "      <td>20.99</td>\n",
       "      <td>6</td>\n",
       "    </tr>\n",
       "    <tr>\n",
       "      <th>7</th>\n",
       "      <td>545</td>\n",
       "      <td>18</td>\n",
       "      <td>1985.99</td>\n",
       "      <td>6</td>\n",
       "    </tr>\n",
       "    <tr>\n",
       "      <th>8</th>\n",
       "      <td>545</td>\n",
       "      <td>18</td>\n",
       "      <td>652.04</td>\n",
       "      <td>6</td>\n",
       "    </tr>\n",
       "    <tr>\n",
       "      <th>9</th>\n",
       "      <td>545</td>\n",
       "      <td>6</td>\n",
       "      <td>191.70</td>\n",
       "      <td>4</td>\n",
       "    </tr>\n",
       "    <tr>\n",
       "      <th>10</th>\n",
       "      <td>525</td>\n",
       "      <td>3</td>\n",
       "      <td>117.93</td>\n",
       "      <td>4</td>\n",
       "    </tr>\n",
       "  </tbody>\n",
       "</table>\n",
       "</div>"
      ],
      "text/plain": [
       "             date  quantity  total_revenue  num_transactions\n",
       "customer_id                                                 \n",
       "1             545         1          11.77                 2\n",
       "2             534         6         397.00                 2\n",
       "3             544        16         510.20                 6\n",
       "4             545         7         186.04                 6\n",
       "5             545        29        1091.74                 6\n",
       "6             545         1          20.99                 6\n",
       "7             545        18        1985.99                 6\n",
       "8             545        18         652.04                 6\n",
       "9             545         6         191.70                 4\n",
       "10            525         3         117.93                 4"
      ]
     },
     "execution_count": 9,
     "metadata": {},
     "output_type": "execute_result"
    }
   ],
   "source": [
    "df2.head(10)"
   ]
  },
  {
   "cell_type": "code",
   "execution_count": 10,
   "id": "a646618b",
   "metadata": {},
   "outputs": [],
   "source": [
    "df2.columns = [\"age\",\"quantity\",\"total_revenue\",\"num_transactions\"]\n",
    "df2 = df2[df2[\"quantity\"]>0]"
   ]
  },
  {
   "cell_type": "code",
   "execution_count": 11,
   "id": "44f00747",
   "metadata": {},
   "outputs": [],
   "source": [
    "df2[\"AOV\"] = df2[\"total_revenue\"] / df2[\"num_transactions\"]"
   ]
  },
  {
   "cell_type": "code",
   "execution_count": 12,
   "id": "50856b94",
   "metadata": {},
   "outputs": [
    {
     "data": {
      "text/html": [
       "<div>\n",
       "<style scoped>\n",
       "    .dataframe tbody tr th:only-of-type {\n",
       "        vertical-align: middle;\n",
       "    }\n",
       "\n",
       "    .dataframe tbody tr th {\n",
       "        vertical-align: top;\n",
       "    }\n",
       "\n",
       "    .dataframe thead th {\n",
       "        text-align: right;\n",
       "    }\n",
       "</style>\n",
       "<table border=\"1\" class=\"dataframe\">\n",
       "  <thead>\n",
       "    <tr style=\"text-align: right;\">\n",
       "      <th></th>\n",
       "      <th>age</th>\n",
       "      <th>quantity</th>\n",
       "      <th>total_revenue</th>\n",
       "      <th>num_transactions</th>\n",
       "      <th>AOV</th>\n",
       "    </tr>\n",
       "    <tr>\n",
       "      <th>customer_id</th>\n",
       "      <th></th>\n",
       "      <th></th>\n",
       "      <th></th>\n",
       "      <th></th>\n",
       "      <th></th>\n",
       "    </tr>\n",
       "  </thead>\n",
       "  <tbody>\n",
       "    <tr>\n",
       "      <th>1</th>\n",
       "      <td>545</td>\n",
       "      <td>1</td>\n",
       "      <td>11.77</td>\n",
       "      <td>2</td>\n",
       "      <td>5.885000</td>\n",
       "    </tr>\n",
       "    <tr>\n",
       "      <th>2</th>\n",
       "      <td>534</td>\n",
       "      <td>6</td>\n",
       "      <td>397.00</td>\n",
       "      <td>2</td>\n",
       "      <td>198.500000</td>\n",
       "    </tr>\n",
       "    <tr>\n",
       "      <th>3</th>\n",
       "      <td>544</td>\n",
       "      <td>16</td>\n",
       "      <td>510.20</td>\n",
       "      <td>6</td>\n",
       "      <td>85.033333</td>\n",
       "    </tr>\n",
       "    <tr>\n",
       "      <th>4</th>\n",
       "      <td>545</td>\n",
       "      <td>7</td>\n",
       "      <td>186.04</td>\n",
       "      <td>6</td>\n",
       "      <td>31.006667</td>\n",
       "    </tr>\n",
       "    <tr>\n",
       "      <th>5</th>\n",
       "      <td>545</td>\n",
       "      <td>29</td>\n",
       "      <td>1091.74</td>\n",
       "      <td>6</td>\n",
       "      <td>181.956667</td>\n",
       "    </tr>\n",
       "  </tbody>\n",
       "</table>\n",
       "</div>"
      ],
      "text/plain": [
       "             age  quantity  total_revenue  num_transactions         AOV\n",
       "customer_id                                                            \n",
       "1            545         1          11.77                 2    5.885000\n",
       "2            534         6         397.00                 2  198.500000\n",
       "3            544        16         510.20                 6   85.033333\n",
       "4            545         7         186.04                 6   31.006667\n",
       "5            545        29        1091.74                 6  181.956667"
      ]
     },
     "execution_count": 12,
     "metadata": {},
     "output_type": "execute_result"
    }
   ],
   "source": [
    "df2.head()"
   ]
  },
  {
   "cell_type": "code",
   "execution_count": 13,
   "id": "d0d4e90b",
   "metadata": {},
   "outputs": [
    {
     "data": {
      "text/plain": [
       "10.51395842172253"
      ]
     },
     "execution_count": 13,
     "metadata": {},
     "output_type": "execute_result"
    }
   ],
   "source": [
    "# calculate the purchase frequency across all data\n",
    "purchase_freq = sum(df2[\"num_transactions\"]) / len(df2)\n",
    "purchase_freq"
   ]
  },
  {
   "cell_type": "code",
   "execution_count": 14,
   "id": "908833e8",
   "metadata": {},
   "outputs": [
    {
     "data": {
      "text/plain": [
       "0.8406873143826898"
      ]
     },
     "execution_count": 14,
     "metadata": {},
     "output_type": "execute_result"
    }
   ],
   "source": [
    "#calculate repeat rate\n",
    "repeat_rate = df2[df2[\"num_transactions\"]>1].shape[0]/df2.shape[0]\n",
    "repeat_rate"
   ]
  },
  {
   "cell_type": "code",
   "execution_count": 15,
   "id": "9b2b9bbc",
   "metadata": {},
   "outputs": [
    {
     "data": {
      "text/plain": [
       "0.15931268561731016"
      ]
     },
     "execution_count": 15,
     "metadata": {},
     "output_type": "execute_result"
    }
   ],
   "source": [
    "#calculate the churn rate\n",
    "churn_rate = 1-repeat_rate\n",
    "churn_rate"
   ]
  },
  {
   "cell_type": "code",
   "execution_count": 16,
   "id": "347d3c6c",
   "metadata": {},
   "outputs": [],
   "source": [
    "df2[\"profit_margin\"] = df2[\"total_revenue\"]*.10"
   ]
  },
  {
   "cell_type": "code",
   "execution_count": 17,
   "id": "dd7f06c4",
   "metadata": {},
   "outputs": [
    {
     "data": {
      "text/html": [
       "<div>\n",
       "<style scoped>\n",
       "    .dataframe tbody tr th:only-of-type {\n",
       "        vertical-align: middle;\n",
       "    }\n",
       "\n",
       "    .dataframe tbody tr th {\n",
       "        vertical-align: top;\n",
       "    }\n",
       "\n",
       "    .dataframe thead th {\n",
       "        text-align: right;\n",
       "    }\n",
       "</style>\n",
       "<table border=\"1\" class=\"dataframe\">\n",
       "  <thead>\n",
       "    <tr style=\"text-align: right;\">\n",
       "      <th></th>\n",
       "      <th>age</th>\n",
       "      <th>quantity</th>\n",
       "      <th>total_revenue</th>\n",
       "      <th>num_transactions</th>\n",
       "      <th>AOV</th>\n",
       "      <th>profit_margin</th>\n",
       "      <th>CLV</th>\n",
       "    </tr>\n",
       "    <tr>\n",
       "      <th>customer_id</th>\n",
       "      <th></th>\n",
       "      <th></th>\n",
       "      <th></th>\n",
       "      <th></th>\n",
       "      <th></th>\n",
       "      <th></th>\n",
       "      <th></th>\n",
       "    </tr>\n",
       "  </thead>\n",
       "  <tbody>\n",
       "    <tr>\n",
       "      <th>1</th>\n",
       "      <td>545</td>\n",
       "      <td>1</td>\n",
       "      <td>11.77</td>\n",
       "      <td>2</td>\n",
       "      <td>5.885000</td>\n",
       "      <td>1.177</td>\n",
       "      <td>38.838492</td>\n",
       "    </tr>\n",
       "    <tr>\n",
       "      <th>2</th>\n",
       "      <td>534</td>\n",
       "      <td>6</td>\n",
       "      <td>397.00</td>\n",
       "      <td>2</td>\n",
       "      <td>198.500000</td>\n",
       "      <td>39.700</td>\n",
       "      <td>1310.015419</td>\n",
       "    </tr>\n",
       "    <tr>\n",
       "      <th>3</th>\n",
       "      <td>544</td>\n",
       "      <td>16</td>\n",
       "      <td>510.20</td>\n",
       "      <td>6</td>\n",
       "      <td>85.033333</td>\n",
       "      <td>51.020</td>\n",
       "      <td>561.183767</td>\n",
       "    </tr>\n",
       "    <tr>\n",
       "      <th>4</th>\n",
       "      <td>545</td>\n",
       "      <td>7</td>\n",
       "      <td>186.04</td>\n",
       "      <td>6</td>\n",
       "      <td>31.006667</td>\n",
       "      <td>18.604</td>\n",
       "      <td>204.630788</td>\n",
       "    </tr>\n",
       "    <tr>\n",
       "      <th>5</th>\n",
       "      <td>545</td>\n",
       "      <td>29</td>\n",
       "      <td>1091.74</td>\n",
       "      <td>6</td>\n",
       "      <td>181.956667</td>\n",
       "      <td>109.174</td>\n",
       "      <td>1200.836469</td>\n",
       "    </tr>\n",
       "    <tr>\n",
       "      <th>...</th>\n",
       "      <td>...</td>\n",
       "      <td>...</td>\n",
       "      <td>...</td>\n",
       "      <td>...</td>\n",
       "      <td>...</td>\n",
       "      <td>...</td>\n",
       "      <td>...</td>\n",
       "    </tr>\n",
       "    <tr>\n",
       "      <th>23566</th>\n",
       "      <td>462</td>\n",
       "      <td>2</td>\n",
       "      <td>72.00</td>\n",
       "      <td>201</td>\n",
       "      <td>0.358209</td>\n",
       "      <td>7.200</td>\n",
       "      <td>2.364026</td>\n",
       "    </tr>\n",
       "    <tr>\n",
       "      <th>23567</th>\n",
       "      <td>462</td>\n",
       "      <td>1</td>\n",
       "      <td>20.97</td>\n",
       "      <td>201</td>\n",
       "      <td>0.104328</td>\n",
       "      <td>2.097</td>\n",
       "      <td>0.688523</td>\n",
       "    </tr>\n",
       "    <tr>\n",
       "      <th>23568</th>\n",
       "      <td>462</td>\n",
       "      <td>6</td>\n",
       "      <td>372.92</td>\n",
       "      <td>201</td>\n",
       "      <td>1.855323</td>\n",
       "      <td>37.292</td>\n",
       "      <td>12.244344</td>\n",
       "    </tr>\n",
       "    <tr>\n",
       "      <th>23569</th>\n",
       "      <td>462</td>\n",
       "      <td>2</td>\n",
       "      <td>51.48</td>\n",
       "      <td>201</td>\n",
       "      <td>0.256119</td>\n",
       "      <td>5.148</td>\n",
       "      <td>1.690279</td>\n",
       "    </tr>\n",
       "    <tr>\n",
       "      <th>23570</th>\n",
       "      <td>462</td>\n",
       "      <td>5</td>\n",
       "      <td>239.28</td>\n",
       "      <td>201</td>\n",
       "      <td>1.190448</td>\n",
       "      <td>23.928</td>\n",
       "      <td>7.856448</td>\n",
       "    </tr>\n",
       "  </tbody>\n",
       "</table>\n",
       "<p>23570 rows × 7 columns</p>\n",
       "</div>"
      ],
      "text/plain": [
       "             age  quantity  total_revenue  num_transactions         AOV  \\\n",
       "customer_id                                                               \n",
       "1            545         1          11.77                 2    5.885000   \n",
       "2            534         6         397.00                 2  198.500000   \n",
       "3            544        16         510.20                 6   85.033333   \n",
       "4            545         7         186.04                 6   31.006667   \n",
       "5            545        29        1091.74                 6  181.956667   \n",
       "...          ...       ...            ...               ...         ...   \n",
       "23566        462         2          72.00               201    0.358209   \n",
       "23567        462         1          20.97               201    0.104328   \n",
       "23568        462         6         372.92               201    1.855323   \n",
       "23569        462         2          51.48               201    0.256119   \n",
       "23570        462         5         239.28               201    1.190448   \n",
       "\n",
       "             profit_margin          CLV  \n",
       "customer_id                              \n",
       "1                    1.177    38.838492  \n",
       "2                   39.700  1310.015419  \n",
       "3                   51.020   561.183767  \n",
       "4                   18.604   204.630788  \n",
       "5                  109.174  1200.836469  \n",
       "...                    ...          ...  \n",
       "23566                7.200     2.364026  \n",
       "23567                2.097     0.688523  \n",
       "23568               37.292    12.244344  \n",
       "23569                5.148     1.690279  \n",
       "23570               23.928     7.856448  \n",
       "\n",
       "[23570 rows x 7 columns]"
      ]
     },
     "execution_count": 17,
     "metadata": {},
     "output_type": "execute_result"
    }
   ],
   "source": [
    "df2[\"CLV\"] = ((df2[\"AOV\"]*purchase_freq)/churn_rate)*.10\n",
    "df2"
   ]
  },
  {
   "cell_type": "code",
   "execution_count": 18,
   "id": "804cf24d",
   "metadata": {},
   "outputs": [
    {
     "name": "stdout",
     "output_type": "stream",
     "text": [
      "median CLV is 101.369455126498\n",
      "mean CLV is 960.3755404027044\n"
     ]
    }
   ],
   "source": [
    "print(\"median CLV is\", df2[\"CLV\"].median())\n",
    "print(\"mean CLV is\", df2[\"CLV\"].mean())"
   ]
  },
  {
   "cell_type": "markdown",
   "id": "5f07f8c5",
   "metadata": {},
   "source": [
    "## Customer Segmentation "
   ]
  },
  {
   "cell_type": "markdown",
   "id": "e9a4477b",
   "metadata": {},
   "source": [
    "We segment the customers into groups of certain similarities to get a broad view of customers spread. Then we can begin to answer some business questions"
   ]
  },
  {
   "cell_type": "code",
   "execution_count": 19,
   "id": "15ec98f8",
   "metadata": {},
   "outputs": [
    {
     "name": "stdout",
     "output_type": "stream",
     "text": [
      "<class 'pandas.core.frame.DataFrame'>\n",
      "RangeIndex: 69659 entries, 0 to 69658\n",
      "Data columns (total 5 columns):\n",
      " #   Column       Non-Null Count  Dtype         \n",
      "---  ------       --------------  -----         \n",
      " 0   Unnamed: 0   69659 non-null  int64         \n",
      " 1   customer_id  69659 non-null  int64         \n",
      " 2   date         69659 non-null  datetime64[ns]\n",
      " 3   quantity     69659 non-null  int64         \n",
      " 4   price        69659 non-null  float64       \n",
      "dtypes: datetime64[ns](1), float64(1), int64(3)\n",
      "memory usage: 2.7 MB\n"
     ]
    }
   ],
   "source": [
    "df = df.assign(date = lambda x: pd.to_datetime(x[\"date\"])).dropna()\n",
    "df.info()"
   ]
  },
  {
   "cell_type": "code",
   "execution_count": 110,
   "id": "92791e39",
   "metadata": {},
   "outputs": [],
   "source": [
    "df.drop(\"Unnamed: 0\",axis=1, inplace = True)"
   ]
  },
  {
   "cell_type": "markdown",
   "id": "5bcfac5c",
   "metadata": {},
   "source": [
    "### RFM Analysis"
   ]
  },
  {
   "cell_type": "markdown",
   "id": "cb161e02",
   "metadata": {},
   "source": [
    "RFM analysis is a marketing technique used to analyze customer behavior based on three factors: \n",
    "Recency, Frequency, and Monetary value of purchases. \n",
    "It helps businesses identify their most valuable customers and design targeted marketing \n",
    "strategies."
   ]
  },
  {
   "cell_type": "code",
   "execution_count": 21,
   "id": "59eed7e7",
   "metadata": {},
   "outputs": [],
   "source": [
    "#make recency(OrderDate) from behind data\n",
    "\n",
    "max_date = df[\"date\"].max()"
   ]
  },
  {
   "cell_type": "code",
   "execution_count": 22,
   "id": "9b70c975",
   "metadata": {},
   "outputs": [],
   "source": [
    "recency_features_df = df[[\"customer_id\", \"date\"]] \\\n",
    "        .groupby(\"customer_id\") \\\n",
    "        .apply(lambda x: (x[\"date\"].max()-max_date) / pd.to_timedelta(1, \"day\")) \\\n",
    "        .to_frame().set_axis([\"recency\"], axis=1)\n"
   ]
  },
  {
   "cell_type": "code",
   "execution_count": 23,
   "id": "13729f9d",
   "metadata": {},
   "outputs": [],
   "source": [
    "#Make price (MonetaryValue) features from lower data\n",
    "\n",
    "price_feature_df = df[[\"customer_id\",\"date\",\"price\"]] \\\n",
    "        .groupby(\"customer_id\") \\\n",
    "        .aggregate( {\"price\": \"sum\"}) \\\n",
    "        .set_axis([\"money_value\"],axis=1)"
   ]
  },
  {
   "cell_type": "code",
   "execution_count": 24,
   "id": "258b6025",
   "metadata": {},
   "outputs": [],
   "source": [
    "# Make Frequency (count) features from lower data\n",
    "\n",
    "frequency_features_df = df[[\"customer_id\",\"date\"]] \\\n",
    "        .groupby(\"customer_id\") \\\n",
    "        .count() \\\n",
    "        .set_axis([\"frequency\"], axis=1)"
   ]
  },
  {
   "cell_type": "code",
   "execution_count": 25,
   "id": "47a4d789",
   "metadata": {},
   "outputs": [],
   "source": [
    "# Combine features\n",
    "\n",
    "rfm_df = pd.concat([recency_features_df,frequency_features_df,price_feature_df],axis=1) "
   ]
  },
  {
   "cell_type": "code",
   "execution_count": 26,
   "id": "8e0d3115",
   "metadata": {},
   "outputs": [
    {
     "data": {
      "text/html": [
       "<div>\n",
       "<style scoped>\n",
       "    .dataframe tbody tr th:only-of-type {\n",
       "        vertical-align: middle;\n",
       "    }\n",
       "\n",
       "    .dataframe tbody tr th {\n",
       "        vertical-align: top;\n",
       "    }\n",
       "\n",
       "    .dataframe thead th {\n",
       "        text-align: right;\n",
       "    }\n",
       "</style>\n",
       "<table border=\"1\" class=\"dataframe\">\n",
       "  <thead>\n",
       "    <tr style=\"text-align: right;\">\n",
       "      <th></th>\n",
       "      <th>recency</th>\n",
       "      <th>frequency</th>\n",
       "      <th>money_value</th>\n",
       "    </tr>\n",
       "    <tr>\n",
       "      <th>customer_id</th>\n",
       "      <th></th>\n",
       "      <th></th>\n",
       "      <th></th>\n",
       "    </tr>\n",
       "  </thead>\n",
       "  <tbody>\n",
       "    <tr>\n",
       "      <th>1</th>\n",
       "      <td>-545.0</td>\n",
       "      <td>1</td>\n",
       "      <td>11.77</td>\n",
       "    </tr>\n",
       "    <tr>\n",
       "      <th>2</th>\n",
       "      <td>-534.0</td>\n",
       "      <td>2</td>\n",
       "      <td>89.00</td>\n",
       "    </tr>\n",
       "    <tr>\n",
       "      <th>3</th>\n",
       "      <td>-33.0</td>\n",
       "      <td>6</td>\n",
       "      <td>156.46</td>\n",
       "    </tr>\n",
       "  </tbody>\n",
       "</table>\n",
       "</div>"
      ],
      "text/plain": [
       "             recency  frequency  money_value\n",
       "customer_id                                 \n",
       "1             -545.0          1        11.77\n",
       "2             -534.0          2        89.00\n",
       "3              -33.0          6       156.46"
      ]
     },
     "execution_count": 26,
     "metadata": {},
     "output_type": "execute_result"
    }
   ],
   "source": [
    "rfm_df.head(3)"
   ]
  },
  {
   "cell_type": "markdown",
   "id": "75af984c",
   "metadata": {},
   "source": [
    "### K-Means Clustering"
   ]
  },
  {
   "cell_type": "code",
   "execution_count": 27,
   "id": "833f7715",
   "metadata": {},
   "outputs": [],
   "source": [
    "# scale the dataframe\n",
    "scaler = StandardScaler()\n",
    "scaled_df = scaler.fit_transform(rfm_df)"
   ]
  },
  {
   "cell_type": "markdown",
   "id": "30e4333c",
   "metadata": {},
   "source": [
    "First, we run a range of different K-values to find the optimal K"
   ]
  },
  {
   "cell_type": "code",
   "execution_count": 28,
   "id": "37327065",
   "metadata": {},
   "outputs": [
    {
     "data": {
      "text/plain": [
       "[70709.99999999996,\n",
       " 41170.1126415455,\n",
       " 27094.417136472253,\n",
       " 18061.041689786747,\n",
       " 13969.704599076804,\n",
       " 11641.650708857198,\n",
       " 9978.416211629436,\n",
       " 8647.465671098094,\n",
       " 7796.387554995257,\n",
       " 7144.167186521538]"
      ]
     },
     "execution_count": 28,
     "metadata": {},
     "output_type": "execute_result"
    }
   ],
   "source": [
    "inertia = []\n",
    "val_range = range(1,11)\n",
    "for i in val_range:\n",
    "    kmean = KMeans(n_clusters=i)\n",
    "    kmean.fit(pd.DataFrame(scaled_df))\n",
    "    inertia.append(kmean.inertia_)\n",
    "\n",
    "inertia"
   ]
  },
  {
   "cell_type": "code",
   "execution_count": 29,
   "id": "64ce70b1",
   "metadata": {},
   "outputs": [
    {
     "data": {
      "image/png": "[encoded data removed]",
      "text/plain": [
       "<Figure size 640x480 with 1 Axes>"
      ]
     },
     "metadata": {},
     "output_type": "display_data"
    }
   ],
   "source": [
    "plt.plot(val_range,inertia,'bo-')\n",
    "plt.xlabel('K-Values') \n",
    "plt.ylabel('Inertia') \n",
    "plt.title('The Elbow Method') \n",
    "plt.show()"
   ]
  },
  {
   "cell_type": "markdown",
   "id": "b6949f56",
   "metadata": {},
   "source": [
    " Initializes a KMeans object with optimum K-value (K=5) "
   ]
  },
  {
   "cell_type": "code",
   "execution_count": 89,
   "id": "ca8d1687",
   "metadata": {},
   "outputs": [
    {
     "data": {
      "text/plain": [
       "18061.028084283415"
      ]
     },
     "execution_count": 89,
     "metadata": {},
     "output_type": "execute_result"
    }
   ],
   "source": [
    "kmeans = KMeans(n_clusters=4, random_state=42)           \n",
    "kmeans.fit_predict(scaled_df)         \n",
    "labels = kmeans.labels_\n",
    "kmeans.inertia_"
   ]
  },
  {
   "cell_type": "markdown",
   "id": "23a374e0",
   "metadata": {},
   "source": [
    "Let's plot view the clusters using PCA.\n",
    "We use PCA to reduce the number of dimensions,i.e, the number of columns down to two. "
   ]
  },
  {
   "cell_type": "code",
   "execution_count": 90,
   "id": "3e160c86",
   "metadata": {},
   "outputs": [
    {
     "data": {
      "text/html": [
       "<div>\n",
       "<style scoped>\n",
       "    .dataframe tbody tr th:only-of-type {\n",
       "        vertical-align: middle;\n",
       "    }\n",
       "\n",
       "    .dataframe tbody tr th {\n",
       "        vertical-align: top;\n",
       "    }\n",
       "\n",
       "    .dataframe thead th {\n",
       "        text-align: right;\n",
       "    }\n",
       "</style>\n",
       "<table border=\"1\" class=\"dataframe\">\n",
       "  <thead>\n",
       "    <tr style=\"text-align: right;\">\n",
       "      <th></th>\n",
       "      <th>PCA1</th>\n",
       "      <th>PCA2</th>\n",
       "    </tr>\n",
       "  </thead>\n",
       "  <tbody>\n",
       "    <tr>\n",
       "      <th>0</th>\n",
       "      <td>-0.973699</td>\n",
       "      <td>0.574309</td>\n",
       "    </tr>\n",
       "    <tr>\n",
       "      <th>1</th>\n",
       "      <td>-0.616463</td>\n",
       "      <td>0.715440</td>\n",
       "    </tr>\n",
       "    <tr>\n",
       "      <th>2</th>\n",
       "      <td>1.427873</td>\n",
       "      <td>-1.347354</td>\n",
       "    </tr>\n",
       "    <tr>\n",
       "      <th>3</th>\n",
       "      <td>0.573200</td>\n",
       "      <td>-0.755073</td>\n",
       "    </tr>\n",
       "    <tr>\n",
       "      <th>4</th>\n",
       "      <td>2.284039</td>\n",
       "      <td>0.016922</td>\n",
       "    </tr>\n",
       "    <tr>\n",
       "      <th>...</th>\n",
       "      <td>...</td>\n",
       "      <td>...</td>\n",
       "    </tr>\n",
       "    <tr>\n",
       "      <th>23565</th>\n",
       "      <td>-0.690681</td>\n",
       "      <td>0.224453</td>\n",
       "    </tr>\n",
       "    <tr>\n",
       "      <th>23566</th>\n",
       "      <td>-0.728486</td>\n",
       "      <td>0.196347</td>\n",
       "    </tr>\n",
       "    <tr>\n",
       "      <th>23567</th>\n",
       "      <td>-0.133107</td>\n",
       "      <td>0.349569</td>\n",
       "    </tr>\n",
       "    <tr>\n",
       "      <th>23568</th>\n",
       "      <td>-0.716488</td>\n",
       "      <td>0.205267</td>\n",
       "    </tr>\n",
       "    <tr>\n",
       "      <th>23569</th>\n",
       "      <td>-0.408368</td>\n",
       "      <td>0.377384</td>\n",
       "    </tr>\n",
       "  </tbody>\n",
       "</table>\n",
       "<p>23570 rows × 2 columns</p>\n",
       "</div>"
      ],
      "text/plain": [
       "           PCA1      PCA2\n",
       "0     -0.973699  0.574309\n",
       "1     -0.616463  0.715440\n",
       "2      1.427873 -1.347354\n",
       "3      0.573200 -0.755073\n",
       "4      2.284039  0.016922\n",
       "...         ...       ...\n",
       "23565 -0.690681  0.224453\n",
       "23566 -0.728486  0.196347\n",
       "23567 -0.133107  0.349569\n",
       "23568 -0.716488  0.205267\n",
       "23569 -0.408368  0.377384\n",
       "\n",
       "[23570 rows x 2 columns]"
      ]
     },
     "execution_count": 90,
     "metadata": {},
     "output_type": "execute_result"
    }
   ],
   "source": [
    "pca = PCA(n_components=2)\n",
    "principal_components = pca.fit_transform(scaled_df)\n",
    "pca_df = pd.DataFrame(data=principal_components ,columns=[\"PCA1\",\"PCA2\"])\n",
    "pca_df"
   ]
  },
  {
   "cell_type": "code",
   "execution_count": 91,
   "id": "ef040ac6",
   "metadata": {},
   "outputs": [
    {
     "data": {
      "text/html": [
       "<div>\n",
       "<style scoped>\n",
       "    .dataframe tbody tr th:only-of-type {\n",
       "        vertical-align: middle;\n",
       "    }\n",
       "\n",
       "    .dataframe tbody tr th {\n",
       "        vertical-align: top;\n",
       "    }\n",
       "\n",
       "    .dataframe thead th {\n",
       "        text-align: right;\n",
       "    }\n",
       "</style>\n",
       "<table border=\"1\" class=\"dataframe\">\n",
       "  <thead>\n",
       "    <tr style=\"text-align: right;\">\n",
       "      <th></th>\n",
       "      <th>PCA1</th>\n",
       "      <th>PCA2</th>\n",
       "      <th>cluster</th>\n",
       "    </tr>\n",
       "  </thead>\n",
       "  <tbody>\n",
       "    <tr>\n",
       "      <th>0</th>\n",
       "      <td>-0.973699</td>\n",
       "      <td>0.574309</td>\n",
       "      <td>0</td>\n",
       "    </tr>\n",
       "    <tr>\n",
       "      <th>1</th>\n",
       "      <td>-0.616463</td>\n",
       "      <td>0.715440</td>\n",
       "      <td>0</td>\n",
       "    </tr>\n",
       "    <tr>\n",
       "      <th>2</th>\n",
       "      <td>1.427873</td>\n",
       "      <td>-1.347354</td>\n",
       "      <td>1</td>\n",
       "    </tr>\n",
       "    <tr>\n",
       "      <th>3</th>\n",
       "      <td>0.573200</td>\n",
       "      <td>-0.755073</td>\n",
       "      <td>1</td>\n",
       "    </tr>\n",
       "    <tr>\n",
       "      <th>4</th>\n",
       "      <td>2.284039</td>\n",
       "      <td>0.016922</td>\n",
       "      <td>1</td>\n",
       "    </tr>\n",
       "    <tr>\n",
       "      <th>...</th>\n",
       "      <td>...</td>\n",
       "      <td>...</td>\n",
       "      <td>...</td>\n",
       "    </tr>\n",
       "    <tr>\n",
       "      <th>23565</th>\n",
       "      <td>-0.690681</td>\n",
       "      <td>0.224453</td>\n",
       "      <td>0</td>\n",
       "    </tr>\n",
       "    <tr>\n",
       "      <th>23566</th>\n",
       "      <td>-0.728486</td>\n",
       "      <td>0.196347</td>\n",
       "      <td>0</td>\n",
       "    </tr>\n",
       "    <tr>\n",
       "      <th>23567</th>\n",
       "      <td>-0.133107</td>\n",
       "      <td>0.349569</td>\n",
       "      <td>0</td>\n",
       "    </tr>\n",
       "    <tr>\n",
       "      <th>23568</th>\n",
       "      <td>-0.716488</td>\n",
       "      <td>0.205267</td>\n",
       "      <td>0</td>\n",
       "    </tr>\n",
       "    <tr>\n",
       "      <th>23569</th>\n",
       "      <td>-0.408368</td>\n",
       "      <td>0.377384</td>\n",
       "      <td>0</td>\n",
       "    </tr>\n",
       "  </tbody>\n",
       "</table>\n",
       "<p>23570 rows × 3 columns</p>\n",
       "</div>"
      ],
      "text/plain": [
       "           PCA1      PCA2  cluster\n",
       "0     -0.973699  0.574309        0\n",
       "1     -0.616463  0.715440        0\n",
       "2      1.427873 -1.347354        1\n",
       "3      0.573200 -0.755073        1\n",
       "4      2.284039  0.016922        1\n",
       "...         ...       ...      ...\n",
       "23565 -0.690681  0.224453        0\n",
       "23566 -0.728486  0.196347        0\n",
       "23567 -0.133107  0.349569        0\n",
       "23568 -0.716488  0.205267        0\n",
       "23569 -0.408368  0.377384        0\n",
       "\n",
       "[23570 rows x 3 columns]"
      ]
     },
     "execution_count": 91,
     "metadata": {},
     "output_type": "execute_result"
    }
   ],
   "source": [
    "pca_df[\"cluster\"] = labels\n",
    "pca_df"
   ]
  },
  {
   "cell_type": "code",
   "execution_count": 92,
   "id": "7794d5e3",
   "metadata": {},
   "outputs": [
    {
     "data": {
      "image/png": "[encoded data removed]",
      "text/plain": [
       "<Figure size 800x400 with 1 Axes>"
      ]
     },
     "metadata": {},
     "output_type": "display_data"
    }
   ],
   "source": [
    "# plot the clusters\n",
    "plt.figure(figsize=(8,4))\n",
    "ax = sns.scatterplot(x=\"PCA1\", y=\"PCA2\", hue=\"cluster\", data=pca_df, \\\n",
    "                     palette=['red', 'green', 'blue', 'black'], s=50)\n",
    "plt.title(\"Clustering using K-Means Algorithm\")\n",
    "plt.show()"
   ]
  },
  {
   "cell_type": "code",
   "execution_count": 93,
   "id": "8e0fb7a8",
   "metadata": {},
   "outputs": [],
   "source": [
    "# add the the labels to rfm_df to see each customer and their corresponding label/group.\n",
    "clustered_df = rfm_df.copy()\n",
    "clustered_df[\"cluster\"] = labels"
   ]
  },
  {
   "cell_type": "code",
   "execution_count": 94,
   "id": "e0570c2f",
   "metadata": {
    "scrolled": true
   },
   "outputs": [
    {
     "data": {
      "text/html": [
       "<div>\n",
       "<style scoped>\n",
       "    .dataframe tbody tr th:only-of-type {\n",
       "        vertical-align: middle;\n",
       "    }\n",
       "\n",
       "    .dataframe tbody tr th {\n",
       "        vertical-align: top;\n",
       "    }\n",
       "\n",
       "    .dataframe thead th {\n",
       "        text-align: right;\n",
       "    }\n",
       "</style>\n",
       "<table border=\"1\" class=\"dataframe\">\n",
       "  <thead>\n",
       "    <tr style=\"text-align: right;\">\n",
       "      <th></th>\n",
       "      <th>recency</th>\n",
       "      <th>frequency</th>\n",
       "      <th>money_value</th>\n",
       "    </tr>\n",
       "    <tr>\n",
       "      <th>cluster</th>\n",
       "      <th></th>\n",
       "      <th></th>\n",
       "      <th></th>\n",
       "    </tr>\n",
       "  </thead>\n",
       "  <tbody>\n",
       "    <tr>\n",
       "      <th>0</th>\n",
       "      <td>-483.431710</td>\n",
       "      <td>1.378380</td>\n",
       "      <td>42.867019</td>\n",
       "    </tr>\n",
       "    <tr>\n",
       "      <th>1</th>\n",
       "      <td>-129.206787</td>\n",
       "      <td>4.875435</td>\n",
       "      <td>164.788387</td>\n",
       "    </tr>\n",
       "    <tr>\n",
       "      <th>2</th>\n",
       "      <td>-59.056851</td>\n",
       "      <td>18.438776</td>\n",
       "      <td>885.288207</td>\n",
       "    </tr>\n",
       "    <tr>\n",
       "      <th>3</th>\n",
       "      <td>-48.833333</td>\n",
       "      <td>114.000000</td>\n",
       "      <td>5731.975833</td>\n",
       "    </tr>\n",
       "  </tbody>\n",
       "</table>\n",
       "</div>"
      ],
      "text/plain": [
       "            recency   frequency  money_value\n",
       "cluster                                     \n",
       "0       -483.431710    1.378380    42.867019\n",
       "1       -129.206787    4.875435   164.788387\n",
       "2        -59.056851   18.438776   885.288207\n",
       "3        -48.833333  114.000000  5731.975833"
      ]
     },
     "execution_count": 94,
     "metadata": {},
     "output_type": "execute_result"
    }
   ],
   "source": [
    "# check the mean of each feature for each group\n",
    "clustered_df.groupby(\"cluster\").mean()"
   ]
  },
  {
   "cell_type": "code",
   "execution_count": 98,
   "id": "150aeffc",
   "metadata": {},
   "outputs": [],
   "source": [
    "def get_status(row):\n",
    "    if row[\"cluster\"] == 0:\n",
    "        return \"Losing\"\n",
    "    elif row[\"cluster\"] == 1:\n",
    "        return \"average\"\n",
    "    elif row[\"cluster\"] == 2:\n",
    "        return \"loyal\"\n",
    "    else:\n",
    "        return \"VIP\"\n",
    "      \n",
    "clustered_df[\"Cus_status\"] = clustered_df.apply(get_status,axis=1)"
   ]
  },
  {
   "cell_type": "code",
   "execution_count": 175,
   "id": "3772045f",
   "metadata": {},
   "outputs": [
    {
     "data": {
      "text/html": [
       "<div>\n",
       "<style scoped>\n",
       "    .dataframe tbody tr th:only-of-type {\n",
       "        vertical-align: middle;\n",
       "    }\n",
       "\n",
       "    .dataframe tbody tr th {\n",
       "        vertical-align: top;\n",
       "    }\n",
       "\n",
       "    .dataframe thead th {\n",
       "        text-align: right;\n",
       "    }\n",
       "</style>\n",
       "<table border=\"1\" class=\"dataframe\">\n",
       "  <thead>\n",
       "    <tr style=\"text-align: right;\">\n",
       "      <th></th>\n",
       "      <th>customer_id</th>\n",
       "      <th>recency</th>\n",
       "      <th>frequency</th>\n",
       "      <th>money_value</th>\n",
       "      <th>cluster</th>\n",
       "      <th>Cus_status</th>\n",
       "    </tr>\n",
       "  </thead>\n",
       "  <tbody>\n",
       "    <tr>\n",
       "      <th>0</th>\n",
       "      <td>1</td>\n",
       "      <td>-545.0</td>\n",
       "      <td>1</td>\n",
       "      <td>11.77</td>\n",
       "      <td>0</td>\n",
       "      <td>Losing</td>\n",
       "    </tr>\n",
       "    <tr>\n",
       "      <th>1</th>\n",
       "      <td>2</td>\n",
       "      <td>-534.0</td>\n",
       "      <td>2</td>\n",
       "      <td>89.00</td>\n",
       "      <td>0</td>\n",
       "      <td>Losing</td>\n",
       "    </tr>\n",
       "    <tr>\n",
       "      <th>2</th>\n",
       "      <td>3</td>\n",
       "      <td>-33.0</td>\n",
       "      <td>6</td>\n",
       "      <td>156.46</td>\n",
       "      <td>1</td>\n",
       "      <td>average</td>\n",
       "    </tr>\n",
       "  </tbody>\n",
       "</table>\n",
       "</div>"
      ],
      "text/plain": [
       "   customer_id  recency  frequency  money_value  cluster Cus_status\n",
       "0            1   -545.0          1        11.77        0     Losing\n",
       "1            2   -534.0          2        89.00        0     Losing\n",
       "2            3    -33.0          6       156.46        1    average"
      ]
     },
     "execution_count": 175,
     "metadata": {},
     "output_type": "execute_result"
    }
   ],
   "source": [
    "clustered_df = clustered_df.reset_index()\n",
    "clustered_df.head(3)"
   ]
  },
  {
   "cell_type": "code",
   "execution_count": 102,
   "id": "ace99b2b",
   "metadata": {},
   "outputs": [
    {
     "data": {
      "text/plain": [
       "Losing     15976\n",
       "average     6896\n",
       "loyal        686\n",
       "VIP           12\n",
       "Name: Cus_status, dtype: int64"
      ]
     },
     "execution_count": 102,
     "metadata": {},
     "output_type": "execute_result"
    }
   ],
   "source": [
    "clustered_df[\"Cus_status\"].value_counts()"
   ]
  },
  {
   "cell_type": "code",
   "execution_count": 103,
   "id": "f3d3e8b3",
   "metadata": {},
   "outputs": [
    {
     "data": {
      "image/png": "[encoded data removed]",
      "text/plain": [
       "<Figure size 640x480 with 1 Axes>"
      ]
     },
     "metadata": {},
     "output_type": "display_data"
    }
   ],
   "source": [
    "sns.countplot(x='Cus_status', data=clustered_df)\n",
    "plt.show()"
   ]
  },
  {
   "cell_type": "markdown",
   "id": "3f82878a",
   "metadata": {},
   "source": [
    "**Now we have identified different groups to which each customer belong and can therefore develop specific marketing strategies suitable for each group.**\n",
    "\n",
    "**However, We can further refine our dataset to obtain specific insights such as identifying the customer with the highest spend probability, predicting a customer's potential spending amount, recognizing missed opportunities, identifying customers who have made recent purchases but are unlikely to make more.\n",
    "These insights can support further investigations that generate meaningful information crucial for creating a successful and targeted marketing campaign.**"
   ]
  },
  {
   "cell_type": "markdown",
   "id": "ef7669eb",
   "metadata": {},
   "source": [
    "## Machine learning"
   ]
  },
  {
   "cell_type": "markdown",
   "id": "ef750a71",
   "metadata": {},
   "source": [
    "##### -What the customers spend in the next 90 days?(regression)\n",
    "##### -What is the probability of a customer to make a purchase in the next 90 days?(classification)"
   ]
  },
  {
   "cell_type": "code",
   "execution_count": 112,
   "id": "c5d87e6b",
   "metadata": {},
   "outputs": [
    {
     "name": "stdout",
     "output_type": "stream",
     "text": [
      "<class 'pandas.core.frame.DataFrame'>\n",
      "RangeIndex: 69659 entries, 0 to 69658\n",
      "Data columns (total 4 columns):\n",
      " #   Column       Non-Null Count  Dtype         \n",
      "---  ------       --------------  -----         \n",
      " 0   customer_id  69659 non-null  int64         \n",
      " 1   date         69659 non-null  datetime64[ns]\n",
      " 2   quantity     69659 non-null  int64         \n",
      " 3   price        69659 non-null  float64       \n",
      "dtypes: datetime64[ns](1), float64(1), int64(2)\n",
      "memory usage: 2.1 MB\n"
     ]
    }
   ],
   "source": [
    "df.info()"
   ]
  },
  {
   "cell_type": "code",
   "execution_count": 228,
   "id": "98bbf24b",
   "metadata": {},
   "outputs": [
    {
     "data": {
      "text/plain": [
       "array([ 4684, 13164,  6379, 23145, 22987, 12420, 19226,   599, 16161,\n",
       "       17357, 11821,  7944,  6096, 16631,  2113, 10017, 18260,   220,\n",
       "       22313,  8833])"
      ]
     },
     "execution_count": 228,
     "metadata": {},
     "output_type": "execute_result"
    }
   ],
   "source": [
    "# visualize: individual customer purchases\n",
    "\n",
    "ids = np.random.choice(df[\"customer_id\"],20)\n",
    "#selected_ids = ids[0:12]\n",
    "#selected_ids\n",
    "ids"
   ]
  },
  {
   "cell_type": "code",
   "execution_count": 229,
   "id": "fe8c0cf7",
   "metadata": {},
   "outputs": [],
   "source": [
    "cust_id_subset_df = df[df[\"customer_id\"].isin(ids)] \\\n",
    "                    .groupby ([\"customer_id\", \"date\"]) \\\n",
    "                    .sum() \\\n",
    "                    .reset_index()"
   ]
  },
  {
   "cell_type": "code",
   "execution_count": 230,
   "id": "139c11c1",
   "metadata": {},
   "outputs": [
    {
     "data": {
      "image/png": "[encoded data removed]",
      "text/plain": [
       "<Figure size 640x480 with 20 Axes>"
      ]
     },
     "metadata": {},
     "output_type": "display_data"
    },
    {
     "data": {
      "text/plain": [
       "<ggplot: (8788683542168)>"
      ]
     },
     "execution_count": 230,
     "metadata": {},
     "output_type": "execute_result"
    }
   ],
   "source": [
    "# create the plot\n",
    "(pn.ggplot(\n",
    "    data=cust_id_subset_df,\n",
    "    mapping=pn.aes(x=\"date\", y=\"price\", group=\"customer_id\")) \n",
    "    + pn.geom_line() \n",
    "    + pn.geom_point() \n",
    "    + pn.facet_wrap(\"customer_id\") \n",
    "    + pn.scale_x_date(date_breaks=\"2 year\", date_labels=\"%Y\")\n",
    ")"
   ]
  },
  {
   "cell_type": "code",
   "execution_count": 113,
   "id": "755cad8b",
   "metadata": {},
   "outputs": [],
   "source": [
    "n_days = 90\n",
    "max_order_date = df[\"date\"].max() \n",
    "cutoff = max_order_date - pd.to_timedelta(n_days, unit=\"d\")"
   ]
  },
  {
   "cell_type": "code",
   "execution_count": 114,
   "id": "b4a84470",
   "metadata": {},
   "outputs": [],
   "source": [
    "temporal_behind_df = df[df[\"date\"] <= cutoff]\n",
    "temporal_ahead_df = df[df[\"date\"] >= cutoff]"
   ]
  },
  {
   "cell_type": "code",
   "execution_count": 115,
   "id": "efb9cb30",
   "metadata": {},
   "outputs": [
    {
     "data": {
      "text/html": [
       "<div>\n",
       "<style scoped>\n",
       "    .dataframe tbody tr th:only-of-type {\n",
       "        vertical-align: middle;\n",
       "    }\n",
       "\n",
       "    .dataframe tbody tr th {\n",
       "        vertical-align: top;\n",
       "    }\n",
       "\n",
       "    .dataframe thead th {\n",
       "        text-align: right;\n",
       "    }\n",
       "</style>\n",
       "<table border=\"1\" class=\"dataframe\">\n",
       "  <thead>\n",
       "    <tr style=\"text-align: right;\">\n",
       "      <th></th>\n",
       "      <th>customer_id</th>\n",
       "      <th>date</th>\n",
       "      <th>quantity</th>\n",
       "      <th>price</th>\n",
       "    </tr>\n",
       "  </thead>\n",
       "  <tbody>\n",
       "    <tr>\n",
       "      <th>8</th>\n",
       "      <td>3</td>\n",
       "      <td>1998-05-28</td>\n",
       "      <td>1</td>\n",
       "      <td>16.99</td>\n",
       "    </tr>\n",
       "    <tr>\n",
       "      <th>38</th>\n",
       "      <td>9</td>\n",
       "      <td>1998-06-08</td>\n",
       "      <td>2</td>\n",
       "      <td>41.98</td>\n",
       "    </tr>\n",
       "    <tr>\n",
       "      <th>68</th>\n",
       "      <td>25</td>\n",
       "      <td>1998-04-17</td>\n",
       "      <td>1</td>\n",
       "      <td>12.99</td>\n",
       "    </tr>\n",
       "    <tr>\n",
       "      <th>69</th>\n",
       "      <td>25</td>\n",
       "      <td>1998-05-25</td>\n",
       "      <td>1</td>\n",
       "      <td>10.49</td>\n",
       "    </tr>\n",
       "    <tr>\n",
       "      <th>70</th>\n",
       "      <td>25</td>\n",
       "      <td>1998-06-03</td>\n",
       "      <td>3</td>\n",
       "      <td>24.97</td>\n",
       "    </tr>\n",
       "  </tbody>\n",
       "</table>\n",
       "</div>"
      ],
      "text/plain": [
       "    customer_id       date  quantity  price\n",
       "8             3 1998-05-28         1  16.99\n",
       "38            9 1998-06-08         2  41.98\n",
       "68           25 1998-04-17         1  12.99\n",
       "69           25 1998-05-25         1  10.49\n",
       "70           25 1998-06-03         3  24.97"
      ]
     },
     "execution_count": 115,
     "metadata": {},
     "output_type": "execute_result"
    }
   ],
   "source": [
    "temporal_ahead_df.head()"
   ]
  },
  {
   "cell_type": "code",
   "execution_count": 116,
   "id": "e6b481a8",
   "metadata": {},
   "outputs": [],
   "source": [
    "# make target from higher data\n",
    "targets_df = temporal_ahead_df.drop(\"quantity\", axis=1).groupby(\"customer_id\").sum() \\\n",
    "    .rename({\"price\":\"spend_90_total\"}, axis=1) \\\n",
    "    .assign(spend_90_flag = 1)"
   ]
  },
  {
   "cell_type": "code",
   "execution_count": 117,
   "id": "946e9988",
   "metadata": {},
   "outputs": [
    {
     "data": {
      "text/html": [
       "<div>\n",
       "<style scoped>\n",
       "    .dataframe tbody tr th:only-of-type {\n",
       "        vertical-align: middle;\n",
       "    }\n",
       "\n",
       "    .dataframe tbody tr th {\n",
       "        vertical-align: top;\n",
       "    }\n",
       "\n",
       "    .dataframe thead th {\n",
       "        text-align: right;\n",
       "    }\n",
       "</style>\n",
       "<table border=\"1\" class=\"dataframe\">\n",
       "  <thead>\n",
       "    <tr style=\"text-align: right;\">\n",
       "      <th></th>\n",
       "      <th>spend_90_total</th>\n",
       "      <th>spend_90_flag</th>\n",
       "    </tr>\n",
       "    <tr>\n",
       "      <th>customer_id</th>\n",
       "      <th></th>\n",
       "      <th></th>\n",
       "    </tr>\n",
       "  </thead>\n",
       "  <tbody>\n",
       "    <tr>\n",
       "      <th>3</th>\n",
       "      <td>16.99</td>\n",
       "      <td>1</td>\n",
       "    </tr>\n",
       "    <tr>\n",
       "      <th>9</th>\n",
       "      <td>41.98</td>\n",
       "      <td>1</td>\n",
       "    </tr>\n",
       "    <tr>\n",
       "      <th>25</th>\n",
       "      <td>73.43</td>\n",
       "      <td>1</td>\n",
       "    </tr>\n",
       "    <tr>\n",
       "      <th>29</th>\n",
       "      <td>48.45</td>\n",
       "      <td>1</td>\n",
       "    </tr>\n",
       "    <tr>\n",
       "      <th>31</th>\n",
       "      <td>117.99</td>\n",
       "      <td>1</td>\n",
       "    </tr>\n",
       "  </tbody>\n",
       "</table>\n",
       "</div>"
      ],
      "text/plain": [
       "             spend_90_total  spend_90_flag\n",
       "customer_id                               \n",
       "3                     16.99              1\n",
       "9                     41.98              1\n",
       "25                    73.43              1\n",
       "29                    48.45              1\n",
       "31                   117.99              1"
      ]
     },
     "execution_count": 117,
     "metadata": {},
     "output_type": "execute_result"
    }
   ],
   "source": [
    "targets_df.head()"
   ]
  },
  {
   "cell_type": "code",
   "execution_count": 118,
   "id": "ae4d0ecc",
   "metadata": {},
   "outputs": [],
   "source": [
    "#make recency(OrderDate) from behind data\n",
    "\n",
    "max_date = temporal_behind_df[\"date\"].max()"
   ]
  },
  {
   "cell_type": "code",
   "execution_count": 119,
   "id": "7813a586",
   "metadata": {},
   "outputs": [],
   "source": [
    "recency_features_df = temporal_behind_df[[\"customer_id\", \"date\"]] \\\n",
    "        .groupby(\"customer_id\") \\\n",
    "        .apply(lambda x: (x[\"date\"].max()-max_date) / pd.to_timedelta(1, \"day\")) \\\n",
    "        .to_frame().set_axis([\"recency\"], axis=1)\n"
   ]
  },
  {
   "cell_type": "code",
   "execution_count": 120,
   "id": "160501b8",
   "metadata": {},
   "outputs": [],
   "source": [
    "#recency_features_df.head()"
   ]
  },
  {
   "cell_type": "code",
   "execution_count": 121,
   "id": "5f63e5c7",
   "metadata": {},
   "outputs": [],
   "source": [
    "# Make Frequency (count) features from lower data\n",
    "\n",
    "frequency_features_df = temporal_behind_df[[\"customer_id\",\"date\"]] \\\n",
    "        .groupby(\"customer_id\") \\\n",
    "        .count() \\\n",
    "        .set_axis([\"frequency\"], axis=1)"
   ]
  },
  {
   "cell_type": "code",
   "execution_count": 122,
   "id": "30263e9a",
   "metadata": {},
   "outputs": [],
   "source": [
    "#Make price (MonetaryValue) features from lower data\n",
    "\n",
    "price_feature_df = temporal_behind_df[[\"customer_id\",\"date\",\"price\"]] \\\n",
    "        .groupby(\"customer_id\") \\\n",
    "        .aggregate( {\"price\": [\"sum\",\"mean\"]}) \\\n",
    "        .set_axis([\"Sales_sum\",\"Sales_mean\"],axis=1)"
   ]
  },
  {
   "cell_type": "code",
   "execution_count": 126,
   "id": "9b3bbad1",
   "metadata": {},
   "outputs": [],
   "source": [
    "# Combine features\n",
    "\n",
    "Features_df = pd.concat([recency_features_df,frequency_features_df,price_feature_df],axis=1) \\\n",
    "              .merge(targets_df,\n",
    "               left_index=True,\n",
    "               right_index = True,\n",
    "               how = \"left\") \\\n",
    "            .fillna(0)"
   ]
  },
  {
   "cell_type": "code",
   "execution_count": 127,
   "id": "b50dbabf",
   "metadata": {},
   "outputs": [
    {
     "data": {
      "text/html": [
       "<div>\n",
       "<style scoped>\n",
       "    .dataframe tbody tr th:only-of-type {\n",
       "        vertical-align: middle;\n",
       "    }\n",
       "\n",
       "    .dataframe tbody tr th {\n",
       "        vertical-align: top;\n",
       "    }\n",
       "\n",
       "    .dataframe thead th {\n",
       "        text-align: right;\n",
       "    }\n",
       "</style>\n",
       "<table border=\"1\" class=\"dataframe\">\n",
       "  <thead>\n",
       "    <tr style=\"text-align: right;\">\n",
       "      <th></th>\n",
       "      <th>recency</th>\n",
       "      <th>frequency</th>\n",
       "      <th>Sales_sum</th>\n",
       "      <th>Sales_mean</th>\n",
       "      <th>spend_90_total</th>\n",
       "      <th>spend_90_flag</th>\n",
       "    </tr>\n",
       "    <tr>\n",
       "      <th>customer_id</th>\n",
       "      <th></th>\n",
       "      <th></th>\n",
       "      <th></th>\n",
       "      <th></th>\n",
       "      <th></th>\n",
       "      <th></th>\n",
       "    </tr>\n",
       "  </thead>\n",
       "  <tbody>\n",
       "    <tr>\n",
       "      <th>1</th>\n",
       "      <td>-455.0</td>\n",
       "      <td>1</td>\n",
       "      <td>11.77</td>\n",
       "      <td>11.770000</td>\n",
       "      <td>0.00</td>\n",
       "      <td>0.0</td>\n",
       "    </tr>\n",
       "    <tr>\n",
       "      <th>2</th>\n",
       "      <td>-444.0</td>\n",
       "      <td>2</td>\n",
       "      <td>89.00</td>\n",
       "      <td>44.500000</td>\n",
       "      <td>0.00</td>\n",
       "      <td>0.0</td>\n",
       "    </tr>\n",
       "    <tr>\n",
       "      <th>3</th>\n",
       "      <td>-127.0</td>\n",
       "      <td>5</td>\n",
       "      <td>139.47</td>\n",
       "      <td>27.894000</td>\n",
       "      <td>16.99</td>\n",
       "      <td>1.0</td>\n",
       "    </tr>\n",
       "    <tr>\n",
       "      <th>4</th>\n",
       "      <td>-110.0</td>\n",
       "      <td>4</td>\n",
       "      <td>100.50</td>\n",
       "      <td>25.125000</td>\n",
       "      <td>0.00</td>\n",
       "      <td>0.0</td>\n",
       "    </tr>\n",
       "    <tr>\n",
       "      <th>5</th>\n",
       "      <td>-88.0</td>\n",
       "      <td>11</td>\n",
       "      <td>385.61</td>\n",
       "      <td>35.055455</td>\n",
       "      <td>0.00</td>\n",
       "      <td>0.0</td>\n",
       "    </tr>\n",
       "  </tbody>\n",
       "</table>\n",
       "</div>"
      ],
      "text/plain": [
       "             recency  frequency  Sales_sum  Sales_mean  spend_90_total  \\\n",
       "customer_id                                                              \n",
       "1             -455.0          1      11.77   11.770000            0.00   \n",
       "2             -444.0          2      89.00   44.500000            0.00   \n",
       "3             -127.0          5     139.47   27.894000           16.99   \n",
       "4             -110.0          4     100.50   25.125000            0.00   \n",
       "5              -88.0         11     385.61   35.055455            0.00   \n",
       "\n",
       "             spend_90_flag  \n",
       "customer_id                 \n",
       "1                      0.0  \n",
       "2                      0.0  \n",
       "3                      1.0  \n",
       "4                      0.0  \n",
       "5                      0.0  "
      ]
     },
     "execution_count": 127,
     "metadata": {},
     "output_type": "execute_result"
    }
   ],
   "source": [
    "\n",
    "Features_df.head()"
   ]
  },
  {
   "cell_type": "code",
   "execution_count": 128,
   "id": "2d0ba3e1",
   "metadata": {},
   "outputs": [],
   "source": [
    "X = Features_df[[\"recency\",\"frequency\",\"Sales_sum\",\"Sales_mean\"]]"
   ]
  },
  {
   "cell_type": "code",
   "execution_count": 129,
   "id": "7fcd216d",
   "metadata": {},
   "outputs": [],
   "source": [
    "#nwxt 90-days\n",
    "y_spend = Features_df[\"spend_90_total\"]"
   ]
  },
  {
   "cell_type": "code",
   "execution_count": 130,
   "id": "5c09ff8d",
   "metadata": {},
   "outputs": [
    {
     "data": {
      "text/html": [
       "<style>#sk-container-id-1 {color: black;background-color: white;}#sk-container-id-1 pre{padding: 0;}#sk-container-id-1 div.sk-toggleable {background-color: white;}#sk-container-id-1 label.sk-toggleable__label {cursor: pointer;display: block;width: 100%;margin-bottom: 0;padding: 0.3em;box-sizing: border-box;text-align: center;}#sk-container-id-1 label.sk-toggleable__label-arrow:before {content: \"▸\";float: left;margin-right: 0.25em;color: #696969;}#sk-container-id-1 label.sk-toggleable__label-arrow:hover:before {color: black;}#sk-container-id-1 div.sk-estimator:hover label.sk-toggleable__label-arrow:before {color: black;}#sk-container-id-1 div.sk-toggleable__content {max-height: 0;max-width: 0;overflow: hidden;text-align: left;background-color: #f0f8ff;}#sk-container-id-1 div.sk-toggleable__content pre {margin: 0.2em;color: black;border-radius: 0.25em;background-color: #f0f8ff;}#sk-container-id-1 input.sk-toggleable__control:checked~div.sk-toggleable__content {max-height: 200px;max-width: 100%;overflow: auto;}#sk-container-id-1 input.sk-toggleable__control:checked~label.sk-toggleable__label-arrow:before {content: \"▾\";}#sk-container-id-1 div.sk-estimator input.sk-toggleable__control:checked~label.sk-toggleable__label {background-color: #d4ebff;}#sk-container-id-1 div.sk-label input.sk-toggleable__control:checked~label.sk-toggleable__label {background-color: #d4ebff;}#sk-container-id-1 input.sk-hidden--visually {border: 0;clip: rect(1px 1px 1px 1px);clip: rect(1px, 1px, 1px, 1px);height: 1px;margin: -1px;overflow: hidden;padding: 0;position: absolute;width: 1px;}#sk-container-id-1 div.sk-estimator {font-family: monospace;background-color: #f0f8ff;border: 1px dotted black;border-radius: 0.25em;box-sizing: border-box;margin-bottom: 0.5em;}#sk-container-id-1 div.sk-estimator:hover {background-color: #d4ebff;}#sk-container-id-1 div.sk-parallel-item::after {content: \"\";width: 100%;border-bottom: 1px solid gray;flex-grow: 1;}#sk-container-id-1 div.sk-label:hover label.sk-toggleable__label {background-color: #d4ebff;}#sk-container-id-1 div.sk-serial::before {content: \"\";position: absolute;border-left: 1px solid gray;box-sizing: border-box;top: 0;bottom: 0;left: 50%;z-index: 0;}#sk-container-id-1 div.sk-serial {display: flex;flex-direction: column;align-items: center;background-color: white;padding-right: 0.2em;padding-left: 0.2em;position: relative;}#sk-container-id-1 div.sk-item {position: relative;z-index: 1;}#sk-container-id-1 div.sk-parallel {display: flex;align-items: stretch;justify-content: center;background-color: white;position: relative;}#sk-container-id-1 div.sk-item::before, #sk-container-id-1 div.sk-parallel-item::before {content: \"\";position: absolute;border-left: 1px solid gray;box-sizing: border-box;top: 0;bottom: 0;left: 50%;z-index: -1;}#sk-container-id-1 div.sk-parallel-item {display: flex;flex-direction: column;z-index: 1;position: relative;background-color: white;}#sk-container-id-1 div.sk-parallel-item:first-child::after {align-self: flex-end;width: 50%;}#sk-container-id-1 div.sk-parallel-item:last-child::after {align-self: flex-start;width: 50%;}#sk-container-id-1 div.sk-parallel-item:only-child::after {width: 0;}#sk-container-id-1 div.sk-dashed-wrapped {border: 1px dashed gray;margin: 0 0.4em 0.5em 0.4em;box-sizing: border-box;padding-bottom: 0.4em;background-color: white;}#sk-container-id-1 div.sk-label label {font-family: monospace;font-weight: bold;display: inline-block;line-height: 1.2em;}#sk-container-id-1 div.sk-label-container {text-align: center;}#sk-container-id-1 div.sk-container {/* jupyter's `normalize.less` sets `[hidden] { display: none; }` but bootstrap.min.css set `[hidden] { display: none !important; }` so we also need the `!important` here to be able to override the default hidden behavior on the sphinx rendered scikit-learn.org. See: https://github.com/scikit-learn/scikit-learn/issues/21755 */display: inline-block !important;position: relative;}#sk-container-id-1 div.sk-text-repr-fallback {display: none;}</style><div id=\"sk-container-id-1\" class=\"sk-top-container\"><div class=\"sk-text-repr-fallback\"><pre>GridSearchCV(cv=5,\n",
       "             estimator=XGBRegressor(base_score=None, booster=None,\n",
       "                                    callbacks=None, colsample_bylevel=None,\n",
       "                                    colsample_bynode=None,\n",
       "                                    colsample_bytree=None,\n",
       "                                    early_stopping_rounds=None,\n",
       "                                    enable_categorical=False, eval_metric=None,\n",
       "                                    gamma=None, gpu_id=None, grow_policy=None,\n",
       "                                    importance_type=None,\n",
       "                                    interaction_constraints=None,\n",
       "                                    learning_rate=None, max_bin=None,\n",
       "                                    max_cat_to_onehot=None, max_delta_step=None,\n",
       "                                    max_depth=None, max_leaves=None,\n",
       "                                    min_child_weight=None, missing=nan,\n",
       "                                    monotone_constraints=None, n_estimators=100,\n",
       "                                    n_jobs=None, num_parallel_tree=None,\n",
       "                                    predictor=None, random_state=123,\n",
       "                                    reg_alpha=None, reg_lambda=None, ...),\n",
       "             n_jobs=-1, param_grid={&#x27;learning_rate&#x27;: [0.01, 0.1, 0.3, 0.5]},\n",
       "             scoring=&#x27;neg_mean_absolute_error&#x27;)</pre><b>In a Jupyter environment, please rerun this cell to show the HTML representation or trust the notebook. <br />On GitHub, the HTML representation is unable to render, please try loading this page with nbviewer.org.</b></div><div class=\"sk-container\" hidden><div class=\"sk-item sk-dashed-wrapped\"><div class=\"sk-label-container\"><div class=\"sk-label sk-toggleable\"><input class=\"sk-toggleable__control sk-hidden--visually\" id=\"sk-estimator-id-1\" type=\"checkbox\" ><label for=\"sk-estimator-id-1\" class=\"sk-toggleable__label sk-toggleable__label-arrow\">GridSearchCV</label><div class=\"sk-toggleable__content\"><pre>GridSearchCV(cv=5,\n",
       "             estimator=XGBRegressor(base_score=None, booster=None,\n",
       "                                    callbacks=None, colsample_bylevel=None,\n",
       "                                    colsample_bynode=None,\n",
       "                                    colsample_bytree=None,\n",
       "                                    early_stopping_rounds=None,\n",
       "                                    enable_categorical=False, eval_metric=None,\n",
       "                                    gamma=None, gpu_id=None, grow_policy=None,\n",
       "                                    importance_type=None,\n",
       "                                    interaction_constraints=None,\n",
       "                                    learning_rate=None, max_bin=None,\n",
       "                                    max_cat_to_onehot=None, max_delta_step=None,\n",
       "                                    max_depth=None, max_leaves=None,\n",
       "                                    min_child_weight=None, missing=nan,\n",
       "                                    monotone_constraints=None, n_estimators=100,\n",
       "                                    n_jobs=None, num_parallel_tree=None,\n",
       "                                    predictor=None, random_state=123,\n",
       "                                    reg_alpha=None, reg_lambda=None, ...),\n",
       "             n_jobs=-1, param_grid={&#x27;learning_rate&#x27;: [0.01, 0.1, 0.3, 0.5]},\n",
       "             scoring=&#x27;neg_mean_absolute_error&#x27;)</pre></div></div></div><div class=\"sk-parallel\"><div class=\"sk-parallel-item\"><div class=\"sk-item\"><div class=\"sk-label-container\"><div class=\"sk-label sk-toggleable\"><input class=\"sk-toggleable__control sk-hidden--visually\" id=\"sk-estimator-id-2\" type=\"checkbox\" ><label for=\"sk-estimator-id-2\" class=\"sk-toggleable__label sk-toggleable__label-arrow\">estimator: XGBRegressor</label><div class=\"sk-toggleable__content\"><pre>XGBRegressor(base_score=None, booster=None, callbacks=None,\n",
       "             colsample_bylevel=None, colsample_bynode=None,\n",
       "             colsample_bytree=None, early_stopping_rounds=None,\n",
       "             enable_categorical=False, eval_metric=None, gamma=None,\n",
       "             gpu_id=None, grow_policy=None, importance_type=None,\n",
       "             interaction_constraints=None, learning_rate=None, max_bin=None,\n",
       "             max_cat_to_onehot=None, max_delta_step=None, max_depth=None,\n",
       "             max_leaves=None, min_child_weight=None, missing=nan,\n",
       "             monotone_constraints=None, n_estimators=100, n_jobs=None,\n",
       "             num_parallel_tree=None, predictor=None, random_state=123,\n",
       "             reg_alpha=None, reg_lambda=None, ...)</pre></div></div></div><div class=\"sk-serial\"><div class=\"sk-item\"><div class=\"sk-estimator sk-toggleable\"><input class=\"sk-toggleable__control sk-hidden--visually\" id=\"sk-estimator-id-3\" type=\"checkbox\" ><label for=\"sk-estimator-id-3\" class=\"sk-toggleable__label sk-toggleable__label-arrow\">XGBRegressor</label><div class=\"sk-toggleable__content\"><pre>XGBRegressor(base_score=None, booster=None, callbacks=None,\n",
       "             colsample_bylevel=None, colsample_bynode=None,\n",
       "             colsample_bytree=None, early_stopping_rounds=None,\n",
       "             enable_categorical=False, eval_metric=None, gamma=None,\n",
       "             gpu_id=None, grow_policy=None, importance_type=None,\n",
       "             interaction_constraints=None, learning_rate=None, max_bin=None,\n",
       "             max_cat_to_onehot=None, max_delta_step=None, max_depth=None,\n",
       "             max_leaves=None, min_child_weight=None, missing=nan,\n",
       "             monotone_constraints=None, n_estimators=100, n_jobs=None,\n",
       "             num_parallel_tree=None, predictor=None, random_state=123,\n",
       "             reg_alpha=None, reg_lambda=None, ...)</pre></div></div></div></div></div></div></div></div></div></div>"
      ],
      "text/plain": [
       "GridSearchCV(cv=5,\n",
       "             estimator=XGBRegressor(base_score=None, booster=None,\n",
       "                                    callbacks=None, colsample_bylevel=None,\n",
       "                                    colsample_bynode=None,\n",
       "                                    colsample_bytree=None,\n",
       "                                    early_stopping_rounds=None,\n",
       "                                    enable_categorical=False, eval_metric=None,\n",
       "                                    gamma=None, gpu_id=None, grow_policy=None,\n",
       "                                    importance_type=None,\n",
       "                                    interaction_constraints=None,\n",
       "                                    learning_rate=None, max_bin=None,\n",
       "                                    max_cat_to_onehot=None, max_delta_step=None,\n",
       "                                    max_depth=None, max_leaves=None,\n",
       "                                    min_child_weight=None, missing=nan,\n",
       "                                    monotone_constraints=None, n_estimators=100,\n",
       "                                    n_jobs=None, num_parallel_tree=None,\n",
       "                                    predictor=None, random_state=123,\n",
       "                                    reg_alpha=None, reg_lambda=None, ...),\n",
       "             n_jobs=-1, param_grid={'learning_rate': [0.01, 0.1, 0.3, 0.5]},\n",
       "             scoring='neg_mean_absolute_error')"
      ]
     },
     "execution_count": 130,
     "metadata": {},
     "output_type": "execute_result"
    }
   ],
   "source": [
    "xgb_reg_spec2 = XGBRegressor(\n",
    "    objective=\"reg:squarederror\",\n",
    "    random_state=123\n",
    ")\n",
    "\n",
    "param_grid = {\n",
    "    \"learning_rate\": [0.01, 0.1, 0.3, 0.5]\n",
    "}\n",
    "\n",
    "xgb_reg_model2 = GridSearchCV(\n",
    "    estimator=xgb_reg_spec2,\n",
    "    param_grid=param_grid,\n",
    "    scoring=\"neg_mean_absolute_error\",\n",
    "    cv=5,\n",
    "    n_jobs=-1\n",
    ")\n",
    "\n",
    "xgb_reg_model2.fit(X,y_spend)\n",
    "\n",
    "\n"
   ]
  },
  {
   "cell_type": "code",
   "execution_count": 131,
   "id": "430087e9",
   "metadata": {},
   "outputs": [
    {
     "name": "stdout",
     "output_type": "stream",
     "text": [
      "Best parameters: {'learning_rate': 0.01}\n",
      "Best score: -9.782938524056352\n"
     ]
    }
   ],
   "source": [
    "# Print the best parameters and best score\n",
    "print(f\"Best parameters: {xgb_reg_model2.best_params_}\")\n",
    "print(f\"Best score: {xgb_reg_model2.best_score_}\")\n"
   ]
  },
  {
   "cell_type": "code",
   "execution_count": 132,
   "id": "ce0451f6",
   "metadata": {},
   "outputs": [],
   "source": [
    "y_pred = xgb_reg_model2.predict(X)"
   ]
  },
  {
   "cell_type": "code",
   "execution_count": 133,
   "id": "d142063f",
   "metadata": {},
   "outputs": [
    {
     "data": {
      "text/plain": [
       "array([ 0.7684548,  1.6811874,  9.103387 ,  7.5565157, 15.197543 ,\n",
       "        0.8081817, 17.22487  , 19.520144 ,  2.426112 ,  0.8504526],\n",
       "      dtype=float32)"
      ]
     },
     "execution_count": 133,
     "metadata": {},
     "output_type": "execute_result"
    }
   ],
   "source": [
    "y_pred[:10]"
   ]
  },
  {
   "cell_type": "code",
   "execution_count": 135,
   "id": "75e6e6ac",
   "metadata": {},
   "outputs": [],
   "source": [
    "# Next 90-days spend probability\n",
    "\n",
    "y_prob = Features_df[\"spend_90_flag\"]"
   ]
  },
  {
   "cell_type": "code",
   "execution_count": 136,
   "id": "a1080490",
   "metadata": {},
   "outputs": [
    {
     "name": "stdout",
     "output_type": "stream",
     "text": [
      "ROC AUC score: 0.8765\n"
     ]
    }
   ],
   "source": [
    "# Define the XGBClassifier with some initial hyperparameters\n",
    "from sklearn.metrics import roc_auc_score\n",
    "xgb_clf = XGBClassifier(\n",
    "    objective=\"binary:logistic\",\n",
    "    learning_rate=0.1,\n",
    "    max_depth=5,\n",
    "    subsample=0.75,\n",
    "    colsample_bytree=0.75,\n",
    "    gamma=0.1,\n",
    "    reg_alpha=0.1,\n",
    "    reg_lambda=0.1,\n",
    "    random_state=123\n",
    ")\n",
    "\n",
    "# Fit the model on the training data\n",
    "xgb_clf.fit(X, y_prob)\n",
    "\n",
    "# Evaluate the model on the test data\n",
    "y_pred = xgb_clf.predict_proba(X)[:, 1]\n",
    "auc_score = roc_auc_score(y_prob, y_pred)\n",
    "print(\"ROC AUC score: {:.4f}\".format(auc_score))"
   ]
  },
  {
   "cell_type": "code",
   "execution_count": 137,
   "id": "55fe8a3b",
   "metadata": {},
   "outputs": [],
   "source": [
    "y_pred_prob = xgb_clf.predict_proba(X)\n"
   ]
  },
  {
   "cell_type": "code",
   "execution_count": 138,
   "id": "335d1520",
   "metadata": {},
   "outputs": [
    {
     "name": "stdout",
     "output_type": "stream",
     "text": [
      "ROC AUC score: 0.8765\n"
     ]
    }
   ],
   "source": [
    "print(\"ROC AUC score: {:.4f}\".format(auc_score))"
   ]
  },
  {
   "cell_type": "markdown",
   "id": "49c5a334",
   "metadata": {},
   "source": [
    "## Feature Importance"
   ]
  },
  {
   "cell_type": "code",
   "execution_count": 139,
   "id": "b4e8dd8e",
   "metadata": {},
   "outputs": [],
   "source": [
    "# Importance | Spend Amount Model\n",
    "\n",
    "imp_spend_amount_dict = xgb_reg_model2 \\\n",
    "    .best_estimator_ \\\n",
    "    .get_booster() \\\n",
    "    .get_score(importance_type=\"gain\")"
   ]
  },
  {
   "cell_type": "code",
   "execution_count": 140,
   "id": "5a466c1a",
   "metadata": {},
   "outputs": [],
   "source": [
    "\n",
    "# Create a pandas DataFrame from a dictionary of important spending amounts\n",
    "imp_spend_amount_df = pd.DataFrame({\n",
    "    \"features\": list(imp_spend_amount_dict.keys()),\n",
    "    \"value\": list(imp_spend_amount_dict.values())\n",
    "})\n",
    "\n",
    "# Reorder the \"features\" column based on the corresponding \"value\" column\n",
    "imp_spend_amount_df = imp_spend_amount_df.assign(\n",
    "    features=lambda df: cat.cat_reorder(df[\"features\"], df[\"value\"])\n",
    ")"
   ]
  },
  {
   "cell_type": "code",
   "execution_count": 141,
   "id": "2fa48411",
   "metadata": {},
   "outputs": [
    {
     "data": {
      "image/png": "[encoded data removed]",
      "text/plain": [
       "<Figure size 640x480 with 1 Axes>"
      ]
     },
     "metadata": {},
     "output_type": "display_data"
    },
    {
     "data": {
      "text/plain": [
       "<ggplot: (8788652953814)>"
      ]
     },
     "execution_count": 141,
     "metadata": {},
     "output_type": "execute_result"
    }
   ],
   "source": [
    "(pn.ggplot(\n",
    "    data = imp_spend_amount_df,\n",
    "    mapping = pn.aes(\"features\",\"value\")) \\\n",
    "    + pn.geom_col() \\\n",
    "    + pn.coord_flip()\n",
    ")\n"
   ]
  },
  {
   "cell_type": "code",
   "execution_count": 142,
   "id": "34811f10",
   "metadata": {},
   "outputs": [],
   "source": [
    "importance_scores = xgb_clf.feature_importances_\n",
    "feature_names = X.columns # Assuming X is a pandas DataFrame\n",
    "sorted_idx = importance_scores.argsort()\n",
    "\n",
    "imp_spend_prob_df = pd.DataFrame({\n",
    "    \"features\": feature_names[sorted_idx],\n",
    "    \"value\": importance_scores[sorted_idx]\n",
    "})\n",
    "\n",
    "# Reorder the \"features\" column based on the corresponding \"value\" column\n",
    "imp_spend_prob_df = imp_spend_prob_df.assign(\n",
    "    features=lambda df: cat.cat_reorder(df[\"features\"], df[\"value\"])\n",
    ")\n"
   ]
  },
  {
   "cell_type": "code",
   "execution_count": 143,
   "id": "b5d3e3ca",
   "metadata": {},
   "outputs": [
    {
     "data": {
      "text/plain": [
       "features    value        \n",
       "Sales_mean  43371.421875     0.25\n",
       "recency     125266.851562    0.25\n",
       "frequency   175807.296875    0.25\n",
       "Sales_sum   707378.750000    0.25\n",
       "dtype: float64"
      ]
     },
     "execution_count": 143,
     "metadata": {},
     "output_type": "execute_result"
    }
   ],
   "source": [
    "imp_spend_amount_df.value_counts(normalize=True)"
   ]
  },
  {
   "cell_type": "code",
   "execution_count": 144,
   "id": "af90466a",
   "metadata": {},
   "outputs": [
    {
     "data": {
      "image/png": "[encoded data removed]",
      "text/plain": [
       "<Figure size 640x480 with 1 Axes>"
      ]
     },
     "metadata": {},
     "output_type": "display_data"
    },
    {
     "data": {
      "text/plain": [
       "<ggplot: (8788564365225)>"
      ]
     },
     "execution_count": 144,
     "metadata": {},
     "output_type": "execute_result"
    }
   ],
   "source": [
    "(pn.ggplot(\n",
    "    data = imp_spend_prob_df,\n",
    "    mapping = pn.aes(\"features\",\"value\")) \\\n",
    "    + pn.geom_col() \\\n",
    "    + pn.coord_flip()\n",
    ")"
   ]
  },
  {
   "cell_type": "code",
   "execution_count": 145,
   "id": "16b18777",
   "metadata": {},
   "outputs": [],
   "source": [
    "# Save Predictions\n",
    "\n",
    "predictions_df = pd.concat(\n",
    "    [\n",
    "        Features_df.reset_index(),\n",
    "        pd.DataFrame(y_pred ).set_axis([\"spend_pred\"],axis=1), \\\n",
    "        pd.DataFrame(y_pred_prob)[[1]].set_axis([\"spend_prob\"],axis=1), \\\n",
    "        \n",
    "    ],\n",
    "    axis=1\n",
    ")\n"
   ]
  },
  {
   "cell_type": "code",
   "execution_count": 168,
   "id": "691df562",
   "metadata": {},
   "outputs": [
    {
     "data": {
      "text/plain": [
       "502.0935935511243"
      ]
     },
     "execution_count": 168,
     "metadata": {},
     "output_type": "execute_result"
    }
   ],
   "source": [
    "merged_df[\"age\"].mean()"
   ]
  },
  {
   "cell_type": "code",
   "execution_count": 161,
   "id": "005cb2fb",
   "metadata": {},
   "outputs": [
    {
     "data": {
      "text/html": [
       "<div>\n",
       "<style scoped>\n",
       "    .dataframe tbody tr th:only-of-type {\n",
       "        vertical-align: middle;\n",
       "    }\n",
       "\n",
       "    .dataframe tbody tr th {\n",
       "        vertical-align: top;\n",
       "    }\n",
       "\n",
       "    .dataframe thead th {\n",
       "        text-align: right;\n",
       "    }\n",
       "</style>\n",
       "<table border=\"1\" class=\"dataframe\">\n",
       "  <thead>\n",
       "    <tr style=\"text-align: right;\">\n",
       "      <th></th>\n",
       "      <th>customer_id</th>\n",
       "      <th>recency</th>\n",
       "      <th>frequency</th>\n",
       "      <th>Sales_sum</th>\n",
       "      <th>Sales_mean</th>\n",
       "      <th>spend_90_total</th>\n",
       "      <th>spend_90_flag</th>\n",
       "      <th>spend_pred</th>\n",
       "      <th>spend_prob</th>\n",
       "      <th>age</th>\n",
       "      <th>CLV</th>\n",
       "    </tr>\n",
       "  </thead>\n",
       "  <tbody>\n",
       "    <tr>\n",
       "      <th>0</th>\n",
       "      <td>1</td>\n",
       "      <td>-455.0</td>\n",
       "      <td>1</td>\n",
       "      <td>11.77</td>\n",
       "      <td>11.770000</td>\n",
       "      <td>0.00</td>\n",
       "      <td>0.0</td>\n",
       "      <td>0.015437</td>\n",
       "      <td>0.015437</td>\n",
       "      <td>545</td>\n",
       "      <td>38.838492</td>\n",
       "    </tr>\n",
       "    <tr>\n",
       "      <th>1</th>\n",
       "      <td>2</td>\n",
       "      <td>-444.0</td>\n",
       "      <td>2</td>\n",
       "      <td>89.00</td>\n",
       "      <td>44.500000</td>\n",
       "      <td>0.00</td>\n",
       "      <td>0.0</td>\n",
       "      <td>0.028740</td>\n",
       "      <td>0.028740</td>\n",
       "      <td>534</td>\n",
       "      <td>1310.015419</td>\n",
       "    </tr>\n",
       "    <tr>\n",
       "      <th>2</th>\n",
       "      <td>3</td>\n",
       "      <td>-127.0</td>\n",
       "      <td>5</td>\n",
       "      <td>139.47</td>\n",
       "      <td>27.894000</td>\n",
       "      <td>16.99</td>\n",
       "      <td>1.0</td>\n",
       "      <td>0.265295</td>\n",
       "      <td>0.265295</td>\n",
       "      <td>544</td>\n",
       "      <td>561.183767</td>\n",
       "    </tr>\n",
       "    <tr>\n",
       "      <th>3</th>\n",
       "      <td>4</td>\n",
       "      <td>-110.0</td>\n",
       "      <td>4</td>\n",
       "      <td>100.50</td>\n",
       "      <td>25.125000</td>\n",
       "      <td>0.00</td>\n",
       "      <td>0.0</td>\n",
       "      <td>0.259461</td>\n",
       "      <td>0.259461</td>\n",
       "      <td>545</td>\n",
       "      <td>204.630788</td>\n",
       "    </tr>\n",
       "    <tr>\n",
       "      <th>4</th>\n",
       "      <td>5</td>\n",
       "      <td>-88.0</td>\n",
       "      <td>11</td>\n",
       "      <td>385.61</td>\n",
       "      <td>35.055455</td>\n",
       "      <td>0.00</td>\n",
       "      <td>0.0</td>\n",
       "      <td>0.568058</td>\n",
       "      <td>0.568058</td>\n",
       "      <td>545</td>\n",
       "      <td>1200.836469</td>\n",
       "    </tr>\n",
       "  </tbody>\n",
       "</table>\n",
       "</div>"
      ],
      "text/plain": [
       "   customer_id  recency  frequency  Sales_sum  Sales_mean  spend_90_total  \\\n",
       "0            1   -455.0          1      11.77   11.770000            0.00   \n",
       "1            2   -444.0          2      89.00   44.500000            0.00   \n",
       "2            3   -127.0          5     139.47   27.894000           16.99   \n",
       "3            4   -110.0          4     100.50   25.125000            0.00   \n",
       "4            5    -88.0         11     385.61   35.055455            0.00   \n",
       "\n",
       "   spend_90_flag  spend_pred  spend_prob  age          CLV  \n",
       "0            0.0    0.015437    0.015437  545    38.838492  \n",
       "1            0.0    0.028740    0.028740  534  1310.015419  \n",
       "2            1.0    0.265295    0.265295  544   561.183767  \n",
       "3            0.0    0.259461    0.259461  545   204.630788  \n",
       "4            0.0    0.568058    0.568058  545  1200.836469  "
      ]
     },
     "execution_count": 161,
     "metadata": {},
     "output_type": "execute_result"
    }
   ],
   "source": [
    "# merge predictions_df and df2 (CLV dataframe)\n",
    "merged_df = pd.merge(predictions_df,df2, on='customer_id')\n",
    "\n",
    "# drop the specified columns\n",
    "merged_df = merged_df.drop(columns=['quantity', 'total_revenue', 'num_transactions', \\\n",
    "                                    'AOV', 'profit_margin']).rename({\"age\": \"customer_duration\"})\n",
    "\n",
    "# print the resulting dataframe\n",
    "merged_df.head()"
   ]
  },
  {
   "cell_type": "code",
   "execution_count": 147,
   "id": "4a05026a",
   "metadata": {},
   "outputs": [],
   "source": [
    "#save \n",
    "\n",
    "#predictions_df.to_pickle(\"artifacts/predictions_df.pkl\")\n",
    "\n",
    "#pd.read_pickle(\"folderName/predictions_df.pkl\")"
   ]
  },
  {
   "cell_type": "code",
   "execution_count": 148,
   "id": "2dff1a01",
   "metadata": {},
   "outputs": [],
   "source": [
    "#load model\n",
    "#model = joblib.load(\"folderName/xgb_clf_model\")\n",
    "#model.predict(X)"
   ]
  },
  {
   "cell_type": "markdown",
   "id": "5266ac8d",
   "metadata": {},
   "source": [
    "**#Question 1:** \n",
    "which customers have the highest spend probability in the next 90 days?\n",
    "- Target for new products similar to what they have pruchased in the past."
   ]
  },
  {
   "cell_type": "code",
   "execution_count": 152,
   "id": "642ff17e",
   "metadata": {},
   "outputs": [
    {
     "data": {
      "text/html": [
       "<div>\n",
       "<style scoped>\n",
       "    .dataframe tbody tr th:only-of-type {\n",
       "        vertical-align: middle;\n",
       "    }\n",
       "\n",
       "    .dataframe tbody tr th {\n",
       "        vertical-align: top;\n",
       "    }\n",
       "\n",
       "    .dataframe thead th {\n",
       "        text-align: right;\n",
       "    }\n",
       "</style>\n",
       "<table border=\"1\" class=\"dataframe\">\n",
       "  <thead>\n",
       "    <tr style=\"text-align: right;\">\n",
       "      <th></th>\n",
       "      <th>customer_id</th>\n",
       "      <th>recency</th>\n",
       "      <th>frequency</th>\n",
       "      <th>Sales_sum</th>\n",
       "      <th>Sales_mean</th>\n",
       "      <th>spend_90_total</th>\n",
       "      <th>spend_90_flag</th>\n",
       "      <th>spend_pred</th>\n",
       "      <th>spend_prob</th>\n",
       "    </tr>\n",
       "  </thead>\n",
       "  <tbody>\n",
       "    <tr>\n",
       "      <th>14047</th>\n",
       "      <td>14048</td>\n",
       "      <td>0.0</td>\n",
       "      <td>180</td>\n",
       "      <td>7267.15</td>\n",
       "      <td>40.373056</td>\n",
       "      <td>1740.98</td>\n",
       "      <td>1.0</td>\n",
       "      <td>0.996989</td>\n",
       "      <td>0.996989</td>\n",
       "    </tr>\n",
       "    <tr>\n",
       "      <th>2483</th>\n",
       "      <td>2484</td>\n",
       "      <td>0.0</td>\n",
       "      <td>59</td>\n",
       "      <td>1438.93</td>\n",
       "      <td>24.388644</td>\n",
       "      <td>357.92</td>\n",
       "      <td>1.0</td>\n",
       "      <td>0.996865</td>\n",
       "      <td>0.996865</td>\n",
       "    </tr>\n",
       "    <tr>\n",
       "      <th>10078</th>\n",
       "      <td>10079</td>\n",
       "      <td>0.0</td>\n",
       "      <td>62</td>\n",
       "      <td>2100.38</td>\n",
       "      <td>33.877097</td>\n",
       "      <td>112.31</td>\n",
       "      <td>1.0</td>\n",
       "      <td>0.996649</td>\n",
       "      <td>0.996649</td>\n",
       "    </tr>\n",
       "    <tr>\n",
       "      <th>7469</th>\n",
       "      <td>7470</td>\n",
       "      <td>0.0</td>\n",
       "      <td>27</td>\n",
       "      <td>742.71</td>\n",
       "      <td>27.507778</td>\n",
       "      <td>36.07</td>\n",
       "      <td>1.0</td>\n",
       "      <td>0.992549</td>\n",
       "      <td>0.992549</td>\n",
       "    </tr>\n",
       "    <tr>\n",
       "      <th>11526</th>\n",
       "      <td>11527</td>\n",
       "      <td>0.0</td>\n",
       "      <td>18</td>\n",
       "      <td>700.90</td>\n",
       "      <td>38.938889</td>\n",
       "      <td>64.95</td>\n",
       "      <td>1.0</td>\n",
       "      <td>0.992224</td>\n",
       "      <td>0.992224</td>\n",
       "    </tr>\n",
       "    <tr>\n",
       "      <th>...</th>\n",
       "      <td>...</td>\n",
       "      <td>...</td>\n",
       "      <td>...</td>\n",
       "      <td>...</td>\n",
       "      <td>...</td>\n",
       "      <td>...</td>\n",
       "      <td>...</td>\n",
       "      <td>...</td>\n",
       "      <td>...</td>\n",
       "    </tr>\n",
       "    <tr>\n",
       "      <th>1013</th>\n",
       "      <td>1014</td>\n",
       "      <td>-451.0</td>\n",
       "      <td>1</td>\n",
       "      <td>96.36</td>\n",
       "      <td>96.360000</td>\n",
       "      <td>0.00</td>\n",
       "      <td>0.0</td>\n",
       "      <td>0.005448</td>\n",
       "      <td>0.005448</td>\n",
       "    </tr>\n",
       "    <tr>\n",
       "      <th>6797</th>\n",
       "      <td>6798</td>\n",
       "      <td>-429.0</td>\n",
       "      <td>1</td>\n",
       "      <td>101.14</td>\n",
       "      <td>101.140000</td>\n",
       "      <td>0.00</td>\n",
       "      <td>0.0</td>\n",
       "      <td>0.005359</td>\n",
       "      <td>0.005359</td>\n",
       "    </tr>\n",
       "    <tr>\n",
       "      <th>1371</th>\n",
       "      <td>1372</td>\n",
       "      <td>-450.0</td>\n",
       "      <td>1</td>\n",
       "      <td>106.99</td>\n",
       "      <td>106.990000</td>\n",
       "      <td>0.00</td>\n",
       "      <td>0.0</td>\n",
       "      <td>0.004934</td>\n",
       "      <td>0.004934</td>\n",
       "    </tr>\n",
       "    <tr>\n",
       "      <th>816</th>\n",
       "      <td>817</td>\n",
       "      <td>-452.0</td>\n",
       "      <td>1</td>\n",
       "      <td>99.80</td>\n",
       "      <td>99.800000</td>\n",
       "      <td>0.00</td>\n",
       "      <td>0.0</td>\n",
       "      <td>0.004443</td>\n",
       "      <td>0.004443</td>\n",
       "    </tr>\n",
       "    <tr>\n",
       "      <th>320</th>\n",
       "      <td>321</td>\n",
       "      <td>-454.0</td>\n",
       "      <td>1</td>\n",
       "      <td>103.05</td>\n",
       "      <td>103.050000</td>\n",
       "      <td>0.00</td>\n",
       "      <td>0.0</td>\n",
       "      <td>0.004240</td>\n",
       "      <td>0.004240</td>\n",
       "    </tr>\n",
       "  </tbody>\n",
       "</table>\n",
       "<p>23570 rows × 9 columns</p>\n",
       "</div>"
      ],
      "text/plain": [
       "       customer_id  recency  frequency  Sales_sum  Sales_mean  spend_90_total  \\\n",
       "14047        14048      0.0        180    7267.15   40.373056         1740.98   \n",
       "2483          2484      0.0         59    1438.93   24.388644          357.92   \n",
       "10078        10079      0.0         62    2100.38   33.877097          112.31   \n",
       "7469          7470      0.0         27     742.71   27.507778           36.07   \n",
       "11526        11527      0.0         18     700.90   38.938889           64.95   \n",
       "...            ...      ...        ...        ...         ...             ...   \n",
       "1013          1014   -451.0          1      96.36   96.360000            0.00   \n",
       "6797          6798   -429.0          1     101.14  101.140000            0.00   \n",
       "1371          1372   -450.0          1     106.99  106.990000            0.00   \n",
       "816            817   -452.0          1      99.80   99.800000            0.00   \n",
       "320            321   -454.0          1     103.05  103.050000            0.00   \n",
       "\n",
       "       spend_90_flag  spend_pred  spend_prob  \n",
       "14047            1.0    0.996989    0.996989  \n",
       "2483             1.0    0.996865    0.996865  \n",
       "10078            1.0    0.996649    0.996649  \n",
       "7469             1.0    0.992549    0.992549  \n",
       "11526            1.0    0.992224    0.992224  \n",
       "...              ...         ...         ...  \n",
       "1013             0.0    0.005448    0.005448  \n",
       "6797             0.0    0.005359    0.005359  \n",
       "1371             0.0    0.004934    0.004934  \n",
       "816              0.0    0.004443    0.004443  \n",
       "320              0.0    0.004240    0.004240  \n",
       "\n",
       "[23570 rows x 9 columns]"
      ]
     },
     "execution_count": 152,
     "metadata": {},
     "output_type": "execute_result"
    }
   ],
   "source": [
    "Highest_prob_df =predictions_df.sort_values(\"spend_prob\", ascending = False )\n",
    "Highest_prob_df"
   ]
  },
  {
   "cell_type": "markdown",
   "id": "70f2bca0",
   "metadata": {},
   "source": [
    "**#Question 2: Which customers have recently purchased but are unlikely to buy?**\n",
    "- Incentivize actions to increase probability\n",
    "- Provide didcounts, encourage referring a friend, nuture by letting them know what's coming."
   ]
  },
  {
   "cell_type": "code",
   "execution_count": 172,
   "id": "9fd4dab7",
   "metadata": {},
   "outputs": [
    {
     "data": {
      "text/html": [
       "<div>\n",
       "<style scoped>\n",
       "    .dataframe tbody tr th:only-of-type {\n",
       "        vertical-align: middle;\n",
       "    }\n",
       "\n",
       "    .dataframe tbody tr th {\n",
       "        vertical-align: top;\n",
       "    }\n",
       "\n",
       "    .dataframe thead th {\n",
       "        text-align: right;\n",
       "    }\n",
       "</style>\n",
       "<table border=\"1\" class=\"dataframe\">\n",
       "  <thead>\n",
       "    <tr style=\"text-align: right;\">\n",
       "      <th></th>\n",
       "      <th>customer_id</th>\n",
       "      <th>recency</th>\n",
       "      <th>frequency</th>\n",
       "      <th>Sales_sum</th>\n",
       "      <th>Sales_mean</th>\n",
       "      <th>spend_90_total</th>\n",
       "      <th>spend_90_flag</th>\n",
       "      <th>spend_pred</th>\n",
       "      <th>spend_prob</th>\n",
       "      <th>age</th>\n",
       "      <th>CLV</th>\n",
       "    </tr>\n",
       "  </thead>\n",
       "  <tbody>\n",
       "    <tr>\n",
       "      <th>1003</th>\n",
       "      <td>1004</td>\n",
       "      <td>-59.0</td>\n",
       "      <td>3</td>\n",
       "      <td>257.88</td>\n",
       "      <td>85.960000</td>\n",
       "      <td>0.00</td>\n",
       "      <td>0.0</td>\n",
       "      <td>0.198446</td>\n",
       "      <td>0.198446</td>\n",
       "      <td>541</td>\n",
       "      <td>4663.456906</td>\n",
       "    </tr>\n",
       "    <tr>\n",
       "      <th>1576</th>\n",
       "      <td>1577</td>\n",
       "      <td>-60.0</td>\n",
       "      <td>2</td>\n",
       "      <td>88.82</td>\n",
       "      <td>44.410000</td>\n",
       "      <td>0.00</td>\n",
       "      <td>0.0</td>\n",
       "      <td>0.198344</td>\n",
       "      <td>0.198344</td>\n",
       "      <td>539</td>\n",
       "      <td>303.725590</td>\n",
       "    </tr>\n",
       "    <tr>\n",
       "      <th>5543</th>\n",
       "      <td>5544</td>\n",
       "      <td>-39.0</td>\n",
       "      <td>2</td>\n",
       "      <td>83.28</td>\n",
       "      <td>41.640000</td>\n",
       "      <td>0.00</td>\n",
       "      <td>0.0</td>\n",
       "      <td>0.195349</td>\n",
       "      <td>0.195349</td>\n",
       "      <td>524</td>\n",
       "      <td>362.844573</td>\n",
       "    </tr>\n",
       "    <tr>\n",
       "      <th>1702</th>\n",
       "      <td>1703</td>\n",
       "      <td>-68.0</td>\n",
       "      <td>2</td>\n",
       "      <td>86.37</td>\n",
       "      <td>43.185000</td>\n",
       "      <td>0.00</td>\n",
       "      <td>0.0</td>\n",
       "      <td>0.194745</td>\n",
       "      <td>0.194745</td>\n",
       "      <td>539</td>\n",
       "      <td>18.623398</td>\n",
       "    </tr>\n",
       "    <tr>\n",
       "      <th>5689</th>\n",
       "      <td>5690</td>\n",
       "      <td>-27.0</td>\n",
       "      <td>2</td>\n",
       "      <td>27.37</td>\n",
       "      <td>13.685000</td>\n",
       "      <td>11.88</td>\n",
       "      <td>1.0</td>\n",
       "      <td>0.194067</td>\n",
       "      <td>0.194067</td>\n",
       "      <td>523</td>\n",
       "      <td>37.004754</td>\n",
       "    </tr>\n",
       "    <tr>\n",
       "      <th>...</th>\n",
       "      <td>...</td>\n",
       "      <td>...</td>\n",
       "      <td>...</td>\n",
       "      <td>...</td>\n",
       "      <td>...</td>\n",
       "      <td>...</td>\n",
       "      <td>...</td>\n",
       "      <td>...</td>\n",
       "      <td>...</td>\n",
       "      <td>...</td>\n",
       "      <td>...</td>\n",
       "    </tr>\n",
       "    <tr>\n",
       "      <th>3422</th>\n",
       "      <td>3423</td>\n",
       "      <td>-70.0</td>\n",
       "      <td>2</td>\n",
       "      <td>23.26</td>\n",
       "      <td>11.630000</td>\n",
       "      <td>0.00</td>\n",
       "      <td>0.0</td>\n",
       "      <td>0.102700</td>\n",
       "      <td>0.102700</td>\n",
       "      <td>532</td>\n",
       "      <td>153.506089</td>\n",
       "    </tr>\n",
       "    <tr>\n",
       "      <th>980</th>\n",
       "      <td>981</td>\n",
       "      <td>-11.0</td>\n",
       "      <td>2</td>\n",
       "      <td>308.38</td>\n",
       "      <td>154.190000</td>\n",
       "      <td>0.00</td>\n",
       "      <td>0.0</td>\n",
       "      <td>0.098869</td>\n",
       "      <td>0.098869</td>\n",
       "      <td>539</td>\n",
       "      <td>5184.427270</td>\n",
       "    </tr>\n",
       "    <tr>\n",
       "      <th>6411</th>\n",
       "      <td>6412</td>\n",
       "      <td>-57.0</td>\n",
       "      <td>2</td>\n",
       "      <td>249.04</td>\n",
       "      <td>124.520000</td>\n",
       "      <td>0.00</td>\n",
       "      <td>0.0</td>\n",
       "      <td>0.096319</td>\n",
       "      <td>0.096319</td>\n",
       "      <td>521</td>\n",
       "      <td>389.720892</td>\n",
       "    </tr>\n",
       "    <tr>\n",
       "      <th>2541</th>\n",
       "      <td>2542</td>\n",
       "      <td>-82.0</td>\n",
       "      <td>3</td>\n",
       "      <td>29.47</td>\n",
       "      <td>9.823333</td>\n",
       "      <td>0.00</td>\n",
       "      <td>0.0</td>\n",
       "      <td>0.088674</td>\n",
       "      <td>0.088674</td>\n",
       "      <td>520</td>\n",
       "      <td>64.829814</td>\n",
       "    </tr>\n",
       "    <tr>\n",
       "      <th>4090</th>\n",
       "      <td>4091</td>\n",
       "      <td>-62.0</td>\n",
       "      <td>2</td>\n",
       "      <td>294.71</td>\n",
       "      <td>147.355000</td>\n",
       "      <td>0.00</td>\n",
       "      <td>0.0</td>\n",
       "      <td>0.080050</td>\n",
       "      <td>0.080050</td>\n",
       "      <td>529</td>\n",
       "      <td>22168.892675</td>\n",
       "    </tr>\n",
       "  </tbody>\n",
       "</table>\n",
       "<p>86 rows × 11 columns</p>\n",
       "</div>"
      ],
      "text/plain": [
       "      customer_id  recency  frequency  Sales_sum  Sales_mean  spend_90_total  \\\n",
       "1003         1004    -59.0          3     257.88   85.960000            0.00   \n",
       "1576         1577    -60.0          2      88.82   44.410000            0.00   \n",
       "5543         5544    -39.0          2      83.28   41.640000            0.00   \n",
       "1702         1703    -68.0          2      86.37   43.185000            0.00   \n",
       "5689         5690    -27.0          2      27.37   13.685000           11.88   \n",
       "...           ...      ...        ...        ...         ...             ...   \n",
       "3422         3423    -70.0          2      23.26   11.630000            0.00   \n",
       "980           981    -11.0          2     308.38  154.190000            0.00   \n",
       "6411         6412    -57.0          2     249.04  124.520000            0.00   \n",
       "2541         2542    -82.0          3      29.47    9.823333            0.00   \n",
       "4090         4091    -62.0          2     294.71  147.355000            0.00   \n",
       "\n",
       "      spend_90_flag  spend_pred  spend_prob  age           CLV  \n",
       "1003            0.0    0.198446    0.198446  541   4663.456906  \n",
       "1576            0.0    0.198344    0.198344  539    303.725590  \n",
       "5543            0.0    0.195349    0.195349  524    362.844573  \n",
       "1702            0.0    0.194745    0.194745  539     18.623398  \n",
       "5689            1.0    0.194067    0.194067  523     37.004754  \n",
       "...             ...         ...         ...  ...           ...  \n",
       "3422            0.0    0.102700    0.102700  532    153.506089  \n",
       "980             0.0    0.098869    0.098869  539   5184.427270  \n",
       "6411            0.0    0.096319    0.096319  521    389.720892  \n",
       "2541            0.0    0.088674    0.088674  520     64.829814  \n",
       "4090            0.0    0.080050    0.080050  529  22168.892675  \n",
       "\n",
       "[86 rows x 11 columns]"
      ]
     },
     "execution_count": 172,
     "metadata": {},
     "output_type": "execute_result"
    }
   ],
   "source": [
    "merged_df[merged_df[\"recency\"] > -90] \\\n",
    "    [\n",
    "    merged_df[\"spend_prob\"] < 0.20\n",
    "    ] \\\n",
    "    [\n",
    "    merged_df[\"age\"] >= 520\n",
    "    ] \\\n",
    "    .sort_values(\"spend_prob\", ascending=False)"
   ]
  },
  {
   "cell_type": "markdown",
   "id": "e697e774",
   "metadata": {},
   "source": [
    "**#Question 3:** Missed opportunities: We could unlock Big spenders \n",
    "- Send bundle offers  encouraging volume purchases \n",
    "- Focus on missed opportunities"
   ]
  },
  {
   "cell_type": "code",
   "execution_count": 173,
   "id": "9259171e",
   "metadata": {},
   "outputs": [
    {
     "data": {
      "text/html": [
       "<div>\n",
       "<style scoped>\n",
       "    .dataframe tbody tr th:only-of-type {\n",
       "        vertical-align: middle;\n",
       "    }\n",
       "\n",
       "    .dataframe tbody tr th {\n",
       "        vertical-align: top;\n",
       "    }\n",
       "\n",
       "    .dataframe thead th {\n",
       "        text-align: right;\n",
       "    }\n",
       "</style>\n",
       "<table border=\"1\" class=\"dataframe\">\n",
       "  <thead>\n",
       "    <tr style=\"text-align: right;\">\n",
       "      <th></th>\n",
       "      <th>customer_id</th>\n",
       "      <th>recency</th>\n",
       "      <th>frequency</th>\n",
       "      <th>Sales_sum</th>\n",
       "      <th>Sales_mean</th>\n",
       "      <th>spend_90_total</th>\n",
       "      <th>spend_90_flag</th>\n",
       "      <th>spend_pred</th>\n",
       "      <th>spend_prob</th>\n",
       "      <th>age</th>\n",
       "      <th>CLV</th>\n",
       "    </tr>\n",
       "  </thead>\n",
       "  <tbody>\n",
       "    <tr>\n",
       "      <th>4158</th>\n",
       "      <td>4159</td>\n",
       "      <td>-4.0</td>\n",
       "      <td>36</td>\n",
       "      <td>931.68</td>\n",
       "      <td>25.880000</td>\n",
       "      <td>0.0</td>\n",
       "      <td>0.0</td>\n",
       "      <td>0.873230</td>\n",
       "      <td>0.873230</td>\n",
       "      <td>528</td>\n",
       "      <td>3148.669908</td>\n",
       "    </tr>\n",
       "    <tr>\n",
       "      <th>5054</th>\n",
       "      <td>5055</td>\n",
       "      <td>-8.0</td>\n",
       "      <td>20</td>\n",
       "      <td>797.11</td>\n",
       "      <td>39.855500</td>\n",
       "      <td>0.0</td>\n",
       "      <td>0.0</td>\n",
       "      <td>0.844260</td>\n",
       "      <td>0.844260</td>\n",
       "      <td>526</td>\n",
       "      <td>10416.404470</td>\n",
       "    </tr>\n",
       "    <tr>\n",
       "      <th>4893</th>\n",
       "      <td>4894</td>\n",
       "      <td>-13.0</td>\n",
       "      <td>14</td>\n",
       "      <td>704.29</td>\n",
       "      <td>50.306429</td>\n",
       "      <td>0.0</td>\n",
       "      <td>0.0</td>\n",
       "      <td>0.842102</td>\n",
       "      <td>0.842102</td>\n",
       "      <td>526</td>\n",
       "      <td>4588.353755</td>\n",
       "    </tr>\n",
       "    <tr>\n",
       "      <th>13226</th>\n",
       "      <td>13227</td>\n",
       "      <td>-7.0</td>\n",
       "      <td>12</td>\n",
       "      <td>361.56</td>\n",
       "      <td>30.130000</td>\n",
       "      <td>0.0</td>\n",
       "      <td>0.0</td>\n",
       "      <td>0.836677</td>\n",
       "      <td>0.836677</td>\n",
       "      <td>498</td>\n",
       "      <td>251.137619</td>\n",
       "    </tr>\n",
       "    <tr>\n",
       "      <th>7322</th>\n",
       "      <td>7323</td>\n",
       "      <td>-10.0</td>\n",
       "      <td>22</td>\n",
       "      <td>827.28</td>\n",
       "      <td>37.603636</td>\n",
       "      <td>0.0</td>\n",
       "      <td>0.0</td>\n",
       "      <td>0.836131</td>\n",
       "      <td>0.836131</td>\n",
       "      <td>518</td>\n",
       "      <td>1342.231493</td>\n",
       "    </tr>\n",
       "    <tr>\n",
       "      <th>...</th>\n",
       "      <td>...</td>\n",
       "      <td>...</td>\n",
       "      <td>...</td>\n",
       "      <td>...</td>\n",
       "      <td>...</td>\n",
       "      <td>...</td>\n",
       "      <td>...</td>\n",
       "      <td>...</td>\n",
       "      <td>...</td>\n",
       "      <td>...</td>\n",
       "      <td>...</td>\n",
       "    </tr>\n",
       "    <tr>\n",
       "      <th>1150</th>\n",
       "      <td>1151</td>\n",
       "      <td>-451.0</td>\n",
       "      <td>1</td>\n",
       "      <td>96.41</td>\n",
       "      <td>96.410000</td>\n",
       "      <td>0.0</td>\n",
       "      <td>0.0</td>\n",
       "      <td>0.005448</td>\n",
       "      <td>0.005448</td>\n",
       "      <td>541</td>\n",
       "      <td>636.264920</td>\n",
       "    </tr>\n",
       "    <tr>\n",
       "      <th>6797</th>\n",
       "      <td>6798</td>\n",
       "      <td>-429.0</td>\n",
       "      <td>1</td>\n",
       "      <td>101.14</td>\n",
       "      <td>101.140000</td>\n",
       "      <td>0.0</td>\n",
       "      <td>0.0</td>\n",
       "      <td>0.005359</td>\n",
       "      <td>0.005359</td>\n",
       "      <td>519</td>\n",
       "      <td>519.151815</td>\n",
       "    </tr>\n",
       "    <tr>\n",
       "      <th>1371</th>\n",
       "      <td>1372</td>\n",
       "      <td>-450.0</td>\n",
       "      <td>1</td>\n",
       "      <td>106.99</td>\n",
       "      <td>106.990000</td>\n",
       "      <td>0.0</td>\n",
       "      <td>0.0</td>\n",
       "      <td>0.004934</td>\n",
       "      <td>0.004934</td>\n",
       "      <td>540</td>\n",
       "      <td>112.332247</td>\n",
       "    </tr>\n",
       "    <tr>\n",
       "      <th>816</th>\n",
       "      <td>817</td>\n",
       "      <td>-452.0</td>\n",
       "      <td>1</td>\n",
       "      <td>99.80</td>\n",
       "      <td>99.800000</td>\n",
       "      <td>0.0</td>\n",
       "      <td>0.0</td>\n",
       "      <td>0.004443</td>\n",
       "      <td>0.004443</td>\n",
       "      <td>542</td>\n",
       "      <td>790.364970</td>\n",
       "    </tr>\n",
       "    <tr>\n",
       "      <th>320</th>\n",
       "      <td>321</td>\n",
       "      <td>-454.0</td>\n",
       "      <td>1</td>\n",
       "      <td>103.05</td>\n",
       "      <td>103.050000</td>\n",
       "      <td>0.0</td>\n",
       "      <td>0.0</td>\n",
       "      <td>0.004240</td>\n",
       "      <td>0.004240</td>\n",
       "      <td>544</td>\n",
       "      <td>680.086091</td>\n",
       "    </tr>\n",
       "  </tbody>\n",
       "</table>\n",
       "<p>20253 rows × 11 columns</p>\n",
       "</div>"
      ],
      "text/plain": [
       "       customer_id  recency  frequency  Sales_sum  Sales_mean  spend_90_total  \\\n",
       "4158          4159     -4.0         36     931.68   25.880000             0.0   \n",
       "5054          5055     -8.0         20     797.11   39.855500             0.0   \n",
       "4893          4894    -13.0         14     704.29   50.306429             0.0   \n",
       "13226        13227     -7.0         12     361.56   30.130000             0.0   \n",
       "7322          7323    -10.0         22     827.28   37.603636             0.0   \n",
       "...            ...      ...        ...        ...         ...             ...   \n",
       "1150          1151   -451.0          1      96.41   96.410000             0.0   \n",
       "6797          6798   -429.0          1     101.14  101.140000             0.0   \n",
       "1371          1372   -450.0          1     106.99  106.990000             0.0   \n",
       "816            817   -452.0          1      99.80   99.800000             0.0   \n",
       "320            321   -454.0          1     103.05  103.050000             0.0   \n",
       "\n",
       "       spend_90_flag  spend_pred  spend_prob  age           CLV  \n",
       "4158             0.0    0.873230    0.873230  528   3148.669908  \n",
       "5054             0.0    0.844260    0.844260  526  10416.404470  \n",
       "4893             0.0    0.842102    0.842102  526   4588.353755  \n",
       "13226            0.0    0.836677    0.836677  498    251.137619  \n",
       "7322             0.0    0.836131    0.836131  518   1342.231493  \n",
       "...              ...         ...         ...  ...           ...  \n",
       "1150             0.0    0.005448    0.005448  541    636.264920  \n",
       "6797             0.0    0.005359    0.005359  519    519.151815  \n",
       "1371             0.0    0.004934    0.004934  540    112.332247  \n",
       "816              0.0    0.004443    0.004443  542    790.364970  \n",
       "320              0.0    0.004240    0.004240  544    680.086091  \n",
       "\n",
       "[20253 rows x 11 columns]"
      ]
     },
     "execution_count": 173,
     "metadata": {},
     "output_type": "execute_result"
    }
   ],
   "source": [
    "merged_df[merged_df[\"spend_90_total\"]== 0.0].sort_values(\"spend_pred\", ascending= False)"
   ]
  },
  {
   "cell_type": "code",
   "execution_count": 242,
   "id": "b46d6821",
   "metadata": {},
   "outputs": [
    {
     "data": {
      "text/html": [
       "<div>\n",
       "<style scoped>\n",
       "    .dataframe tbody tr th:only-of-type {\n",
       "        vertical-align: middle;\n",
       "    }\n",
       "\n",
       "    .dataframe tbody tr th {\n",
       "        vertical-align: top;\n",
       "    }\n",
       "\n",
       "    .dataframe thead th {\n",
       "        text-align: right;\n",
       "    }\n",
       "</style>\n",
       "<table border=\"1\" class=\"dataframe\">\n",
       "  <thead>\n",
       "    <tr style=\"text-align: right;\">\n",
       "      <th></th>\n",
       "      <th>customer_id</th>\n",
       "      <th>recency</th>\n",
       "      <th>frequency</th>\n",
       "      <th>Sales_sum</th>\n",
       "      <th>Sales_mean</th>\n",
       "      <th>spend_90_total</th>\n",
       "      <th>spend_90_flag</th>\n",
       "      <th>spend_pred</th>\n",
       "      <th>spend_prob</th>\n",
       "      <th>age</th>\n",
       "      <th>CLV</th>\n",
       "    </tr>\n",
       "  </thead>\n",
       "  <tbody>\n",
       "    <tr>\n",
       "      <th>14526</th>\n",
       "      <td>14527</td>\n",
       "      <td>-291.0</td>\n",
       "      <td>3</td>\n",
       "      <td>145.55</td>\n",
       "      <td>48.516667</td>\n",
       "      <td>0.0</td>\n",
       "      <td>0.0</td>\n",
       "      <td>0.360742</td>\n",
       "      <td>0.360742</td>\n",
       "      <td>494</td>\n",
       "      <td>2995.546594</td>\n",
       "    </tr>\n",
       "    <tr>\n",
       "      <th>11615</th>\n",
       "      <td>11616</td>\n",
       "      <td>-273.0</td>\n",
       "      <td>2</td>\n",
       "      <td>127.46</td>\n",
       "      <td>63.730000</td>\n",
       "      <td>0.0</td>\n",
       "      <td>0.0</td>\n",
       "      <td>0.346132</td>\n",
       "      <td>0.346132</td>\n",
       "      <td>504</td>\n",
       "      <td>204.565672</td>\n",
       "    </tr>\n",
       "    <tr>\n",
       "      <th>13652</th>\n",
       "      <td>13653</td>\n",
       "      <td>-291.0</td>\n",
       "      <td>3</td>\n",
       "      <td>153.69</td>\n",
       "      <td>51.230000</td>\n",
       "      <td>0.0</td>\n",
       "      <td>0.0</td>\n",
       "      <td>0.331473</td>\n",
       "      <td>0.331473</td>\n",
       "      <td>497</td>\n",
       "      <td>704.746498</td>\n",
       "    </tr>\n",
       "    <tr>\n",
       "      <th>16514</th>\n",
       "      <td>16515</td>\n",
       "      <td>-246.0</td>\n",
       "      <td>3</td>\n",
       "      <td>140.45</td>\n",
       "      <td>46.816667</td>\n",
       "      <td>0.0</td>\n",
       "      <td>0.0</td>\n",
       "      <td>0.302360</td>\n",
       "      <td>0.302360</td>\n",
       "      <td>487</td>\n",
       "      <td>238.412145</td>\n",
       "    </tr>\n",
       "  </tbody>\n",
       "</table>\n",
       "</div>"
      ],
      "text/plain": [
       "       customer_id  recency  frequency  Sales_sum  Sales_mean  spend_90_total  \\\n",
       "14526        14527   -291.0          3     145.55   48.516667             0.0   \n",
       "11615        11616   -273.0          2     127.46   63.730000             0.0   \n",
       "13652        13653   -291.0          3     153.69   51.230000             0.0   \n",
       "16514        16515   -246.0          3     140.45   46.816667             0.0   \n",
       "\n",
       "       spend_90_flag  spend_pred  spend_prob  age          CLV  \n",
       "14526            0.0    0.360742    0.360742  494  2995.546594  \n",
       "11615            0.0    0.346132    0.346132  504   204.565672  \n",
       "13652            0.0    0.331473    0.331473  497   704.746498  \n",
       "16514            0.0    0.302360    0.302360  487   238.412145  "
      ]
     },
     "execution_count": 242,
     "metadata": {},
     "output_type": "execute_result"
    }
   ],
   "source": [
    "# Investigate clusters\n",
    "\n",
    "cluster_0 = clustered_df[clustered_df[\"cluster\"]==0][\"customer_id\"].unique()\n",
    "cluster_1 = clustered_df[clustered_df[\"cluster\"]==1][\"customer_id\"].unique()\n",
    "cluster_2 = clustered_df[clustered_df[\"cluster\"]==2][\"customer_id\"].unique()\n",
    "cluster_3 = clustered_df[clustered_df[\"cluster\"]==3][\"customer_id\"].unique()\n",
    "\n",
    "\n",
    "\n",
    "cust_id_subset_df = merged_df[merged_df[\"recency\"] < -90] \\\n",
    "    [\n",
    "    merged_df[\"spend_prob\"] >= 0.30\n",
    "    ] \\\n",
    "    [\n",
    "    merged_df[\"customer_id\"].isin(cluster_0)\n",
    "    ] \\\n",
    "    .sort_values(\"spend_prob\", ascending=False)\n",
    "\n",
    "\n",
    "cust_id_subset_df"
   ]
  },
  {
   "cell_type": "markdown",
   "id": "756c26b3",
   "metadata": {},
   "source": [
    "# Cohort Analysis"
   ]
  },
  {
   "cell_type": "code",
   "execution_count": null,
   "id": "8875e91f",
   "metadata": {},
   "outputs": [],
   "source": []
  }
 ],
 "metadata": {
  "kernelspec": {
   "display_name": "Python 3 (ipykernel)",
   "language": "python",
   "name": "python3"
  },
  "language_info": {
   "codemirror_mode": {
    "name": "ipython",
    "version": 3
   },
   "file_extension": ".py",
   "mimetype": "text/x-python",
   "name": "python",
   "nbconvert_exporter": "python",
   "pygments_lexer": "ipython3",
   "version": "3.10.6"
  },
  "toc": {
   "base_numbering": 1,
   "nav_menu": {},
   "number_sections": true,
   "sideBar": true,
   "skip_h1_title": false,
   "title_cell": "Table of Contents",
   "title_sidebar": "Contents",
   "toc_cell": false,
   "toc_position": {},
   "toc_section_display": true,
   "toc_window_display": true
  }
 },
 "nbformat": 4,
 "nbformat_minor": 5
}
